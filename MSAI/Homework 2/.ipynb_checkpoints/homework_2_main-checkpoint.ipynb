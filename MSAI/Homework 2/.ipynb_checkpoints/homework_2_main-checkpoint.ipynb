{
 "cells": [
  {
   "cell_type": "markdown",
   "metadata": {
    "id": "rua4Az6SX9zH"
   },
   "source": [
    "# Deep Q-Network implementation.\n",
    "\n",
    "This homework shamelessly demands you to implement DQN — an approximate Q-learning algorithm with experience replay and target networks — and see if it works any better this way.\n",
    "\n",
    "Original paper:\n",
    "https://arxiv.org/pdf/1312.5602.pdf"
   ]
  },
  {
   "cell_type": "markdown",
   "metadata": {
    "id": "t3YC7j-5YD4L"
   },
   "source": [
    "Acknowledgements for this homework to the [Practical_RL](https://github.com/yandexdataschool/Practical_RL) course team."
   ]
  },
  {
   "cell_type": "markdown",
   "metadata": {
    "id": "AXWuyam-X9zP"
   },
   "source": [
    "**This notebook is the main notebook.** Another notebook is given for debug. (**homework_pytorch_main**). The tasks are similar and share most of the code. The main difference is in environments. In main notebook it can take some 2 hours for the agent to start improving so it seems reasonable to launch the algorithm on a simpler env first. In debug one it is CartPole and it will train in several minutes.\n",
    "\n",
    "**We suggest the following pipeline:** First implement debug notebook then implement the main one.\n",
    "\n",
    "**About evaluation:** All points are given for the main notebook with one exception: if agent fails to beat the threshold in main notebook you can get 1 pt (instead of 3 pts) for beating the threshold in debug notebook."
   ]
  },
  {
   "cell_type": "code",
   "execution_count": 1,
   "metadata": {
    "colab": {
     "base_uri": "https://localhost:8080/"
    },
    "id": "UCLFgMw9X9zS",
    "outputId": "2de6af0a-b392-4e4a-9b77-ad3d53b01145"
   },
   "outputs": [],
   "source": [
    "import sys, os\n",
    "if 'google.colab' in sys.modules and not os.path.exists('.setup_complete'):\n",
    "    !wget -q https://raw.githubusercontent.com/yandexdataschool/Practical_RL/master/setup_colab.sh -O- | bash\n",
    "        \n",
    "    !wget -q https://raw.githubusercontent.com/yandexdataschool/Practical_RL/master/week04_approx_rl/atari_wrappers.py\n",
    "    !wget -q https://raw.githubusercontent.com/yandexdataschool/Practical_RL/master/week04_approx_rl/utils.py\n",
    "    !wget -q https://raw.githubusercontent.com/yandexdataschool/Practical_RL/master/week04_approx_rl/replay_buffer.py\n",
    "    !wget -q https://raw.githubusercontent.com/yandexdataschool/Practical_RL/master/week04_approx_rl/framebuffer.py\n",
    "\n",
    "    !touch .setup_complete\n",
    "\n",
    "# This code creates a virtual display to draw game images on.\n",
    "# It will have no effect if your machine has a monitor.\n",
    "if type(os.environ.get(\"DISPLAY\")) is not str or len(os.environ.get(\"DISPLAY\")) == 0:\n",
    "    !bash ../xvfb start\n",
    "    os.environ['DISPLAY'] = ':1'"
   ]
  },
  {
   "cell_type": "markdown",
   "metadata": {
    "id": "GhBCDTlEX9zW"
   },
   "source": [
    "__Frameworks__ - we'll accept this homework in any deep learning framework. This particular notebook was designed for PyTorch, but you find it easy to adapt it to almost any Python-based deep learning framework."
   ]
  },
  {
   "cell_type": "code",
   "execution_count": 2,
   "metadata": {
    "colab": {
     "base_uri": "https://localhost:8080/"
    },
    "id": "Ob5dAYnH4d7h",
    "outputId": "4627471d-1671-4481-c6d1-257e62180e9e"
   },
   "outputs": [
    {
     "name": "stdout",
     "output_type": "stream",
     "text": [
      "Collecting atari-py==0.2.5\n",
      "  Using cached atari-py-0.2.5.tar.gz (790 kB)\n",
      "  Preparing metadata (setup.py) ... \u001b[?25ldone\n",
      "\u001b[?25hRequirement already satisfied: numpy in /home/artem/anaconda3/envs/MSAIRL/lib/python3.10/site-packages (from atari-py==0.2.5) (1.23.5)\n",
      "Requirement already satisfied: six in /home/artem/anaconda3/envs/MSAIRL/lib/python3.10/site-packages (from atari-py==0.2.5) (1.16.0)\n",
      "Building wheels for collected packages: atari-py\n",
      "  Building wheel for atari-py (setup.py) ... \u001b[?25lerror\n",
      "  \u001b[1;31merror\u001b[0m: \u001b[1msubprocess-exited-with-error\u001b[0m\n",
      "  \n",
      "  \u001b[31m×\u001b[0m \u001b[32mpython setup.py bdist_wheel\u001b[0m did not run successfully.\n",
      "  \u001b[31m│\u001b[0m exit code: \u001b[1;36m1\u001b[0m\n",
      "  \u001b[31m╰─>\u001b[0m \u001b[31m[511 lines of output]\u001b[0m\n",
      "  \u001b[31m   \u001b[0m running bdist_wheel\n",
      "  \u001b[31m   \u001b[0m running build\n",
      "  \u001b[31m   \u001b[0m running build_py\n",
      "  \u001b[31m   \u001b[0m creating build\n",
      "  \u001b[31m   \u001b[0m creating build/lib.linux-x86_64-cpython-310\n",
      "  \u001b[31m   \u001b[0m creating build/lib.linux-x86_64-cpython-310/atari_py\n",
      "  \u001b[31m   \u001b[0m copying atari_py/__init__.py -> build/lib.linux-x86_64-cpython-310/atari_py\n",
      "  \u001b[31m   \u001b[0m copying atari_py/ale_python_interface.py -> build/lib.linux-x86_64-cpython-310/atari_py\n",
      "  \u001b[31m   \u001b[0m copying atari_py/ale_c_wrapper.cpp -> build/lib.linux-x86_64-cpython-310/atari_py\n",
      "  \u001b[31m   \u001b[0m copying atari_py/ale_c_wrapper.h -> build/lib.linux-x86_64-cpython-310/atari_py\n",
      "  \u001b[31m   \u001b[0m creating build/lib.linux-x86_64-cpython-310/atari_py/ale_interface\n",
      "  \u001b[31m   \u001b[0m copying atari_py/ale_interface/CMakeLists.txt -> build/lib.linux-x86_64-cpython-310/atari_py/ale_interface\n",
      "  \u001b[31m   \u001b[0m creating build/lib.linux-x86_64-cpython-310/atari_py/ale_interface/src\n",
      "  \u001b[31m   \u001b[0m copying atari_py/ale_interface/src/ale_interface.cpp -> build/lib.linux-x86_64-cpython-310/atari_py/ale_interface/src\n",
      "  \u001b[31m   \u001b[0m copying atari_py/ale_interface/src/ale_interface.hpp -> build/lib.linux-x86_64-cpython-310/atari_py/ale_interface/src\n",
      "  \u001b[31m   \u001b[0m creating build/lib.linux-x86_64-cpython-310/atari_py/ale_interface/src/common\n",
      "  \u001b[31m   \u001b[0m copying atari_py/ale_interface/src/common/Array.hxx -> build/lib.linux-x86_64-cpython-310/atari_py/ale_interface/src/common\n",
      "  \u001b[31m   \u001b[0m copying atari_py/ale_interface/src/common/ColourPalette.cpp -> build/lib.linux-x86_64-cpython-310/atari_py/ale_interface/src/common\n",
      "  \u001b[31m   \u001b[0m copying atari_py/ale_interface/src/common/ColourPalette.hpp -> build/lib.linux-x86_64-cpython-310/atari_py/ale_interface/src/common\n",
      "  \u001b[31m   \u001b[0m copying atari_py/ale_interface/src/common/Constants.cpp -> build/lib.linux-x86_64-cpython-310/atari_py/ale_interface/src/common\n",
      "  \u001b[31m   \u001b[0m copying atari_py/ale_interface/src/common/Constants.h -> build/lib.linux-x86_64-cpython-310/atari_py/ale_interface/src/common\n",
      "  \u001b[31m   \u001b[0m copying atari_py/ale_interface/src/common/Log.cpp -> build/lib.linux-x86_64-cpython-310/atari_py/ale_interface/src/common\n",
      "  \u001b[31m   \u001b[0m copying atari_py/ale_interface/src/common/Log.hpp -> build/lib.linux-x86_64-cpython-310/atari_py/ale_interface/src/common\n",
      "  \u001b[31m   \u001b[0m copying atari_py/ale_interface/src/common/Palettes.hpp -> build/lib.linux-x86_64-cpython-310/atari_py/ale_interface/src/common\n",
      "  \u001b[31m   \u001b[0m copying atari_py/ale_interface/src/common/ScreenExporter.cpp -> build/lib.linux-x86_64-cpython-310/atari_py/ale_interface/src/common\n",
      "  \u001b[31m   \u001b[0m copying atari_py/ale_interface/src/common/ScreenExporter.hpp -> build/lib.linux-x86_64-cpython-310/atari_py/ale_interface/src/common\n",
      "  \u001b[31m   \u001b[0m copying atari_py/ale_interface/src/common/SoundExporter.cpp -> build/lib.linux-x86_64-cpython-310/atari_py/ale_interface/src/common\n",
      "  \u001b[31m   \u001b[0m copying atari_py/ale_interface/src/common/SoundExporter.hpp -> build/lib.linux-x86_64-cpython-310/atari_py/ale_interface/src/common\n",
      "  \u001b[31m   \u001b[0m copying atari_py/ale_interface/src/common/SoundNull.cxx -> build/lib.linux-x86_64-cpython-310/atari_py/ale_interface/src/common\n",
      "  \u001b[31m   \u001b[0m copying atari_py/ale_interface/src/common/SoundNull.hxx -> build/lib.linux-x86_64-cpython-310/atari_py/ale_interface/src/common\n",
      "  \u001b[31m   \u001b[0m copying atari_py/ale_interface/src/common/SoundSDL.cxx -> build/lib.linux-x86_64-cpython-310/atari_py/ale_interface/src/common\n",
      "  \u001b[31m   \u001b[0m copying atari_py/ale_interface/src/common/SoundSDL.hxx -> build/lib.linux-x86_64-cpython-310/atari_py/ale_interface/src/common\n",
      "  \u001b[31m   \u001b[0m copying atari_py/ale_interface/src/common/Version.hxx -> build/lib.linux-x86_64-cpython-310/atari_py/ale_interface/src/common\n",
      "  \u001b[31m   \u001b[0m copying atari_py/ale_interface/src/common/VideoModeList.hxx -> build/lib.linux-x86_64-cpython-310/atari_py/ale_interface/src/common\n",
      "  \u001b[31m   \u001b[0m copying atari_py/ale_interface/src/common/display_screen.cpp -> build/lib.linux-x86_64-cpython-310/atari_py/ale_interface/src/common\n",
      "  \u001b[31m   \u001b[0m copying atari_py/ale_interface/src/common/display_screen.h -> build/lib.linux-x86_64-cpython-310/atari_py/ale_interface/src/common\n",
      "  \u001b[31m   \u001b[0m copying atari_py/ale_interface/src/common/misc_tools.h -> build/lib.linux-x86_64-cpython-310/atari_py/ale_interface/src/common\n",
      "  \u001b[31m   \u001b[0m copying atari_py/ale_interface/src/common/module.mk -> build/lib.linux-x86_64-cpython-310/atari_py/ale_interface/src/common\n",
      "  \u001b[31m   \u001b[0m copying atari_py/ale_interface/src/common/stella.png -> build/lib.linux-x86_64-cpython-310/atari_py/ale_interface/src/common\n",
      "  \u001b[31m   \u001b[0m copying atari_py/ale_interface/src/common/stella.xpm -> build/lib.linux-x86_64-cpython-310/atari_py/ale_interface/src/common\n",
      "  \u001b[31m   \u001b[0m creating build/lib.linux-x86_64-cpython-310/atari_py/ale_interface/src/controllers\n",
      "  \u001b[31m   \u001b[0m copying atari_py/ale_interface/src/controllers/ale_controller.cpp -> build/lib.linux-x86_64-cpython-310/atari_py/ale_interface/src/controllers\n",
      "  \u001b[31m   \u001b[0m copying atari_py/ale_interface/src/controllers/ale_controller.hpp -> build/lib.linux-x86_64-cpython-310/atari_py/ale_interface/src/controllers\n",
      "  \u001b[31m   \u001b[0m copying atari_py/ale_interface/src/controllers/fifo_controller.cpp -> build/lib.linux-x86_64-cpython-310/atari_py/ale_interface/src/controllers\n",
      "  \u001b[31m   \u001b[0m copying atari_py/ale_interface/src/controllers/fifo_controller.hpp -> build/lib.linux-x86_64-cpython-310/atari_py/ale_interface/src/controllers\n",
      "  \u001b[31m   \u001b[0m copying atari_py/ale_interface/src/controllers/module.mk -> build/lib.linux-x86_64-cpython-310/atari_py/ale_interface/src/controllers\n",
      "  \u001b[31m   \u001b[0m copying atari_py/ale_interface/src/controllers/rlglue_controller.cpp -> build/lib.linux-x86_64-cpython-310/atari_py/ale_interface/src/controllers\n",
      "  \u001b[31m   \u001b[0m copying atari_py/ale_interface/src/controllers/rlglue_controller.hpp -> build/lib.linux-x86_64-cpython-310/atari_py/ale_interface/src/controllers\n",
      "  \u001b[31m   \u001b[0m creating build/lib.linux-x86_64-cpython-310/atari_py/ale_interface/src/emucore\n",
      "  \u001b[31m   \u001b[0m copying atari_py/ale_interface/src/emucore/AtariVox.cxx -> build/lib.linux-x86_64-cpython-310/atari_py/ale_interface/src/emucore\n",
      "  \u001b[31m   \u001b[0m copying atari_py/ale_interface/src/emucore/AtariVox.hxx -> build/lib.linux-x86_64-cpython-310/atari_py/ale_interface/src/emucore\n",
      "  \u001b[31m   \u001b[0m copying atari_py/ale_interface/src/emucore/Booster.cxx -> build/lib.linux-x86_64-cpython-310/atari_py/ale_interface/src/emucore\n",
      "  \u001b[31m   \u001b[0m copying atari_py/ale_interface/src/emucore/Booster.hxx -> build/lib.linux-x86_64-cpython-310/atari_py/ale_interface/src/emucore\n",
      "  \u001b[31m   \u001b[0m copying atari_py/ale_interface/src/emucore/Cart.cxx -> build/lib.linux-x86_64-cpython-310/atari_py/ale_interface/src/emucore\n",
      "  \u001b[31m   \u001b[0m copying atari_py/ale_interface/src/emucore/Cart.hxx -> build/lib.linux-x86_64-cpython-310/atari_py/ale_interface/src/emucore\n",
      "  \u001b[31m   \u001b[0m copying atari_py/ale_interface/src/emucore/Cart0840.cxx -> build/lib.linux-x86_64-cpython-310/atari_py/ale_interface/src/emucore\n",
      "  \u001b[31m   \u001b[0m copying atari_py/ale_interface/src/emucore/Cart0840.hxx -> build/lib.linux-x86_64-cpython-310/atari_py/ale_interface/src/emucore\n",
      "  \u001b[31m   \u001b[0m copying atari_py/ale_interface/src/emucore/Cart2K.cxx -> build/lib.linux-x86_64-cpython-310/atari_py/ale_interface/src/emucore\n",
      "  \u001b[31m   \u001b[0m copying atari_py/ale_interface/src/emucore/Cart2K.hxx -> build/lib.linux-x86_64-cpython-310/atari_py/ale_interface/src/emucore\n",
      "  \u001b[31m   \u001b[0m copying atari_py/ale_interface/src/emucore/Cart3E.cxx -> build/lib.linux-x86_64-cpython-310/atari_py/ale_interface/src/emucore\n",
      "  \u001b[31m   \u001b[0m copying atari_py/ale_interface/src/emucore/Cart3E.hxx -> build/lib.linux-x86_64-cpython-310/atari_py/ale_interface/src/emucore\n",
      "  \u001b[31m   \u001b[0m copying atari_py/ale_interface/src/emucore/Cart3F.cxx -> build/lib.linux-x86_64-cpython-310/atari_py/ale_interface/src/emucore\n",
      "  \u001b[31m   \u001b[0m copying atari_py/ale_interface/src/emucore/Cart3F.hxx -> build/lib.linux-x86_64-cpython-310/atari_py/ale_interface/src/emucore\n",
      "  \u001b[31m   \u001b[0m copying atari_py/ale_interface/src/emucore/Cart4A50.cxx -> build/lib.linux-x86_64-cpython-310/atari_py/ale_interface/src/emucore\n",
      "  \u001b[31m   \u001b[0m copying atari_py/ale_interface/src/emucore/Cart4A50.hxx -> build/lib.linux-x86_64-cpython-310/atari_py/ale_interface/src/emucore\n",
      "  \u001b[31m   \u001b[0m copying atari_py/ale_interface/src/emucore/Cart4K.cxx -> build/lib.linux-x86_64-cpython-310/atari_py/ale_interface/src/emucore\n",
      "  \u001b[31m   \u001b[0m copying atari_py/ale_interface/src/emucore/Cart4K.hxx -> build/lib.linux-x86_64-cpython-310/atari_py/ale_interface/src/emucore\n",
      "  \u001b[31m   \u001b[0m copying atari_py/ale_interface/src/emucore/CartAR.cxx -> build/lib.linux-x86_64-cpython-310/atari_py/ale_interface/src/emucore\n",
      "  \u001b[31m   \u001b[0m copying atari_py/ale_interface/src/emucore/CartAR.hxx -> build/lib.linux-x86_64-cpython-310/atari_py/ale_interface/src/emucore\n",
      "  \u001b[31m   \u001b[0m copying atari_py/ale_interface/src/emucore/CartCV.cxx -> build/lib.linux-x86_64-cpython-310/atari_py/ale_interface/src/emucore\n",
      "  \u001b[31m   \u001b[0m copying atari_py/ale_interface/src/emucore/CartCV.hxx -> build/lib.linux-x86_64-cpython-310/atari_py/ale_interface/src/emucore\n",
      "  \u001b[31m   \u001b[0m copying atari_py/ale_interface/src/emucore/CartDPC.cxx -> build/lib.linux-x86_64-cpython-310/atari_py/ale_interface/src/emucore\n",
      "  \u001b[31m   \u001b[0m copying atari_py/ale_interface/src/emucore/CartDPC.hxx -> build/lib.linux-x86_64-cpython-310/atari_py/ale_interface/src/emucore\n",
      "  \u001b[31m   \u001b[0m copying atari_py/ale_interface/src/emucore/CartE0.cxx -> build/lib.linux-x86_64-cpython-310/atari_py/ale_interface/src/emucore\n",
      "  \u001b[31m   \u001b[0m copying atari_py/ale_interface/src/emucore/CartE0.hxx -> build/lib.linux-x86_64-cpython-310/atari_py/ale_interface/src/emucore\n",
      "  \u001b[31m   \u001b[0m copying atari_py/ale_interface/src/emucore/CartE7.cxx -> build/lib.linux-x86_64-cpython-310/atari_py/ale_interface/src/emucore\n",
      "  \u001b[31m   \u001b[0m copying atari_py/ale_interface/src/emucore/CartE7.hxx -> build/lib.linux-x86_64-cpython-310/atari_py/ale_interface/src/emucore\n",
      "  \u001b[31m   \u001b[0m copying atari_py/ale_interface/src/emucore/CartF4.cxx -> build/lib.linux-x86_64-cpython-310/atari_py/ale_interface/src/emucore\n",
      "  \u001b[31m   \u001b[0m copying atari_py/ale_interface/src/emucore/CartF4.hxx -> build/lib.linux-x86_64-cpython-310/atari_py/ale_interface/src/emucore\n",
      "  \u001b[31m   \u001b[0m copying atari_py/ale_interface/src/emucore/CartF4SC.cxx -> build/lib.linux-x86_64-cpython-310/atari_py/ale_interface/src/emucore\n",
      "  \u001b[31m   \u001b[0m copying atari_py/ale_interface/src/emucore/CartF4SC.hxx -> build/lib.linux-x86_64-cpython-310/atari_py/ale_interface/src/emucore\n",
      "  \u001b[31m   \u001b[0m copying atari_py/ale_interface/src/emucore/CartF6.cxx -> build/lib.linux-x86_64-cpython-310/atari_py/ale_interface/src/emucore\n",
      "  \u001b[31m   \u001b[0m copying atari_py/ale_interface/src/emucore/CartF6.hxx -> build/lib.linux-x86_64-cpython-310/atari_py/ale_interface/src/emucore\n",
      "  \u001b[31m   \u001b[0m copying atari_py/ale_interface/src/emucore/CartF6SC.cxx -> build/lib.linux-x86_64-cpython-310/atari_py/ale_interface/src/emucore\n",
      "  \u001b[31m   \u001b[0m copying atari_py/ale_interface/src/emucore/CartF6SC.hxx -> build/lib.linux-x86_64-cpython-310/atari_py/ale_interface/src/emucore\n",
      "  \u001b[31m   \u001b[0m copying atari_py/ale_interface/src/emucore/CartF8.cxx -> build/lib.linux-x86_64-cpython-310/atari_py/ale_interface/src/emucore\n",
      "  \u001b[31m   \u001b[0m copying atari_py/ale_interface/src/emucore/CartF8.hxx -> build/lib.linux-x86_64-cpython-310/atari_py/ale_interface/src/emucore\n",
      "  \u001b[31m   \u001b[0m copying atari_py/ale_interface/src/emucore/CartF8SC.cxx -> build/lib.linux-x86_64-cpython-310/atari_py/ale_interface/src/emucore\n",
      "  \u001b[31m   \u001b[0m copying atari_py/ale_interface/src/emucore/CartF8SC.hxx -> build/lib.linux-x86_64-cpython-310/atari_py/ale_interface/src/emucore\n",
      "  \u001b[31m   \u001b[0m copying atari_py/ale_interface/src/emucore/CartFASC.cxx -> build/lib.linux-x86_64-cpython-310/atari_py/ale_interface/src/emucore\n",
      "  \u001b[31m   \u001b[0m copying atari_py/ale_interface/src/emucore/CartFASC.hxx -> build/lib.linux-x86_64-cpython-310/atari_py/ale_interface/src/emucore\n",
      "  \u001b[31m   \u001b[0m copying atari_py/ale_interface/src/emucore/CartFE.cxx -> build/lib.linux-x86_64-cpython-310/atari_py/ale_interface/src/emucore\n",
      "  \u001b[31m   \u001b[0m copying atari_py/ale_interface/src/emucore/CartFE.hxx -> build/lib.linux-x86_64-cpython-310/atari_py/ale_interface/src/emucore\n",
      "  \u001b[31m   \u001b[0m copying atari_py/ale_interface/src/emucore/CartMB.cxx -> build/lib.linux-x86_64-cpython-310/atari_py/ale_interface/src/emucore\n",
      "  \u001b[31m   \u001b[0m copying atari_py/ale_interface/src/emucore/CartMB.hxx -> build/lib.linux-x86_64-cpython-310/atari_py/ale_interface/src/emucore\n",
      "  \u001b[31m   \u001b[0m copying atari_py/ale_interface/src/emucore/CartMC.cxx -> build/lib.linux-x86_64-cpython-310/atari_py/ale_interface/src/emucore\n",
      "  \u001b[31m   \u001b[0m copying atari_py/ale_interface/src/emucore/CartMC.hxx -> build/lib.linux-x86_64-cpython-310/atari_py/ale_interface/src/emucore\n",
      "  \u001b[31m   \u001b[0m copying atari_py/ale_interface/src/emucore/CartUA.cxx -> build/lib.linux-x86_64-cpython-310/atari_py/ale_interface/src/emucore\n",
      "  \u001b[31m   \u001b[0m copying atari_py/ale_interface/src/emucore/CartUA.hxx -> build/lib.linux-x86_64-cpython-310/atari_py/ale_interface/src/emucore\n",
      "  \u001b[31m   \u001b[0m copying atari_py/ale_interface/src/emucore/Console.cxx -> build/lib.linux-x86_64-cpython-310/atari_py/ale_interface/src/emucore\n",
      "  \u001b[31m   \u001b[0m copying atari_py/ale_interface/src/emucore/Console.hxx -> build/lib.linux-x86_64-cpython-310/atari_py/ale_interface/src/emucore\n",
      "  \u001b[31m   \u001b[0m copying atari_py/ale_interface/src/emucore/Control.cxx -> build/lib.linux-x86_64-cpython-310/atari_py/ale_interface/src/emucore\n",
      "  \u001b[31m   \u001b[0m copying atari_py/ale_interface/src/emucore/Control.hxx -> build/lib.linux-x86_64-cpython-310/atari_py/ale_interface/src/emucore\n",
      "  \u001b[31m   \u001b[0m copying atari_py/ale_interface/src/emucore/DefProps.hxx -> build/lib.linux-x86_64-cpython-310/atari_py/ale_interface/src/emucore\n",
      "  \u001b[31m   \u001b[0m copying atari_py/ale_interface/src/emucore/Deserializer.cxx -> build/lib.linux-x86_64-cpython-310/atari_py/ale_interface/src/emucore\n",
      "  \u001b[31m   \u001b[0m copying atari_py/ale_interface/src/emucore/Deserializer.hxx -> build/lib.linux-x86_64-cpython-310/atari_py/ale_interface/src/emucore\n",
      "  \u001b[31m   \u001b[0m copying atari_py/ale_interface/src/emucore/Driving.cxx -> build/lib.linux-x86_64-cpython-310/atari_py/ale_interface/src/emucore\n",
      "  \u001b[31m   \u001b[0m copying atari_py/ale_interface/src/emucore/Driving.hxx -> build/lib.linux-x86_64-cpython-310/atari_py/ale_interface/src/emucore\n",
      "  \u001b[31m   \u001b[0m copying atari_py/ale_interface/src/emucore/Event.cxx -> build/lib.linux-x86_64-cpython-310/atari_py/ale_interface/src/emucore\n",
      "  \u001b[31m   \u001b[0m copying atari_py/ale_interface/src/emucore/Event.hxx -> build/lib.linux-x86_64-cpython-310/atari_py/ale_interface/src/emucore\n",
      "  \u001b[31m   \u001b[0m copying atari_py/ale_interface/src/emucore/FSNode.cxx -> build/lib.linux-x86_64-cpython-310/atari_py/ale_interface/src/emucore\n",
      "  \u001b[31m   \u001b[0m copying atari_py/ale_interface/src/emucore/FSNode.hxx -> build/lib.linux-x86_64-cpython-310/atari_py/ale_interface/src/emucore\n",
      "  \u001b[31m   \u001b[0m copying atari_py/ale_interface/src/emucore/Joystick.cxx -> build/lib.linux-x86_64-cpython-310/atari_py/ale_interface/src/emucore\n",
      "  \u001b[31m   \u001b[0m copying atari_py/ale_interface/src/emucore/Joystick.hxx -> build/lib.linux-x86_64-cpython-310/atari_py/ale_interface/src/emucore\n",
      "  \u001b[31m   \u001b[0m copying atari_py/ale_interface/src/emucore/Keyboard.cxx -> build/lib.linux-x86_64-cpython-310/atari_py/ale_interface/src/emucore\n",
      "  \u001b[31m   \u001b[0m copying atari_py/ale_interface/src/emucore/Keyboard.hxx -> build/lib.linux-x86_64-cpython-310/atari_py/ale_interface/src/emucore\n",
      "  \u001b[31m   \u001b[0m copying atari_py/ale_interface/src/emucore/M6532.cxx -> build/lib.linux-x86_64-cpython-310/atari_py/ale_interface/src/emucore\n",
      "  \u001b[31m   \u001b[0m copying atari_py/ale_interface/src/emucore/M6532.hxx -> build/lib.linux-x86_64-cpython-310/atari_py/ale_interface/src/emucore\n",
      "  \u001b[31m   \u001b[0m copying atari_py/ale_interface/src/emucore/MD5.cxx -> build/lib.linux-x86_64-cpython-310/atari_py/ale_interface/src/emucore\n",
      "  \u001b[31m   \u001b[0m copying atari_py/ale_interface/src/emucore/MD5.hxx -> build/lib.linux-x86_64-cpython-310/atari_py/ale_interface/src/emucore\n",
      "  \u001b[31m   \u001b[0m copying atari_py/ale_interface/src/emucore/MediaSrc.cxx -> build/lib.linux-x86_64-cpython-310/atari_py/ale_interface/src/emucore\n",
      "  \u001b[31m   \u001b[0m copying atari_py/ale_interface/src/emucore/MediaSrc.hxx -> build/lib.linux-x86_64-cpython-310/atari_py/ale_interface/src/emucore\n",
      "  \u001b[31m   \u001b[0m copying atari_py/ale_interface/src/emucore/OSystem.cxx -> build/lib.linux-x86_64-cpython-310/atari_py/ale_interface/src/emucore\n",
      "  \u001b[31m   \u001b[0m copying atari_py/ale_interface/src/emucore/OSystem.hxx -> build/lib.linux-x86_64-cpython-310/atari_py/ale_interface/src/emucore\n",
      "  \u001b[31m   \u001b[0m copying atari_py/ale_interface/src/emucore/Paddles.cxx -> build/lib.linux-x86_64-cpython-310/atari_py/ale_interface/src/emucore\n",
      "  \u001b[31m   \u001b[0m copying atari_py/ale_interface/src/emucore/Paddles.hxx -> build/lib.linux-x86_64-cpython-310/atari_py/ale_interface/src/emucore\n",
      "  \u001b[31m   \u001b[0m copying atari_py/ale_interface/src/emucore/Props.cxx -> build/lib.linux-x86_64-cpython-310/atari_py/ale_interface/src/emucore\n",
      "  \u001b[31m   \u001b[0m copying atari_py/ale_interface/src/emucore/Props.hxx -> build/lib.linux-x86_64-cpython-310/atari_py/ale_interface/src/emucore\n",
      "  \u001b[31m   \u001b[0m copying atari_py/ale_interface/src/emucore/PropsSet.cxx -> build/lib.linux-x86_64-cpython-310/atari_py/ale_interface/src/emucore\n",
      "  \u001b[31m   \u001b[0m copying atari_py/ale_interface/src/emucore/PropsSet.hxx -> build/lib.linux-x86_64-cpython-310/atari_py/ale_interface/src/emucore\n",
      "  \u001b[31m   \u001b[0m copying atari_py/ale_interface/src/emucore/Random.cxx -> build/lib.linux-x86_64-cpython-310/atari_py/ale_interface/src/emucore\n",
      "  \u001b[31m   \u001b[0m copying atari_py/ale_interface/src/emucore/Random.hxx -> build/lib.linux-x86_64-cpython-310/atari_py/ale_interface/src/emucore\n",
      "  \u001b[31m   \u001b[0m copying atari_py/ale_interface/src/emucore/Serializer.cxx -> build/lib.linux-x86_64-cpython-310/atari_py/ale_interface/src/emucore\n",
      "  \u001b[31m   \u001b[0m copying atari_py/ale_interface/src/emucore/Serializer.hxx -> build/lib.linux-x86_64-cpython-310/atari_py/ale_interface/src/emucore\n",
      "  \u001b[31m   \u001b[0m copying atari_py/ale_interface/src/emucore/Settings.cxx -> build/lib.linux-x86_64-cpython-310/atari_py/ale_interface/src/emucore\n",
      "  \u001b[31m   \u001b[0m copying atari_py/ale_interface/src/emucore/Settings.hxx -> build/lib.linux-x86_64-cpython-310/atari_py/ale_interface/src/emucore\n",
      "  \u001b[31m   \u001b[0m copying atari_py/ale_interface/src/emucore/Sound.hxx -> build/lib.linux-x86_64-cpython-310/atari_py/ale_interface/src/emucore\n",
      "  \u001b[31m   \u001b[0m copying atari_py/ale_interface/src/emucore/SpeakJet.cxx -> build/lib.linux-x86_64-cpython-310/atari_py/ale_interface/src/emucore\n",
      "  \u001b[31m   \u001b[0m copying atari_py/ale_interface/src/emucore/SpeakJet.hxx -> build/lib.linux-x86_64-cpython-310/atari_py/ale_interface/src/emucore\n",
      "  \u001b[31m   \u001b[0m copying atari_py/ale_interface/src/emucore/Switches.cxx -> build/lib.linux-x86_64-cpython-310/atari_py/ale_interface/src/emucore\n",
      "  \u001b[31m   \u001b[0m copying atari_py/ale_interface/src/emucore/Switches.hxx -> build/lib.linux-x86_64-cpython-310/atari_py/ale_interface/src/emucore\n",
      "  \u001b[31m   \u001b[0m copying atari_py/ale_interface/src/emucore/TIA.cxx -> build/lib.linux-x86_64-cpython-310/atari_py/ale_interface/src/emucore\n",
      "  \u001b[31m   \u001b[0m copying atari_py/ale_interface/src/emucore/TIA.hxx -> build/lib.linux-x86_64-cpython-310/atari_py/ale_interface/src/emucore\n",
      "  \u001b[31m   \u001b[0m copying atari_py/ale_interface/src/emucore/TIASnd.cxx -> build/lib.linux-x86_64-cpython-310/atari_py/ale_interface/src/emucore\n",
      "  \u001b[31m   \u001b[0m copying atari_py/ale_interface/src/emucore/TIASnd.hxx -> build/lib.linux-x86_64-cpython-310/atari_py/ale_interface/src/emucore\n",
      "  \u001b[31m   \u001b[0m creating build/lib.linux-x86_64-cpython-310/atari_py/ale_interface/src/emucore/m6502\n",
      "  \u001b[31m   \u001b[0m copying atari_py/ale_interface/src/emucore/m6502/Copyright.txt -> build/lib.linux-x86_64-cpython-310/atari_py/ale_interface/src/emucore/m6502\n",
      "  \u001b[31m   \u001b[0m copying atari_py/ale_interface/src/emucore/m6502/License.txt -> build/lib.linux-x86_64-cpython-310/atari_py/ale_interface/src/emucore/m6502\n",
      "  \u001b[31m   \u001b[0m copying atari_py/ale_interface/src/emucore/m6502/module.mk -> build/lib.linux-x86_64-cpython-310/atari_py/ale_interface/src/emucore/m6502\n",
      "  \u001b[31m   \u001b[0m creating build/lib.linux-x86_64-cpython-310/atari_py/ale_interface/src/emucore/m6502/src\n",
      "  \u001b[31m   \u001b[0m copying atari_py/ale_interface/src/emucore/m6502/src/Device.cxx -> build/lib.linux-x86_64-cpython-310/atari_py/ale_interface/src/emucore/m6502/src\n",
      "  \u001b[31m   \u001b[0m copying atari_py/ale_interface/src/emucore/m6502/src/Device.hxx -> build/lib.linux-x86_64-cpython-310/atari_py/ale_interface/src/emucore/m6502/src\n",
      "  \u001b[31m   \u001b[0m copying atari_py/ale_interface/src/emucore/m6502/src/M6502.cxx -> build/lib.linux-x86_64-cpython-310/atari_py/ale_interface/src/emucore/m6502/src\n",
      "  \u001b[31m   \u001b[0m copying atari_py/ale_interface/src/emucore/m6502/src/M6502.hxx -> build/lib.linux-x86_64-cpython-310/atari_py/ale_interface/src/emucore/m6502/src\n",
      "  \u001b[31m   \u001b[0m copying atari_py/ale_interface/src/emucore/m6502/src/M6502.m4 -> build/lib.linux-x86_64-cpython-310/atari_py/ale_interface/src/emucore/m6502/src\n",
      "  \u001b[31m   \u001b[0m copying atari_py/ale_interface/src/emucore/m6502/src/M6502Hi.cxx -> build/lib.linux-x86_64-cpython-310/atari_py/ale_interface/src/emucore/m6502/src\n",
      "  \u001b[31m   \u001b[0m copying atari_py/ale_interface/src/emucore/m6502/src/M6502Hi.hxx -> build/lib.linux-x86_64-cpython-310/atari_py/ale_interface/src/emucore/m6502/src\n",
      "  \u001b[31m   \u001b[0m copying atari_py/ale_interface/src/emucore/m6502/src/M6502Hi.ins -> build/lib.linux-x86_64-cpython-310/atari_py/ale_interface/src/emucore/m6502/src\n",
      "  \u001b[31m   \u001b[0m copying atari_py/ale_interface/src/emucore/m6502/src/M6502Hi.m4 -> build/lib.linux-x86_64-cpython-310/atari_py/ale_interface/src/emucore/m6502/src\n",
      "  \u001b[31m   \u001b[0m copying atari_py/ale_interface/src/emucore/m6502/src/M6502Low.cxx -> build/lib.linux-x86_64-cpython-310/atari_py/ale_interface/src/emucore/m6502/src\n",
      "  \u001b[31m   \u001b[0m copying atari_py/ale_interface/src/emucore/m6502/src/M6502Low.hxx -> build/lib.linux-x86_64-cpython-310/atari_py/ale_interface/src/emucore/m6502/src\n",
      "  \u001b[31m   \u001b[0m copying atari_py/ale_interface/src/emucore/m6502/src/M6502Low.ins -> build/lib.linux-x86_64-cpython-310/atari_py/ale_interface/src/emucore/m6502/src\n",
      "  \u001b[31m   \u001b[0m copying atari_py/ale_interface/src/emucore/m6502/src/M6502Low.m4 -> build/lib.linux-x86_64-cpython-310/atari_py/ale_interface/src/emucore/m6502/src\n",
      "  \u001b[31m   \u001b[0m copying atari_py/ale_interface/src/emucore/m6502/src/NullDev.cxx -> build/lib.linux-x86_64-cpython-310/atari_py/ale_interface/src/emucore/m6502/src\n",
      "  \u001b[31m   \u001b[0m copying atari_py/ale_interface/src/emucore/m6502/src/NullDev.hxx -> build/lib.linux-x86_64-cpython-310/atari_py/ale_interface/src/emucore/m6502/src\n",
      "  \u001b[31m   \u001b[0m copying atari_py/ale_interface/src/emucore/m6502/src/System.cxx -> build/lib.linux-x86_64-cpython-310/atari_py/ale_interface/src/emucore/m6502/src\n",
      "  \u001b[31m   \u001b[0m copying atari_py/ale_interface/src/emucore/m6502/src/System.hxx -> build/lib.linux-x86_64-cpython-310/atari_py/ale_interface/src/emucore/m6502/src\n",
      "  \u001b[31m   \u001b[0m creating build/lib.linux-x86_64-cpython-310/atari_py/ale_interface/src/emucore/m6502/src/bspf\n",
      "  \u001b[31m   \u001b[0m copying atari_py/ale_interface/src/emucore/m6502/src/bspf/Copyright.txt -> build/lib.linux-x86_64-cpython-310/atari_py/ale_interface/src/emucore/m6502/src/bspf\n",
      "  \u001b[31m   \u001b[0m copying atari_py/ale_interface/src/emucore/m6502/src/bspf/License.txt -> build/lib.linux-x86_64-cpython-310/atari_py/ale_interface/src/emucore/m6502/src/bspf\n",
      "  \u001b[31m   \u001b[0m creating build/lib.linux-x86_64-cpython-310/atari_py/ale_interface/src/emucore/m6502/src/bspf/src\n",
      "  \u001b[31m   \u001b[0m copying atari_py/ale_interface/src/emucore/m6502/src/bspf/src/bspf.hxx -> build/lib.linux-x86_64-cpython-310/atari_py/ale_interface/src/emucore/m6502/src/bspf/src\n",
      "  \u001b[31m   \u001b[0m copying atari_py/ale_interface/src/emucore/module.mk -> build/lib.linux-x86_64-cpython-310/atari_py/ale_interface/src/emucore\n",
      "  \u001b[31m   \u001b[0m creating build/lib.linux-x86_64-cpython-310/atari_py/ale_interface/src/emucore/rsynth\n",
      "  \u001b[31m   \u001b[0m copying atari_py/ale_interface/src/emucore/rsynth/COPYING -> build/lib.linux-x86_64-cpython-310/atari_py/ale_interface/src/emucore/rsynth\n",
      "  \u001b[31m   \u001b[0m copying atari_py/ale_interface/src/emucore/rsynth/Elements.def -> build/lib.linux-x86_64-cpython-310/atari_py/ale_interface/src/emucore/rsynth\n",
      "  \u001b[31m   \u001b[0m copying atari_py/ale_interface/src/emucore/rsynth/PORTING -> build/lib.linux-x86_64-cpython-310/atari_py/ale_interface/src/emucore/rsynth\n",
      "  \u001b[31m   \u001b[0m copying atari_py/ale_interface/src/emucore/rsynth/config.h -> build/lib.linux-x86_64-cpython-310/atari_py/ale_interface/src/emucore/rsynth\n",
      "  \u001b[31m   \u001b[0m copying atari_py/ale_interface/src/emucore/rsynth/darray.c -> build/lib.linux-x86_64-cpython-310/atari_py/ale_interface/src/emucore/rsynth\n",
      "  \u001b[31m   \u001b[0m copying atari_py/ale_interface/src/emucore/rsynth/darray.h -> build/lib.linux-x86_64-cpython-310/atari_py/ale_interface/src/emucore/rsynth\n",
      "  \u001b[31m   \u001b[0m copying atari_py/ale_interface/src/emucore/rsynth/elements.c -> build/lib.linux-x86_64-cpython-310/atari_py/ale_interface/src/emucore/rsynth\n",
      "  \u001b[31m   \u001b[0m copying atari_py/ale_interface/src/emucore/rsynth/holmes.c -> build/lib.linux-x86_64-cpython-310/atari_py/ale_interface/src/emucore/rsynth\n",
      "  \u001b[31m   \u001b[0m copying atari_py/ale_interface/src/emucore/rsynth/kmap -> build/lib.linux-x86_64-cpython-310/atari_py/ale_interface/src/emucore/rsynth\n",
      "  \u001b[31m   \u001b[0m copying atari_py/ale_interface/src/emucore/rsynth/module.mk -> build/lib.linux-x86_64-cpython-310/atari_py/ale_interface/src/emucore/rsynth\n",
      "  \u001b[31m   \u001b[0m copying atari_py/ale_interface/src/emucore/rsynth/opsynth.c -> build/lib.linux-x86_64-cpython-310/atari_py/ale_interface/src/emucore/rsynth\n",
      "  \u001b[31m   \u001b[0m copying atari_py/ale_interface/src/emucore/rsynth/phfeat.h -> build/lib.linux-x86_64-cpython-310/atari_py/ale_interface/src/emucore/rsynth\n",
      "  \u001b[31m   \u001b[0m copying atari_py/ale_interface/src/emucore/rsynth/phones.c -> build/lib.linux-x86_64-cpython-310/atari_py/ale_interface/src/emucore/rsynth\n",
      "  \u001b[31m   \u001b[0m copying atari_py/ale_interface/src/emucore/rsynth/phones.def -> build/lib.linux-x86_64-cpython-310/atari_py/ale_interface/src/emucore/rsynth\n",
      "  \u001b[31m   \u001b[0m copying atari_py/ale_interface/src/emucore/rsynth/phones.h -> build/lib.linux-x86_64-cpython-310/atari_py/ale_interface/src/emucore/rsynth\n",
      "  \u001b[31m   \u001b[0m copying atari_py/ale_interface/src/emucore/rsynth/phtoelm.c -> build/lib.linux-x86_64-cpython-310/atari_py/ale_interface/src/emucore/rsynth\n",
      "  \u001b[31m   \u001b[0m copying atari_py/ale_interface/src/emucore/rsynth/phtoelm.def -> build/lib.linux-x86_64-cpython-310/atari_py/ale_interface/src/emucore/rsynth\n",
      "  \u001b[31m   \u001b[0m copying atari_py/ale_interface/src/emucore/rsynth/phtoelm.h -> build/lib.linux-x86_64-cpython-310/atari_py/ale_interface/src/emucore/rsynth\n",
      "  \u001b[31m   \u001b[0m copying atari_py/ale_interface/src/emucore/rsynth/rsynth.h -> build/lib.linux-x86_64-cpython-310/atari_py/ale_interface/src/emucore/rsynth\n",
      "  \u001b[31m   \u001b[0m copying atari_py/ale_interface/src/emucore/rsynth/trie.c -> build/lib.linux-x86_64-cpython-310/atari_py/ale_interface/src/emucore/rsynth\n",
      "  \u001b[31m   \u001b[0m copying atari_py/ale_interface/src/emucore/rsynth/trie.h -> build/lib.linux-x86_64-cpython-310/atari_py/ale_interface/src/emucore/rsynth\n",
      "  \u001b[31m   \u001b[0m copying atari_py/ale_interface/src/emucore/rsynth/useconfig.h -> build/lib.linux-x86_64-cpython-310/atari_py/ale_interface/src/emucore/rsynth\n",
      "  \u001b[31m   \u001b[0m copying atari_py/ale_interface/src/emucore/stella.pro -> build/lib.linux-x86_64-cpython-310/atari_py/ale_interface/src/emucore\n",
      "  \u001b[31m   \u001b[0m creating build/lib.linux-x86_64-cpython-310/atari_py/ale_interface/src/environment\n",
      "  \u001b[31m   \u001b[0m copying atari_py/ale_interface/src/environment/ale_ram.hpp -> build/lib.linux-x86_64-cpython-310/atari_py/ale_interface/src/environment\n",
      "  \u001b[31m   \u001b[0m copying atari_py/ale_interface/src/environment/ale_screen.hpp -> build/lib.linux-x86_64-cpython-310/atari_py/ale_interface/src/environment\n",
      "  \u001b[31m   \u001b[0m copying atari_py/ale_interface/src/environment/ale_state.cpp -> build/lib.linux-x86_64-cpython-310/atari_py/ale_interface/src/environment\n",
      "  \u001b[31m   \u001b[0m copying atari_py/ale_interface/src/environment/ale_state.hpp -> build/lib.linux-x86_64-cpython-310/atari_py/ale_interface/src/environment\n",
      "  \u001b[31m   \u001b[0m copying atari_py/ale_interface/src/environment/module.mk -> build/lib.linux-x86_64-cpython-310/atari_py/ale_interface/src/environment\n",
      "  \u001b[31m   \u001b[0m copying atari_py/ale_interface/src/environment/phosphor_blend.cpp -> build/lib.linux-x86_64-cpython-310/atari_py/ale_interface/src/environment\n",
      "  \u001b[31m   \u001b[0m copying atari_py/ale_interface/src/environment/phosphor_blend.hpp -> build/lib.linux-x86_64-cpython-310/atari_py/ale_interface/src/environment\n",
      "  \u001b[31m   \u001b[0m copying atari_py/ale_interface/src/environment/stella_environment.cpp -> build/lib.linux-x86_64-cpython-310/atari_py/ale_interface/src/environment\n",
      "  \u001b[31m   \u001b[0m copying atari_py/ale_interface/src/environment/stella_environment.hpp -> build/lib.linux-x86_64-cpython-310/atari_py/ale_interface/src/environment\n",
      "  \u001b[31m   \u001b[0m copying atari_py/ale_interface/src/environment/stella_environment_wrapper.cpp -> build/lib.linux-x86_64-cpython-310/atari_py/ale_interface/src/environment\n",
      "  \u001b[31m   \u001b[0m copying atari_py/ale_interface/src/environment/stella_environment_wrapper.hpp -> build/lib.linux-x86_64-cpython-310/atari_py/ale_interface/src/environment\n",
      "  \u001b[31m   \u001b[0m creating build/lib.linux-x86_64-cpython-310/atari_py/ale_interface/src/external\n",
      "  \u001b[31m   \u001b[0m creating build/lib.linux-x86_64-cpython-310/atari_py/ale_interface/src/external/TinyMT\n",
      "  \u001b[31m   \u001b[0m copying atari_py/ale_interface/src/external/TinyMT/LICENSE.txt -> build/lib.linux-x86_64-cpython-310/atari_py/ale_interface/src/external/TinyMT\n",
      "  \u001b[31m   \u001b[0m copying atari_py/ale_interface/src/external/TinyMT/tinymt32.c -> build/lib.linux-x86_64-cpython-310/atari_py/ale_interface/src/external/TinyMT\n",
      "  \u001b[31m   \u001b[0m copying atari_py/ale_interface/src/external/TinyMT/tinymt32.h -> build/lib.linux-x86_64-cpython-310/atari_py/ale_interface/src/external/TinyMT\n",
      "  \u001b[31m   \u001b[0m copying atari_py/ale_interface/src/external/module.mk -> build/lib.linux-x86_64-cpython-310/atari_py/ale_interface/src/external\n",
      "  \u001b[31m   \u001b[0m creating build/lib.linux-x86_64-cpython-310/atari_py/ale_interface/src/games\n",
      "  \u001b[31m   \u001b[0m copying atari_py/ale_interface/src/games/RomSettings.cpp -> build/lib.linux-x86_64-cpython-310/atari_py/ale_interface/src/games\n",
      "  \u001b[31m   \u001b[0m copying atari_py/ale_interface/src/games/RomSettings.hpp -> build/lib.linux-x86_64-cpython-310/atari_py/ale_interface/src/games\n",
      "  \u001b[31m   \u001b[0m copying atari_py/ale_interface/src/games/RomUtils.cpp -> build/lib.linux-x86_64-cpython-310/atari_py/ale_interface/src/games\n",
      "  \u001b[31m   \u001b[0m copying atari_py/ale_interface/src/games/RomUtils.hpp -> build/lib.linux-x86_64-cpython-310/atari_py/ale_interface/src/games\n",
      "  \u001b[31m   \u001b[0m copying atari_py/ale_interface/src/games/Roms.cpp -> build/lib.linux-x86_64-cpython-310/atari_py/ale_interface/src/games\n",
      "  \u001b[31m   \u001b[0m copying atari_py/ale_interface/src/games/Roms.hpp -> build/lib.linux-x86_64-cpython-310/atari_py/ale_interface/src/games\n",
      "  \u001b[31m   \u001b[0m copying atari_py/ale_interface/src/games/module.mk -> build/lib.linux-x86_64-cpython-310/atari_py/ale_interface/src/games\n",
      "  \u001b[31m   \u001b[0m creating build/lib.linux-x86_64-cpython-310/atari_py/ale_interface/src/games/supported\n",
      "  \u001b[31m   \u001b[0m copying atari_py/ale_interface/src/games/supported/Adventure.cpp -> build/lib.linux-x86_64-cpython-310/atari_py/ale_interface/src/games/supported\n",
      "  \u001b[31m   \u001b[0m copying atari_py/ale_interface/src/games/supported/Adventure.hpp -> build/lib.linux-x86_64-cpython-310/atari_py/ale_interface/src/games/supported\n",
      "  \u001b[31m   \u001b[0m copying atari_py/ale_interface/src/games/supported/AirRaid.cpp -> build/lib.linux-x86_64-cpython-310/atari_py/ale_interface/src/games/supported\n",
      "  \u001b[31m   \u001b[0m copying atari_py/ale_interface/src/games/supported/AirRaid.hpp -> build/lib.linux-x86_64-cpython-310/atari_py/ale_interface/src/games/supported\n",
      "  \u001b[31m   \u001b[0m copying atari_py/ale_interface/src/games/supported/Alien.cpp -> build/lib.linux-x86_64-cpython-310/atari_py/ale_interface/src/games/supported\n",
      "  \u001b[31m   \u001b[0m copying atari_py/ale_interface/src/games/supported/Alien.hpp -> build/lib.linux-x86_64-cpython-310/atari_py/ale_interface/src/games/supported\n",
      "  \u001b[31m   \u001b[0m copying atari_py/ale_interface/src/games/supported/Amidar.cpp -> build/lib.linux-x86_64-cpython-310/atari_py/ale_interface/src/games/supported\n",
      "  \u001b[31m   \u001b[0m copying atari_py/ale_interface/src/games/supported/Amidar.hpp -> build/lib.linux-x86_64-cpython-310/atari_py/ale_interface/src/games/supported\n",
      "  \u001b[31m   \u001b[0m copying atari_py/ale_interface/src/games/supported/Assault.cpp -> build/lib.linux-x86_64-cpython-310/atari_py/ale_interface/src/games/supported\n",
      "  \u001b[31m   \u001b[0m copying atari_py/ale_interface/src/games/supported/Assault.hpp -> build/lib.linux-x86_64-cpython-310/atari_py/ale_interface/src/games/supported\n",
      "  \u001b[31m   \u001b[0m copying atari_py/ale_interface/src/games/supported/Asterix.cpp -> build/lib.linux-x86_64-cpython-310/atari_py/ale_interface/src/games/supported\n",
      "  \u001b[31m   \u001b[0m copying atari_py/ale_interface/src/games/supported/Asterix.hpp -> build/lib.linux-x86_64-cpython-310/atari_py/ale_interface/src/games/supported\n",
      "  \u001b[31m   \u001b[0m copying atari_py/ale_interface/src/games/supported/Asteroids.cpp -> build/lib.linux-x86_64-cpython-310/atari_py/ale_interface/src/games/supported\n",
      "  \u001b[31m   \u001b[0m copying atari_py/ale_interface/src/games/supported/Asteroids.hpp -> build/lib.linux-x86_64-cpython-310/atari_py/ale_interface/src/games/supported\n",
      "  \u001b[31m   \u001b[0m copying atari_py/ale_interface/src/games/supported/Atlantis.cpp -> build/lib.linux-x86_64-cpython-310/atari_py/ale_interface/src/games/supported\n",
      "  \u001b[31m   \u001b[0m copying atari_py/ale_interface/src/games/supported/Atlantis.hpp -> build/lib.linux-x86_64-cpython-310/atari_py/ale_interface/src/games/supported\n",
      "  \u001b[31m   \u001b[0m copying atari_py/ale_interface/src/games/supported/BankHeist.cpp -> build/lib.linux-x86_64-cpython-310/atari_py/ale_interface/src/games/supported\n",
      "  \u001b[31m   \u001b[0m copying atari_py/ale_interface/src/games/supported/BankHeist.hpp -> build/lib.linux-x86_64-cpython-310/atari_py/ale_interface/src/games/supported\n",
      "  \u001b[31m   \u001b[0m copying atari_py/ale_interface/src/games/supported/BattleZone.cpp -> build/lib.linux-x86_64-cpython-310/atari_py/ale_interface/src/games/supported\n",
      "  \u001b[31m   \u001b[0m copying atari_py/ale_interface/src/games/supported/BattleZone.hpp -> build/lib.linux-x86_64-cpython-310/atari_py/ale_interface/src/games/supported\n",
      "  \u001b[31m   \u001b[0m copying atari_py/ale_interface/src/games/supported/BeamRider.cpp -> build/lib.linux-x86_64-cpython-310/atari_py/ale_interface/src/games/supported\n",
      "  \u001b[31m   \u001b[0m copying atari_py/ale_interface/src/games/supported/BeamRider.hpp -> build/lib.linux-x86_64-cpython-310/atari_py/ale_interface/src/games/supported\n",
      "  \u001b[31m   \u001b[0m copying atari_py/ale_interface/src/games/supported/Berzerk.cpp -> build/lib.linux-x86_64-cpython-310/atari_py/ale_interface/src/games/supported\n",
      "  \u001b[31m   \u001b[0m copying atari_py/ale_interface/src/games/supported/Berzerk.hpp -> build/lib.linux-x86_64-cpython-310/atari_py/ale_interface/src/games/supported\n",
      "  \u001b[31m   \u001b[0m copying atari_py/ale_interface/src/games/supported/Bowling.cpp -> build/lib.linux-x86_64-cpython-310/atari_py/ale_interface/src/games/supported\n",
      "  \u001b[31m   \u001b[0m copying atari_py/ale_interface/src/games/supported/Bowling.hpp -> build/lib.linux-x86_64-cpython-310/atari_py/ale_interface/src/games/supported\n",
      "  \u001b[31m   \u001b[0m copying atari_py/ale_interface/src/games/supported/Boxing.cpp -> build/lib.linux-x86_64-cpython-310/atari_py/ale_interface/src/games/supported\n",
      "  \u001b[31m   \u001b[0m copying atari_py/ale_interface/src/games/supported/Boxing.hpp -> build/lib.linux-x86_64-cpython-310/atari_py/ale_interface/src/games/supported\n",
      "  \u001b[31m   \u001b[0m copying atari_py/ale_interface/src/games/supported/Breakout.cpp -> build/lib.linux-x86_64-cpython-310/atari_py/ale_interface/src/games/supported\n",
      "  \u001b[31m   \u001b[0m copying atari_py/ale_interface/src/games/supported/Breakout.hpp -> build/lib.linux-x86_64-cpython-310/atari_py/ale_interface/src/games/supported\n",
      "  \u001b[31m   \u001b[0m copying atari_py/ale_interface/src/games/supported/Carnival.cpp -> build/lib.linux-x86_64-cpython-310/atari_py/ale_interface/src/games/supported\n",
      "  \u001b[31m   \u001b[0m copying atari_py/ale_interface/src/games/supported/Carnival.hpp -> build/lib.linux-x86_64-cpython-310/atari_py/ale_interface/src/games/supported\n",
      "  \u001b[31m   \u001b[0m copying atari_py/ale_interface/src/games/supported/Centipede.cpp -> build/lib.linux-x86_64-cpython-310/atari_py/ale_interface/src/games/supported\n",
      "  \u001b[31m   \u001b[0m copying atari_py/ale_interface/src/games/supported/Centipede.hpp -> build/lib.linux-x86_64-cpython-310/atari_py/ale_interface/src/games/supported\n",
      "  \u001b[31m   \u001b[0m copying atari_py/ale_interface/src/games/supported/ChopperCommand.cpp -> build/lib.linux-x86_64-cpython-310/atari_py/ale_interface/src/games/supported\n",
      "  \u001b[31m   \u001b[0m copying atari_py/ale_interface/src/games/supported/ChopperCommand.hpp -> build/lib.linux-x86_64-cpython-310/atari_py/ale_interface/src/games/supported\n",
      "  \u001b[31m   \u001b[0m copying atari_py/ale_interface/src/games/supported/CrazyClimber.cpp -> build/lib.linux-x86_64-cpython-310/atari_py/ale_interface/src/games/supported\n",
      "  \u001b[31m   \u001b[0m copying atari_py/ale_interface/src/games/supported/CrazyClimber.hpp -> build/lib.linux-x86_64-cpython-310/atari_py/ale_interface/src/games/supported\n",
      "  \u001b[31m   \u001b[0m copying atari_py/ale_interface/src/games/supported/Defender.cpp -> build/lib.linux-x86_64-cpython-310/atari_py/ale_interface/src/games/supported\n",
      "  \u001b[31m   \u001b[0m copying atari_py/ale_interface/src/games/supported/Defender.hpp -> build/lib.linux-x86_64-cpython-310/atari_py/ale_interface/src/games/supported\n",
      "  \u001b[31m   \u001b[0m copying atari_py/ale_interface/src/games/supported/DemonAttack.cpp -> build/lib.linux-x86_64-cpython-310/atari_py/ale_interface/src/games/supported\n",
      "  \u001b[31m   \u001b[0m copying atari_py/ale_interface/src/games/supported/DemonAttack.hpp -> build/lib.linux-x86_64-cpython-310/atari_py/ale_interface/src/games/supported\n",
      "  \u001b[31m   \u001b[0m copying atari_py/ale_interface/src/games/supported/DonkeyKong.cpp -> build/lib.linux-x86_64-cpython-310/atari_py/ale_interface/src/games/supported\n",
      "  \u001b[31m   \u001b[0m copying atari_py/ale_interface/src/games/supported/DonkeyKong.hpp -> build/lib.linux-x86_64-cpython-310/atari_py/ale_interface/src/games/supported\n",
      "  \u001b[31m   \u001b[0m copying atari_py/ale_interface/src/games/supported/DoubleDunk.cpp -> build/lib.linux-x86_64-cpython-310/atari_py/ale_interface/src/games/supported\n",
      "  \u001b[31m   \u001b[0m copying atari_py/ale_interface/src/games/supported/DoubleDunk.hpp -> build/lib.linux-x86_64-cpython-310/atari_py/ale_interface/src/games/supported\n",
      "  \u001b[31m   \u001b[0m copying atari_py/ale_interface/src/games/supported/ElevatorAction.cpp -> build/lib.linux-x86_64-cpython-310/atari_py/ale_interface/src/games/supported\n",
      "  \u001b[31m   \u001b[0m copying atari_py/ale_interface/src/games/supported/ElevatorAction.hpp -> build/lib.linux-x86_64-cpython-310/atari_py/ale_interface/src/games/supported\n",
      "  \u001b[31m   \u001b[0m copying atari_py/ale_interface/src/games/supported/Enduro.cpp -> build/lib.linux-x86_64-cpython-310/atari_py/ale_interface/src/games/supported\n",
      "  \u001b[31m   \u001b[0m copying atari_py/ale_interface/src/games/supported/Enduro.hpp -> build/lib.linux-x86_64-cpython-310/atari_py/ale_interface/src/games/supported\n",
      "  \u001b[31m   \u001b[0m copying atari_py/ale_interface/src/games/supported/FishingDerby.cpp -> build/lib.linux-x86_64-cpython-310/atari_py/ale_interface/src/games/supported\n",
      "  \u001b[31m   \u001b[0m copying atari_py/ale_interface/src/games/supported/FishingDerby.hpp -> build/lib.linux-x86_64-cpython-310/atari_py/ale_interface/src/games/supported\n",
      "  \u001b[31m   \u001b[0m copying atari_py/ale_interface/src/games/supported/Freeway.cpp -> build/lib.linux-x86_64-cpython-310/atari_py/ale_interface/src/games/supported\n",
      "  \u001b[31m   \u001b[0m copying atari_py/ale_interface/src/games/supported/Freeway.hpp -> build/lib.linux-x86_64-cpython-310/atari_py/ale_interface/src/games/supported\n",
      "  \u001b[31m   \u001b[0m copying atari_py/ale_interface/src/games/supported/Frogger.cpp -> build/lib.linux-x86_64-cpython-310/atari_py/ale_interface/src/games/supported\n",
      "  \u001b[31m   \u001b[0m copying atari_py/ale_interface/src/games/supported/Frogger.hpp -> build/lib.linux-x86_64-cpython-310/atari_py/ale_interface/src/games/supported\n",
      "  \u001b[31m   \u001b[0m copying atari_py/ale_interface/src/games/supported/Frostbite.cpp -> build/lib.linux-x86_64-cpython-310/atari_py/ale_interface/src/games/supported\n",
      "  \u001b[31m   \u001b[0m copying atari_py/ale_interface/src/games/supported/Frostbite.hpp -> build/lib.linux-x86_64-cpython-310/atari_py/ale_interface/src/games/supported\n",
      "  \u001b[31m   \u001b[0m copying atari_py/ale_interface/src/games/supported/Galaxian.cpp -> build/lib.linux-x86_64-cpython-310/atari_py/ale_interface/src/games/supported\n",
      "  \u001b[31m   \u001b[0m copying atari_py/ale_interface/src/games/supported/Galaxian.hpp -> build/lib.linux-x86_64-cpython-310/atari_py/ale_interface/src/games/supported\n",
      "  \u001b[31m   \u001b[0m copying atari_py/ale_interface/src/games/supported/Gopher.cpp -> build/lib.linux-x86_64-cpython-310/atari_py/ale_interface/src/games/supported\n",
      "  \u001b[31m   \u001b[0m copying atari_py/ale_interface/src/games/supported/Gopher.hpp -> build/lib.linux-x86_64-cpython-310/atari_py/ale_interface/src/games/supported\n",
      "  \u001b[31m   \u001b[0m copying atari_py/ale_interface/src/games/supported/Gravitar.cpp -> build/lib.linux-x86_64-cpython-310/atari_py/ale_interface/src/games/supported\n",
      "  \u001b[31m   \u001b[0m copying atari_py/ale_interface/src/games/supported/Gravitar.hpp -> build/lib.linux-x86_64-cpython-310/atari_py/ale_interface/src/games/supported\n",
      "  \u001b[31m   \u001b[0m copying atari_py/ale_interface/src/games/supported/Hero.cpp -> build/lib.linux-x86_64-cpython-310/atari_py/ale_interface/src/games/supported\n",
      "  \u001b[31m   \u001b[0m copying atari_py/ale_interface/src/games/supported/Hero.hpp -> build/lib.linux-x86_64-cpython-310/atari_py/ale_interface/src/games/supported\n",
      "  \u001b[31m   \u001b[0m copying atari_py/ale_interface/src/games/supported/IceHockey.cpp -> build/lib.linux-x86_64-cpython-310/atari_py/ale_interface/src/games/supported\n",
      "  \u001b[31m   \u001b[0m copying atari_py/ale_interface/src/games/supported/IceHockey.hpp -> build/lib.linux-x86_64-cpython-310/atari_py/ale_interface/src/games/supported\n",
      "  \u001b[31m   \u001b[0m copying atari_py/ale_interface/src/games/supported/JamesBond.cpp -> build/lib.linux-x86_64-cpython-310/atari_py/ale_interface/src/games/supported\n",
      "  \u001b[31m   \u001b[0m copying atari_py/ale_interface/src/games/supported/JamesBond.hpp -> build/lib.linux-x86_64-cpython-310/atari_py/ale_interface/src/games/supported\n",
      "  \u001b[31m   \u001b[0m copying atari_py/ale_interface/src/games/supported/JourneyEscape.cpp -> build/lib.linux-x86_64-cpython-310/atari_py/ale_interface/src/games/supported\n",
      "  \u001b[31m   \u001b[0m copying atari_py/ale_interface/src/games/supported/JourneyEscape.hpp -> build/lib.linux-x86_64-cpython-310/atari_py/ale_interface/src/games/supported\n",
      "  \u001b[31m   \u001b[0m copying atari_py/ale_interface/src/games/supported/Kaboom.cpp -> build/lib.linux-x86_64-cpython-310/atari_py/ale_interface/src/games/supported\n",
      "  \u001b[31m   \u001b[0m copying atari_py/ale_interface/src/games/supported/Kaboom.hpp -> build/lib.linux-x86_64-cpython-310/atari_py/ale_interface/src/games/supported\n",
      "  \u001b[31m   \u001b[0m copying atari_py/ale_interface/src/games/supported/Kangaroo.cpp -> build/lib.linux-x86_64-cpython-310/atari_py/ale_interface/src/games/supported\n",
      "  \u001b[31m   \u001b[0m copying atari_py/ale_interface/src/games/supported/Kangaroo.hpp -> build/lib.linux-x86_64-cpython-310/atari_py/ale_interface/src/games/supported\n",
      "  \u001b[31m   \u001b[0m copying atari_py/ale_interface/src/games/supported/KeystoneKapers.cpp -> build/lib.linux-x86_64-cpython-310/atari_py/ale_interface/src/games/supported\n",
      "  \u001b[31m   \u001b[0m copying atari_py/ale_interface/src/games/supported/KeystoneKapers.hpp -> build/lib.linux-x86_64-cpython-310/atari_py/ale_interface/src/games/supported\n",
      "  \u001b[31m   \u001b[0m copying atari_py/ale_interface/src/games/supported/Kingkong.cpp -> build/lib.linux-x86_64-cpython-310/atari_py/ale_interface/src/games/supported\n",
      "  \u001b[31m   \u001b[0m copying atari_py/ale_interface/src/games/supported/Kingkong.hpp -> build/lib.linux-x86_64-cpython-310/atari_py/ale_interface/src/games/supported\n",
      "  \u001b[31m   \u001b[0m copying atari_py/ale_interface/src/games/supported/Koolaid.cpp -> build/lib.linux-x86_64-cpython-310/atari_py/ale_interface/src/games/supported\n",
      "  \u001b[31m   \u001b[0m copying atari_py/ale_interface/src/games/supported/Koolaid.hpp -> build/lib.linux-x86_64-cpython-310/atari_py/ale_interface/src/games/supported\n",
      "  \u001b[31m   \u001b[0m copying atari_py/ale_interface/src/games/supported/Krull.cpp -> build/lib.linux-x86_64-cpython-310/atari_py/ale_interface/src/games/supported\n",
      "  \u001b[31m   \u001b[0m copying atari_py/ale_interface/src/games/supported/Krull.hpp -> build/lib.linux-x86_64-cpython-310/atari_py/ale_interface/src/games/supported\n",
      "  \u001b[31m   \u001b[0m copying atari_py/ale_interface/src/games/supported/KungFuMaster.cpp -> build/lib.linux-x86_64-cpython-310/atari_py/ale_interface/src/games/supported\n",
      "  \u001b[31m   \u001b[0m copying atari_py/ale_interface/src/games/supported/KungFuMaster.hpp -> build/lib.linux-x86_64-cpython-310/atari_py/ale_interface/src/games/supported\n",
      "  \u001b[31m   \u001b[0m copying atari_py/ale_interface/src/games/supported/LaserGates.cpp -> build/lib.linux-x86_64-cpython-310/atari_py/ale_interface/src/games/supported\n",
      "  \u001b[31m   \u001b[0m copying atari_py/ale_interface/src/games/supported/LaserGates.hpp -> build/lib.linux-x86_64-cpython-310/atari_py/ale_interface/src/games/supported\n",
      "  \u001b[31m   \u001b[0m copying atari_py/ale_interface/src/games/supported/LostLuggage.cpp -> build/lib.linux-x86_64-cpython-310/atari_py/ale_interface/src/games/supported\n",
      "  \u001b[31m   \u001b[0m copying atari_py/ale_interface/src/games/supported/LostLuggage.hpp -> build/lib.linux-x86_64-cpython-310/atari_py/ale_interface/src/games/supported\n",
      "  \u001b[31m   \u001b[0m copying atari_py/ale_interface/src/games/supported/MontezumaRevenge.cpp -> build/lib.linux-x86_64-cpython-310/atari_py/ale_interface/src/games/supported\n",
      "  \u001b[31m   \u001b[0m copying atari_py/ale_interface/src/games/supported/MontezumaRevenge.hpp -> build/lib.linux-x86_64-cpython-310/atari_py/ale_interface/src/games/supported\n",
      "  \u001b[31m   \u001b[0m copying atari_py/ale_interface/src/games/supported/MrDo.cpp -> build/lib.linux-x86_64-cpython-310/atari_py/ale_interface/src/games/supported\n",
      "  \u001b[31m   \u001b[0m copying atari_py/ale_interface/src/games/supported/MrDo.hpp -> build/lib.linux-x86_64-cpython-310/atari_py/ale_interface/src/games/supported\n",
      "  \u001b[31m   \u001b[0m copying atari_py/ale_interface/src/games/supported/MsPacman.cpp -> build/lib.linux-x86_64-cpython-310/atari_py/ale_interface/src/games/supported\n",
      "  \u001b[31m   \u001b[0m copying atari_py/ale_interface/src/games/supported/MsPacman.hpp -> build/lib.linux-x86_64-cpython-310/atari_py/ale_interface/src/games/supported\n",
      "  \u001b[31m   \u001b[0m copying atari_py/ale_interface/src/games/supported/NameThisGame.cpp -> build/lib.linux-x86_64-cpython-310/atari_py/ale_interface/src/games/supported\n",
      "  \u001b[31m   \u001b[0m copying atari_py/ale_interface/src/games/supported/NameThisGame.hpp -> build/lib.linux-x86_64-cpython-310/atari_py/ale_interface/src/games/supported\n",
      "  \u001b[31m   \u001b[0m copying atari_py/ale_interface/src/games/supported/Phoenix.cpp -> build/lib.linux-x86_64-cpython-310/atari_py/ale_interface/src/games/supported\n",
      "  \u001b[31m   \u001b[0m copying atari_py/ale_interface/src/games/supported/Phoenix.hpp -> build/lib.linux-x86_64-cpython-310/atari_py/ale_interface/src/games/supported\n",
      "  \u001b[31m   \u001b[0m copying atari_py/ale_interface/src/games/supported/Pitfall.cpp -> build/lib.linux-x86_64-cpython-310/atari_py/ale_interface/src/games/supported\n",
      "  \u001b[31m   \u001b[0m copying atari_py/ale_interface/src/games/supported/Pitfall.hpp -> build/lib.linux-x86_64-cpython-310/atari_py/ale_interface/src/games/supported\n",
      "  \u001b[31m   \u001b[0m copying atari_py/ale_interface/src/games/supported/Pong.cpp -> build/lib.linux-x86_64-cpython-310/atari_py/ale_interface/src/games/supported\n",
      "  \u001b[31m   \u001b[0m copying atari_py/ale_interface/src/games/supported/Pong.hpp -> build/lib.linux-x86_64-cpython-310/atari_py/ale_interface/src/games/supported\n",
      "  \u001b[31m   \u001b[0m copying atari_py/ale_interface/src/games/supported/Pooyan.cpp -> build/lib.linux-x86_64-cpython-310/atari_py/ale_interface/src/games/supported\n",
      "  \u001b[31m   \u001b[0m copying atari_py/ale_interface/src/games/supported/Pooyan.hpp -> build/lib.linux-x86_64-cpython-310/atari_py/ale_interface/src/games/supported\n",
      "  \u001b[31m   \u001b[0m copying atari_py/ale_interface/src/games/supported/PrivateEye.cpp -> build/lib.linux-x86_64-cpython-310/atari_py/ale_interface/src/games/supported\n",
      "  \u001b[31m   \u001b[0m copying atari_py/ale_interface/src/games/supported/PrivateEye.hpp -> build/lib.linux-x86_64-cpython-310/atari_py/ale_interface/src/games/supported\n",
      "  \u001b[31m   \u001b[0m copying atari_py/ale_interface/src/games/supported/QBert.cpp -> build/lib.linux-x86_64-cpython-310/atari_py/ale_interface/src/games/supported\n",
      "  \u001b[31m   \u001b[0m copying atari_py/ale_interface/src/games/supported/QBert.hpp -> build/lib.linux-x86_64-cpython-310/atari_py/ale_interface/src/games/supported\n",
      "  \u001b[31m   \u001b[0m copying atari_py/ale_interface/src/games/supported/RiverRaid.cpp -> build/lib.linux-x86_64-cpython-310/atari_py/ale_interface/src/games/supported\n",
      "  \u001b[31m   \u001b[0m copying atari_py/ale_interface/src/games/supported/RiverRaid.hpp -> build/lib.linux-x86_64-cpython-310/atari_py/ale_interface/src/games/supported\n",
      "  \u001b[31m   \u001b[0m copying atari_py/ale_interface/src/games/supported/RoadRunner.cpp -> build/lib.linux-x86_64-cpython-310/atari_py/ale_interface/src/games/supported\n",
      "  \u001b[31m   \u001b[0m copying atari_py/ale_interface/src/games/supported/RoadRunner.hpp -> build/lib.linux-x86_64-cpython-310/atari_py/ale_interface/src/games/supported\n",
      "  \u001b[31m   \u001b[0m copying atari_py/ale_interface/src/games/supported/RoboTank.cpp -> build/lib.linux-x86_64-cpython-310/atari_py/ale_interface/src/games/supported\n",
      "  \u001b[31m   \u001b[0m copying atari_py/ale_interface/src/games/supported/RoboTank.hpp -> build/lib.linux-x86_64-cpython-310/atari_py/ale_interface/src/games/supported\n",
      "  \u001b[31m   \u001b[0m copying atari_py/ale_interface/src/games/supported/Seaquest.cpp -> build/lib.linux-x86_64-cpython-310/atari_py/ale_interface/src/games/supported\n",
      "  \u001b[31m   \u001b[0m copying atari_py/ale_interface/src/games/supported/Seaquest.hpp -> build/lib.linux-x86_64-cpython-310/atari_py/ale_interface/src/games/supported\n",
      "  \u001b[31m   \u001b[0m copying atari_py/ale_interface/src/games/supported/SirLancelot.cpp -> build/lib.linux-x86_64-cpython-310/atari_py/ale_interface/src/games/supported\n",
      "  \u001b[31m   \u001b[0m copying atari_py/ale_interface/src/games/supported/SirLancelot.hpp -> build/lib.linux-x86_64-cpython-310/atari_py/ale_interface/src/games/supported\n",
      "  \u001b[31m   \u001b[0m copying atari_py/ale_interface/src/games/supported/Skiing.cpp -> build/lib.linux-x86_64-cpython-310/atari_py/ale_interface/src/games/supported\n",
      "  \u001b[31m   \u001b[0m copying atari_py/ale_interface/src/games/supported/Skiing.hpp -> build/lib.linux-x86_64-cpython-310/atari_py/ale_interface/src/games/supported\n",
      "  \u001b[31m   \u001b[0m copying atari_py/ale_interface/src/games/supported/Solaris.cpp -> build/lib.linux-x86_64-cpython-310/atari_py/ale_interface/src/games/supported\n",
      "  \u001b[31m   \u001b[0m copying atari_py/ale_interface/src/games/supported/Solaris.hpp -> build/lib.linux-x86_64-cpython-310/atari_py/ale_interface/src/games/supported\n",
      "  \u001b[31m   \u001b[0m copying atari_py/ale_interface/src/games/supported/SpaceInvaders.cpp -> build/lib.linux-x86_64-cpython-310/atari_py/ale_interface/src/games/supported\n",
      "  \u001b[31m   \u001b[0m copying atari_py/ale_interface/src/games/supported/SpaceInvaders.hpp -> build/lib.linux-x86_64-cpython-310/atari_py/ale_interface/src/games/supported\n",
      "  \u001b[31m   \u001b[0m copying atari_py/ale_interface/src/games/supported/StarGunner.cpp -> build/lib.linux-x86_64-cpython-310/atari_py/ale_interface/src/games/supported\n",
      "  \u001b[31m   \u001b[0m copying atari_py/ale_interface/src/games/supported/StarGunner.hpp -> build/lib.linux-x86_64-cpython-310/atari_py/ale_interface/src/games/supported\n",
      "  \u001b[31m   \u001b[0m copying atari_py/ale_interface/src/games/supported/Tennis.cpp -> build/lib.linux-x86_64-cpython-310/atari_py/ale_interface/src/games/supported\n",
      "  \u001b[31m   \u001b[0m copying atari_py/ale_interface/src/games/supported/Tennis.hpp -> build/lib.linux-x86_64-cpython-310/atari_py/ale_interface/src/games/supported\n",
      "  \u001b[31m   \u001b[0m copying atari_py/ale_interface/src/games/supported/Tetris.cpp -> build/lib.linux-x86_64-cpython-310/atari_py/ale_interface/src/games/supported\n",
      "  \u001b[31m   \u001b[0m copying atari_py/ale_interface/src/games/supported/Tetris.hpp -> build/lib.linux-x86_64-cpython-310/atari_py/ale_interface/src/games/supported\n",
      "  \u001b[31m   \u001b[0m copying atari_py/ale_interface/src/games/supported/TimePilot.cpp -> build/lib.linux-x86_64-cpython-310/atari_py/ale_interface/src/games/supported\n",
      "  \u001b[31m   \u001b[0m copying atari_py/ale_interface/src/games/supported/TimePilot.hpp -> build/lib.linux-x86_64-cpython-310/atari_py/ale_interface/src/games/supported\n",
      "  \u001b[31m   \u001b[0m copying atari_py/ale_interface/src/games/supported/Trondead.cpp -> build/lib.linux-x86_64-cpython-310/atari_py/ale_interface/src/games/supported\n",
      "  \u001b[31m   \u001b[0m copying atari_py/ale_interface/src/games/supported/Trondead.hpp -> build/lib.linux-x86_64-cpython-310/atari_py/ale_interface/src/games/supported\n",
      "  \u001b[31m   \u001b[0m copying atari_py/ale_interface/src/games/supported/Turmoil.cpp -> build/lib.linux-x86_64-cpython-310/atari_py/ale_interface/src/games/supported\n",
      "  \u001b[31m   \u001b[0m copying atari_py/ale_interface/src/games/supported/Turmoil.hpp -> build/lib.linux-x86_64-cpython-310/atari_py/ale_interface/src/games/supported\n",
      "  \u001b[31m   \u001b[0m copying atari_py/ale_interface/src/games/supported/Tutankham.cpp -> build/lib.linux-x86_64-cpython-310/atari_py/ale_interface/src/games/supported\n",
      "  \u001b[31m   \u001b[0m copying atari_py/ale_interface/src/games/supported/Tutankham.hpp -> build/lib.linux-x86_64-cpython-310/atari_py/ale_interface/src/games/supported\n",
      "  \u001b[31m   \u001b[0m copying atari_py/ale_interface/src/games/supported/UpNDown.cpp -> build/lib.linux-x86_64-cpython-310/atari_py/ale_interface/src/games/supported\n",
      "  \u001b[31m   \u001b[0m copying atari_py/ale_interface/src/games/supported/UpNDown.hpp -> build/lib.linux-x86_64-cpython-310/atari_py/ale_interface/src/games/supported\n",
      "  \u001b[31m   \u001b[0m copying atari_py/ale_interface/src/games/supported/Venture.cpp -> build/lib.linux-x86_64-cpython-310/atari_py/ale_interface/src/games/supported\n",
      "  \u001b[31m   \u001b[0m copying atari_py/ale_interface/src/games/supported/Venture.hpp -> build/lib.linux-x86_64-cpython-310/atari_py/ale_interface/src/games/supported\n",
      "  \u001b[31m   \u001b[0m copying atari_py/ale_interface/src/games/supported/VideoPinball.cpp -> build/lib.linux-x86_64-cpython-310/atari_py/ale_interface/src/games/supported\n",
      "  \u001b[31m   \u001b[0m copying atari_py/ale_interface/src/games/supported/VideoPinball.hpp -> build/lib.linux-x86_64-cpython-310/atari_py/ale_interface/src/games/supported\n",
      "  \u001b[31m   \u001b[0m copying atari_py/ale_interface/src/games/supported/WizardOfWor.cpp -> build/lib.linux-x86_64-cpython-310/atari_py/ale_interface/src/games/supported\n",
      "  \u001b[31m   \u001b[0m copying atari_py/ale_interface/src/games/supported/WizardOfWor.hpp -> build/lib.linux-x86_64-cpython-310/atari_py/ale_interface/src/games/supported\n",
      "  \u001b[31m   \u001b[0m copying atari_py/ale_interface/src/games/supported/YarsRevenge.cpp -> build/lib.linux-x86_64-cpython-310/atari_py/ale_interface/src/games/supported\n",
      "  \u001b[31m   \u001b[0m copying atari_py/ale_interface/src/games/supported/YarsRevenge.hpp -> build/lib.linux-x86_64-cpython-310/atari_py/ale_interface/src/games/supported\n",
      "  \u001b[31m   \u001b[0m copying atari_py/ale_interface/src/games/supported/Zaxxon.cpp -> build/lib.linux-x86_64-cpython-310/atari_py/ale_interface/src/games/supported\n",
      "  \u001b[31m   \u001b[0m copying atari_py/ale_interface/src/games/supported/Zaxxon.hpp -> build/lib.linux-x86_64-cpython-310/atari_py/ale_interface/src/games/supported\n",
      "  \u001b[31m   \u001b[0m copying atari_py/ale_interface/src/main.cpp -> build/lib.linux-x86_64-cpython-310/atari_py/ale_interface/src\n",
      "  \u001b[31m   \u001b[0m copying atari_py/ale_interface/src/module.mk -> build/lib.linux-x86_64-cpython-310/atari_py/ale_interface/src\n",
      "  \u001b[31m   \u001b[0m creating build/lib.linux-x86_64-cpython-310/atari_py/ale_interface/src/os_dependent\n",
      "  \u001b[31m   \u001b[0m copying atari_py/ale_interface/src/os_dependent/FSNodePOSIX.cxx -> build/lib.linux-x86_64-cpython-310/atari_py/ale_interface/src/os_dependent\n",
      "  \u001b[31m   \u001b[0m copying atari_py/ale_interface/src/os_dependent/FSNodeWin32.cxx -> build/lib.linux-x86_64-cpython-310/atari_py/ale_interface/src/os_dependent\n",
      "  \u001b[31m   \u001b[0m copying atari_py/ale_interface/src/os_dependent/OSystemUNIX.cxx -> build/lib.linux-x86_64-cpython-310/atari_py/ale_interface/src/os_dependent\n",
      "  \u001b[31m   \u001b[0m copying atari_py/ale_interface/src/os_dependent/OSystemUNIX.hxx -> build/lib.linux-x86_64-cpython-310/atari_py/ale_interface/src/os_dependent\n",
      "  \u001b[31m   \u001b[0m copying atari_py/ale_interface/src/os_dependent/OSystemWin32.cxx -> build/lib.linux-x86_64-cpython-310/atari_py/ale_interface/src/os_dependent\n",
      "  \u001b[31m   \u001b[0m copying atari_py/ale_interface/src/os_dependent/OSystemWin32.hxx -> build/lib.linux-x86_64-cpython-310/atari_py/ale_interface/src/os_dependent\n",
      "  \u001b[31m   \u001b[0m copying atari_py/ale_interface/src/os_dependent/SettingsUNIX.cxx -> build/lib.linux-x86_64-cpython-310/atari_py/ale_interface/src/os_dependent\n",
      "  \u001b[31m   \u001b[0m copying atari_py/ale_interface/src/os_dependent/SettingsUNIX.hxx -> build/lib.linux-x86_64-cpython-310/atari_py/ale_interface/src/os_dependent\n",
      "  \u001b[31m   \u001b[0m copying atari_py/ale_interface/src/os_dependent/SettingsWin32.cxx -> build/lib.linux-x86_64-cpython-310/atari_py/ale_interface/src/os_dependent\n",
      "  \u001b[31m   \u001b[0m copying atari_py/ale_interface/src/os_dependent/SettingsWin32.hxx -> build/lib.linux-x86_64-cpython-310/atari_py/ale_interface/src/os_dependent\n",
      "  \u001b[31m   \u001b[0m copying atari_py/ale_interface/src/os_dependent/module.mk -> build/lib.linux-x86_64-cpython-310/atari_py/ale_interface/src/os_dependent\n",
      "  \u001b[31m   \u001b[0m copying atari_py/atari_ntsc_rgb_palette.h -> build/lib.linux-x86_64-cpython-310/atari_py\n",
      "  \u001b[31m   \u001b[0m creating build/lib.linux-x86_64-cpython-310/atari_py/atari_roms\n",
      "  \u001b[31m   \u001b[0m copying atari_py/atari_roms/adventure.bin -> build/lib.linux-x86_64-cpython-310/atari_py/atari_roms\n",
      "  \u001b[31m   \u001b[0m copying atari_py/atari_roms/air_raid.bin -> build/lib.linux-x86_64-cpython-310/atari_py/atari_roms\n",
      "  \u001b[31m   \u001b[0m copying atari_py/atari_roms/alien.bin -> build/lib.linux-x86_64-cpython-310/atari_py/atari_roms\n",
      "  \u001b[31m   \u001b[0m copying atari_py/atari_roms/amidar.bin -> build/lib.linux-x86_64-cpython-310/atari_py/atari_roms\n",
      "  \u001b[31m   \u001b[0m copying atari_py/atari_roms/assault.bin -> build/lib.linux-x86_64-cpython-310/atari_py/atari_roms\n",
      "  \u001b[31m   \u001b[0m copying atari_py/atari_roms/asterix.bin -> build/lib.linux-x86_64-cpython-310/atari_py/atari_roms\n",
      "  \u001b[31m   \u001b[0m copying atari_py/atari_roms/asteroids.bin -> build/lib.linux-x86_64-cpython-310/atari_py/atari_roms\n",
      "  \u001b[31m   \u001b[0m copying atari_py/atari_roms/atlantis.bin -> build/lib.linux-x86_64-cpython-310/atari_py/atari_roms\n",
      "  \u001b[31m   \u001b[0m copying atari_py/atari_roms/bank_heist.bin -> build/lib.linux-x86_64-cpython-310/atari_py/atari_roms\n",
      "  \u001b[31m   \u001b[0m copying atari_py/atari_roms/battle_zone.bin -> build/lib.linux-x86_64-cpython-310/atari_py/atari_roms\n",
      "  \u001b[31m   \u001b[0m copying atari_py/atari_roms/beam_rider.bin -> build/lib.linux-x86_64-cpython-310/atari_py/atari_roms\n",
      "  \u001b[31m   \u001b[0m copying atari_py/atari_roms/berzerk.bin -> build/lib.linux-x86_64-cpython-310/atari_py/atari_roms\n",
      "  \u001b[31m   \u001b[0m copying atari_py/atari_roms/bowling.bin -> build/lib.linux-x86_64-cpython-310/atari_py/atari_roms\n",
      "  \u001b[31m   \u001b[0m copying atari_py/atari_roms/boxing.bin -> build/lib.linux-x86_64-cpython-310/atari_py/atari_roms\n",
      "  \u001b[31m   \u001b[0m copying atari_py/atari_roms/breakout.bin -> build/lib.linux-x86_64-cpython-310/atari_py/atari_roms\n",
      "  \u001b[31m   \u001b[0m copying atari_py/atari_roms/carnival.bin -> build/lib.linux-x86_64-cpython-310/atari_py/atari_roms\n",
      "  \u001b[31m   \u001b[0m copying atari_py/atari_roms/centipede.bin -> build/lib.linux-x86_64-cpython-310/atari_py/atari_roms\n",
      "  \u001b[31m   \u001b[0m copying atari_py/atari_roms/chopper_command.bin -> build/lib.linux-x86_64-cpython-310/atari_py/atari_roms\n",
      "  \u001b[31m   \u001b[0m copying atari_py/atari_roms/crazy_climber.bin -> build/lib.linux-x86_64-cpython-310/atari_py/atari_roms\n",
      "  \u001b[31m   \u001b[0m copying atari_py/atari_roms/defender.bin -> build/lib.linux-x86_64-cpython-310/atari_py/atari_roms\n",
      "  \u001b[31m   \u001b[0m copying atari_py/atari_roms/demon_attack.bin -> build/lib.linux-x86_64-cpython-310/atari_py/atari_roms\n",
      "  \u001b[31m   \u001b[0m copying atari_py/atari_roms/double_dunk.bin -> build/lib.linux-x86_64-cpython-310/atari_py/atari_roms\n",
      "  \u001b[31m   \u001b[0m copying atari_py/atari_roms/elevator_action.bin -> build/lib.linux-x86_64-cpython-310/atari_py/atari_roms\n",
      "  \u001b[31m   \u001b[0m copying atari_py/atari_roms/enduro.bin -> build/lib.linux-x86_64-cpython-310/atari_py/atari_roms\n",
      "  \u001b[31m   \u001b[0m copying atari_py/atari_roms/fishing_derby.bin -> build/lib.linux-x86_64-cpython-310/atari_py/atari_roms\n",
      "  \u001b[31m   \u001b[0m copying atari_py/atari_roms/freeway.bin -> build/lib.linux-x86_64-cpython-310/atari_py/atari_roms\n",
      "  \u001b[31m   \u001b[0m copying atari_py/atari_roms/frostbite.bin -> build/lib.linux-x86_64-cpython-310/atari_py/atari_roms\n",
      "  \u001b[31m   \u001b[0m copying atari_py/atari_roms/gopher.bin -> build/lib.linux-x86_64-cpython-310/atari_py/atari_roms\n",
      "  \u001b[31m   \u001b[0m copying atari_py/atari_roms/gravitar.bin -> build/lib.linux-x86_64-cpython-310/atari_py/atari_roms\n",
      "  \u001b[31m   \u001b[0m copying atari_py/atari_roms/hero.bin -> build/lib.linux-x86_64-cpython-310/atari_py/atari_roms\n",
      "  \u001b[31m   \u001b[0m copying atari_py/atari_roms/ice_hockey.bin -> build/lib.linux-x86_64-cpython-310/atari_py/atari_roms\n",
      "  \u001b[31m   \u001b[0m copying atari_py/atari_roms/jamesbond.bin -> build/lib.linux-x86_64-cpython-310/atari_py/atari_roms\n",
      "  \u001b[31m   \u001b[0m copying atari_py/atari_roms/journey_escape.bin -> build/lib.linux-x86_64-cpython-310/atari_py/atari_roms\n",
      "  \u001b[31m   \u001b[0m copying atari_py/atari_roms/kaboom.bin -> build/lib.linux-x86_64-cpython-310/atari_py/atari_roms\n",
      "  \u001b[31m   \u001b[0m copying atari_py/atari_roms/kangaroo.bin -> build/lib.linux-x86_64-cpython-310/atari_py/atari_roms\n",
      "  \u001b[31m   \u001b[0m copying atari_py/atari_roms/krull.bin -> build/lib.linux-x86_64-cpython-310/atari_py/atari_roms\n",
      "  \u001b[31m   \u001b[0m copying atari_py/atari_roms/kung_fu_master.bin -> build/lib.linux-x86_64-cpython-310/atari_py/atari_roms\n",
      "  \u001b[31m   \u001b[0m copying atari_py/atari_roms/montezuma_revenge.bin -> build/lib.linux-x86_64-cpython-310/atari_py/atari_roms\n",
      "  \u001b[31m   \u001b[0m copying atari_py/atari_roms/ms_pacman.bin -> build/lib.linux-x86_64-cpython-310/atari_py/atari_roms\n",
      "  \u001b[31m   \u001b[0m copying atari_py/atari_roms/name_this_game.bin -> build/lib.linux-x86_64-cpython-310/atari_py/atari_roms\n",
      "  \u001b[31m   \u001b[0m copying atari_py/atari_roms/phoenix.bin -> build/lib.linux-x86_64-cpython-310/atari_py/atari_roms\n",
      "  \u001b[31m   \u001b[0m copying atari_py/atari_roms/pitfall.bin -> build/lib.linux-x86_64-cpython-310/atari_py/atari_roms\n",
      "  \u001b[31m   \u001b[0m copying atari_py/atari_roms/pong.bin -> build/lib.linux-x86_64-cpython-310/atari_py/atari_roms\n",
      "  \u001b[31m   \u001b[0m copying atari_py/atari_roms/pooyan.bin -> build/lib.linux-x86_64-cpython-310/atari_py/atari_roms\n",
      "  \u001b[31m   \u001b[0m copying atari_py/atari_roms/private_eye.bin -> build/lib.linux-x86_64-cpython-310/atari_py/atari_roms\n",
      "  \u001b[31m   \u001b[0m copying atari_py/atari_roms/qbert.bin -> build/lib.linux-x86_64-cpython-310/atari_py/atari_roms\n",
      "  \u001b[31m   \u001b[0m copying atari_py/atari_roms/riverraid.bin -> build/lib.linux-x86_64-cpython-310/atari_py/atari_roms\n",
      "  \u001b[31m   \u001b[0m copying atari_py/atari_roms/road_runner.bin -> build/lib.linux-x86_64-cpython-310/atari_py/atari_roms\n",
      "  \u001b[31m   \u001b[0m copying atari_py/atari_roms/robotank.bin -> build/lib.linux-x86_64-cpython-310/atari_py/atari_roms\n",
      "  \u001b[31m   \u001b[0m copying atari_py/atari_roms/seaquest.bin -> build/lib.linux-x86_64-cpython-310/atari_py/atari_roms\n",
      "  \u001b[31m   \u001b[0m copying atari_py/atari_roms/skiing.bin -> build/lib.linux-x86_64-cpython-310/atari_py/atari_roms\n",
      "  \u001b[31m   \u001b[0m copying atari_py/atari_roms/solaris.bin -> build/lib.linux-x86_64-cpython-310/atari_py/atari_roms\n",
      "  \u001b[31m   \u001b[0m copying atari_py/atari_roms/space_invaders.bin -> build/lib.linux-x86_64-cpython-310/atari_py/atari_roms\n",
      "  \u001b[31m   \u001b[0m copying atari_py/atari_roms/star_gunner.bin -> build/lib.linux-x86_64-cpython-310/atari_py/atari_roms\n",
      "  \u001b[31m   \u001b[0m copying atari_py/atari_roms/tennis.bin -> build/lib.linux-x86_64-cpython-310/atari_py/atari_roms\n",
      "  \u001b[31m   \u001b[0m copying atari_py/atari_roms/time_pilot.bin -> build/lib.linux-x86_64-cpython-310/atari_py/atari_roms\n",
      "  \u001b[31m   \u001b[0m copying atari_py/atari_roms/tutankham.bin -> build/lib.linux-x86_64-cpython-310/atari_py/atari_roms\n",
      "  \u001b[31m   \u001b[0m copying atari_py/atari_roms/up_n_down.bin -> build/lib.linux-x86_64-cpython-310/atari_py/atari_roms\n",
      "  \u001b[31m   \u001b[0m copying atari_py/atari_roms/venture.bin -> build/lib.linux-x86_64-cpython-310/atari_py/atari_roms\n",
      "  \u001b[31m   \u001b[0m copying atari_py/atari_roms/video_pinball.bin -> build/lib.linux-x86_64-cpython-310/atari_py/atari_roms\n",
      "  \u001b[31m   \u001b[0m copying atari_py/atari_roms/wizard_of_wor.bin -> build/lib.linux-x86_64-cpython-310/atari_py/atari_roms\n",
      "  \u001b[31m   \u001b[0m copying atari_py/atari_roms/yars_revenge.bin -> build/lib.linux-x86_64-cpython-310/atari_py/atari_roms\n",
      "  \u001b[31m   \u001b[0m copying atari_py/atari_roms/zaxxon.bin -> build/lib.linux-x86_64-cpython-310/atari_py/atari_roms\n",
      "  \u001b[31m   \u001b[0m copying atari_py/package_data.txt -> build/lib.linux-x86_64-cpython-310/atari_py\n",
      "  \u001b[31m   \u001b[0m creating build/lib.linux-x86_64-cpython-310/atari_py/tests\n",
      "  \u001b[31m   \u001b[0m copying atari_py/tests/__init__.py -> build/lib.linux-x86_64-cpython-310/atari_py/tests\n",
      "  \u001b[31m   \u001b[0m copying atari_py/tests/test_smoke.py -> build/lib.linux-x86_64-cpython-310/atari_py/tests\n",
      "  \u001b[31m   \u001b[0m running build_ext\n",
      "  \u001b[31m   \u001b[0m Traceback (most recent call last):\n",
      "  \u001b[31m   \u001b[0m   File \"/tmp/pip-install-aeaibrw1/atari-py_1174f08fed124590a54a4658426950b9/setup.py\", line 21, in run\n",
      "  \u001b[31m   \u001b[0m     subprocess.check_call(['cmake', '..'], cwd=cwd)\n",
      "  \u001b[31m   \u001b[0m   File \"/home/artem/anaconda3/envs/MSAIRL/lib/python3.10/subprocess.py\", line 364, in check_call\n",
      "  \u001b[31m   \u001b[0m     retcode = call(*popenargs, **kwargs)\n",
      "  \u001b[31m   \u001b[0m   File \"/home/artem/anaconda3/envs/MSAIRL/lib/python3.10/subprocess.py\", line 345, in call\n",
      "  \u001b[31m   \u001b[0m     with Popen(*popenargs, **kwargs) as p:\n",
      "  \u001b[31m   \u001b[0m   File \"/home/artem/anaconda3/envs/MSAIRL/lib/python3.10/subprocess.py\", line 971, in __init__\n",
      "  \u001b[31m   \u001b[0m     self._execute_child(args, executable, preexec_fn, close_fds,\n",
      "  \u001b[31m   \u001b[0m   File \"/home/artem/anaconda3/envs/MSAIRL/lib/python3.10/subprocess.py\", line 1847, in _execute_child\n",
      "  \u001b[31m   \u001b[0m     raise child_exception_type(errno_num, err_msg, err_filename)\n",
      "  \u001b[31m   \u001b[0m FileNotFoundError: [Errno 2] No such file or directory: 'cmake'\n",
      "  \u001b[31m   \u001b[0m \n",
      "  \u001b[31m   \u001b[0m During handling of the above exception, another exception occurred:\n",
      "  \u001b[31m   \u001b[0m \n",
      "  \u001b[31m   \u001b[0m Traceback (most recent call last):\n",
      "  \u001b[31m   \u001b[0m   File \"<string>\", line 2, in <module>\n",
      "  \u001b[31m   \u001b[0m   File \"<pip-setuptools-caller>\", line 34, in <module>\n",
      "  \u001b[31m   \u001b[0m   File \"/tmp/pip-install-aeaibrw1/atari-py_1174f08fed124590a54a4658426950b9/setup.py\", line 35, in <module>\n",
      "  \u001b[31m   \u001b[0m     setup(name='atari-py',\n",
      "  \u001b[31m   \u001b[0m   File \"/home/artem/anaconda3/envs/MSAIRL/lib/python3.10/site-packages/setuptools/__init__.py\", line 87, in setup\n",
      "  \u001b[31m   \u001b[0m     return distutils.core.setup(**attrs)\n",
      "  \u001b[31m   \u001b[0m   File \"/home/artem/anaconda3/envs/MSAIRL/lib/python3.10/site-packages/setuptools/_distutils/core.py\", line 185, in setup\n",
      "  \u001b[31m   \u001b[0m     return run_commands(dist)\n",
      "  \u001b[31m   \u001b[0m   File \"/home/artem/anaconda3/envs/MSAIRL/lib/python3.10/site-packages/setuptools/_distutils/core.py\", line 201, in run_commands\n",
      "  \u001b[31m   \u001b[0m     dist.run_commands()\n",
      "  \u001b[31m   \u001b[0m   File \"/home/artem/anaconda3/envs/MSAIRL/lib/python3.10/site-packages/setuptools/_distutils/dist.py\", line 968, in run_commands\n",
      "  \u001b[31m   \u001b[0m     self.run_command(cmd)\n",
      "  \u001b[31m   \u001b[0m   File \"/home/artem/anaconda3/envs/MSAIRL/lib/python3.10/site-packages/setuptools/dist.py\", line 1217, in run_command\n",
      "  \u001b[31m   \u001b[0m     super().run_command(command)\n",
      "  \u001b[31m   \u001b[0m   File \"/home/artem/anaconda3/envs/MSAIRL/lib/python3.10/site-packages/setuptools/_distutils/dist.py\", line 987, in run_command\n",
      "  \u001b[31m   \u001b[0m     cmd_obj.run()\n",
      "  \u001b[31m   \u001b[0m   File \"/home/artem/anaconda3/envs/MSAIRL/lib/python3.10/site-packages/wheel/bdist_wheel.py\", line 299, in run\n",
      "  \u001b[31m   \u001b[0m     self.run_command('build')\n",
      "  \u001b[31m   \u001b[0m   File \"/home/artem/anaconda3/envs/MSAIRL/lib/python3.10/site-packages/setuptools/_distutils/cmd.py\", line 319, in run_command\n",
      "  \u001b[31m   \u001b[0m     self.distribution.run_command(command)\n",
      "  \u001b[31m   \u001b[0m   File \"/home/artem/anaconda3/envs/MSAIRL/lib/python3.10/site-packages/setuptools/dist.py\", line 1217, in run_command\n",
      "  \u001b[31m   \u001b[0m     super().run_command(command)\n",
      "  \u001b[31m   \u001b[0m   File \"/home/artem/anaconda3/envs/MSAIRL/lib/python3.10/site-packages/setuptools/_distutils/dist.py\", line 987, in run_command\n",
      "  \u001b[31m   \u001b[0m     cmd_obj.run()\n",
      "  \u001b[31m   \u001b[0m   File \"/home/artem/anaconda3/envs/MSAIRL/lib/python3.10/site-packages/setuptools/_distutils/command/build.py\", line 132, in run\n",
      "  \u001b[31m   \u001b[0m     self.run_command(cmd_name)\n",
      "  \u001b[31m   \u001b[0m   File \"/home/artem/anaconda3/envs/MSAIRL/lib/python3.10/site-packages/setuptools/_distutils/cmd.py\", line 319, in run_command\n",
      "  \u001b[31m   \u001b[0m     self.distribution.run_command(command)\n",
      "  \u001b[31m   \u001b[0m   File \"/home/artem/anaconda3/envs/MSAIRL/lib/python3.10/site-packages/setuptools/dist.py\", line 1217, in run_command\n",
      "  \u001b[31m   \u001b[0m     super().run_command(command)\n",
      "  \u001b[31m   \u001b[0m   File \"/home/artem/anaconda3/envs/MSAIRL/lib/python3.10/site-packages/setuptools/_distutils/dist.py\", line 987, in run_command\n",
      "  \u001b[31m   \u001b[0m     cmd_obj.run()\n",
      "  \u001b[31m   \u001b[0m   File \"/tmp/pip-install-aeaibrw1/atari-py_1174f08fed124590a54a4658426950b9/setup.py\", line 27, in run\n",
      "  \u001b[31m   \u001b[0m     sys.stderr.write(\"Unable to execute '{}'. HINT: are you sure `make` is installed?\\n\".format(' '.join(cmd)))\n",
      "  \u001b[31m   \u001b[0m NameError: name 'cmd' is not defined. Did you mean: 'cwd'?\n",
      "  \u001b[31m   \u001b[0m \u001b[31m[end of output]\u001b[0m\n",
      "  \n",
      "  \u001b[1;35mnote\u001b[0m: This error originates from a subprocess, and is likely not a problem with pip.\n",
      "\u001b[31m  ERROR: Failed building wheel for atari-py\u001b[0m\u001b[31m\n",
      "\u001b[0m\u001b[?25h  Running setup.py clean for atari-py\n"
     ]
    },
    {
     "name": "stdout",
     "output_type": "stream",
     "text": [
      "Failed to build atari-py\n",
      "Installing collected packages: atari-py\n",
      "  Running setup.py install for atari-py ... \u001b[?25lerror\n",
      "  \u001b[1;31merror\u001b[0m: \u001b[1msubprocess-exited-with-error\u001b[0m\n",
      "  \n",
      "  \u001b[31m×\u001b[0m \u001b[32mRunning setup.py install for atari-py\u001b[0m did not run successfully.\n",
      "  \u001b[31m│\u001b[0m exit code: \u001b[1;36m1\u001b[0m\n",
      "  \u001b[31m╰─>\u001b[0m \u001b[31m[515 lines of output]\u001b[0m\n",
      "  \u001b[31m   \u001b[0m running install\n",
      "  \u001b[31m   \u001b[0m /home/artem/anaconda3/envs/MSAIRL/lib/python3.10/site-packages/setuptools/command/install.py:34: SetuptoolsDeprecationWarning: setup.py install is deprecated. Use build and pip and other standards-based tools.\n",
      "  \u001b[31m   \u001b[0m   warnings.warn(\n",
      "  \u001b[31m   \u001b[0m running build\n",
      "  \u001b[31m   \u001b[0m running build_py\n",
      "  \u001b[31m   \u001b[0m creating build\n",
      "  \u001b[31m   \u001b[0m creating build/lib.linux-x86_64-cpython-310\n",
      "  \u001b[31m   \u001b[0m creating build/lib.linux-x86_64-cpython-310/atari_py\n",
      "  \u001b[31m   \u001b[0m copying atari_py/__init__.py -> build/lib.linux-x86_64-cpython-310/atari_py\n",
      "  \u001b[31m   \u001b[0m copying atari_py/ale_python_interface.py -> build/lib.linux-x86_64-cpython-310/atari_py\n",
      "  \u001b[31m   \u001b[0m copying atari_py/ale_c_wrapper.cpp -> build/lib.linux-x86_64-cpython-310/atari_py\n",
      "  \u001b[31m   \u001b[0m copying atari_py/ale_c_wrapper.h -> build/lib.linux-x86_64-cpython-310/atari_py\n",
      "  \u001b[31m   \u001b[0m creating build/lib.linux-x86_64-cpython-310/atari_py/ale_interface\n",
      "  \u001b[31m   \u001b[0m copying atari_py/ale_interface/CMakeLists.txt -> build/lib.linux-x86_64-cpython-310/atari_py/ale_interface\n",
      "  \u001b[31m   \u001b[0m creating build/lib.linux-x86_64-cpython-310/atari_py/ale_interface/src\n",
      "  \u001b[31m   \u001b[0m copying atari_py/ale_interface/src/ale_interface.cpp -> build/lib.linux-x86_64-cpython-310/atari_py/ale_interface/src\n",
      "  \u001b[31m   \u001b[0m copying atari_py/ale_interface/src/ale_interface.hpp -> build/lib.linux-x86_64-cpython-310/atari_py/ale_interface/src\n",
      "  \u001b[31m   \u001b[0m creating build/lib.linux-x86_64-cpython-310/atari_py/ale_interface/src/common\n",
      "  \u001b[31m   \u001b[0m copying atari_py/ale_interface/src/common/Array.hxx -> build/lib.linux-x86_64-cpython-310/atari_py/ale_interface/src/common\n",
      "  \u001b[31m   \u001b[0m copying atari_py/ale_interface/src/common/ColourPalette.cpp -> build/lib.linux-x86_64-cpython-310/atari_py/ale_interface/src/common\n",
      "  \u001b[31m   \u001b[0m copying atari_py/ale_interface/src/common/ColourPalette.hpp -> build/lib.linux-x86_64-cpython-310/atari_py/ale_interface/src/common\n",
      "  \u001b[31m   \u001b[0m copying atari_py/ale_interface/src/common/Constants.cpp -> build/lib.linux-x86_64-cpython-310/atari_py/ale_interface/src/common\n",
      "  \u001b[31m   \u001b[0m copying atari_py/ale_interface/src/common/Constants.h -> build/lib.linux-x86_64-cpython-310/atari_py/ale_interface/src/common\n",
      "  \u001b[31m   \u001b[0m copying atari_py/ale_interface/src/common/Log.cpp -> build/lib.linux-x86_64-cpython-310/atari_py/ale_interface/src/common\n",
      "  \u001b[31m   \u001b[0m copying atari_py/ale_interface/src/common/Log.hpp -> build/lib.linux-x86_64-cpython-310/atari_py/ale_interface/src/common\n",
      "  \u001b[31m   \u001b[0m copying atari_py/ale_interface/src/common/Palettes.hpp -> build/lib.linux-x86_64-cpython-310/atari_py/ale_interface/src/common\n",
      "  \u001b[31m   \u001b[0m copying atari_py/ale_interface/src/common/ScreenExporter.cpp -> build/lib.linux-x86_64-cpython-310/atari_py/ale_interface/src/common\n",
      "  \u001b[31m   \u001b[0m copying atari_py/ale_interface/src/common/ScreenExporter.hpp -> build/lib.linux-x86_64-cpython-310/atari_py/ale_interface/src/common\n",
      "  \u001b[31m   \u001b[0m copying atari_py/ale_interface/src/common/SoundExporter.cpp -> build/lib.linux-x86_64-cpython-310/atari_py/ale_interface/src/common\n",
      "  \u001b[31m   \u001b[0m copying atari_py/ale_interface/src/common/SoundExporter.hpp -> build/lib.linux-x86_64-cpython-310/atari_py/ale_interface/src/common\n",
      "  \u001b[31m   \u001b[0m copying atari_py/ale_interface/src/common/SoundNull.cxx -> build/lib.linux-x86_64-cpython-310/atari_py/ale_interface/src/common\n",
      "  \u001b[31m   \u001b[0m copying atari_py/ale_interface/src/common/SoundNull.hxx -> build/lib.linux-x86_64-cpython-310/atari_py/ale_interface/src/common\n",
      "  \u001b[31m   \u001b[0m copying atari_py/ale_interface/src/common/SoundSDL.cxx -> build/lib.linux-x86_64-cpython-310/atari_py/ale_interface/src/common\n",
      "  \u001b[31m   \u001b[0m copying atari_py/ale_interface/src/common/SoundSDL.hxx -> build/lib.linux-x86_64-cpython-310/atari_py/ale_interface/src/common\n",
      "  \u001b[31m   \u001b[0m copying atari_py/ale_interface/src/common/Version.hxx -> build/lib.linux-x86_64-cpython-310/atari_py/ale_interface/src/common\n",
      "  \u001b[31m   \u001b[0m copying atari_py/ale_interface/src/common/VideoModeList.hxx -> build/lib.linux-x86_64-cpython-310/atari_py/ale_interface/src/common\n",
      "  \u001b[31m   \u001b[0m copying atari_py/ale_interface/src/common/display_screen.cpp -> build/lib.linux-x86_64-cpython-310/atari_py/ale_interface/src/common\n",
      "  \u001b[31m   \u001b[0m copying atari_py/ale_interface/src/common/display_screen.h -> build/lib.linux-x86_64-cpython-310/atari_py/ale_interface/src/common\n",
      "  \u001b[31m   \u001b[0m copying atari_py/ale_interface/src/common/misc_tools.h -> build/lib.linux-x86_64-cpython-310/atari_py/ale_interface/src/common\n",
      "  \u001b[31m   \u001b[0m copying atari_py/ale_interface/src/common/module.mk -> build/lib.linux-x86_64-cpython-310/atari_py/ale_interface/src/common\n",
      "  \u001b[31m   \u001b[0m copying atari_py/ale_interface/src/common/stella.png -> build/lib.linux-x86_64-cpython-310/atari_py/ale_interface/src/common\n",
      "  \u001b[31m   \u001b[0m copying atari_py/ale_interface/src/common/stella.xpm -> build/lib.linux-x86_64-cpython-310/atari_py/ale_interface/src/common\n",
      "  \u001b[31m   \u001b[0m creating build/lib.linux-x86_64-cpython-310/atari_py/ale_interface/src/controllers\n",
      "  \u001b[31m   \u001b[0m copying atari_py/ale_interface/src/controllers/ale_controller.cpp -> build/lib.linux-x86_64-cpython-310/atari_py/ale_interface/src/controllers\n",
      "  \u001b[31m   \u001b[0m copying atari_py/ale_interface/src/controllers/ale_controller.hpp -> build/lib.linux-x86_64-cpython-310/atari_py/ale_interface/src/controllers\n",
      "  \u001b[31m   \u001b[0m copying atari_py/ale_interface/src/controllers/fifo_controller.cpp -> build/lib.linux-x86_64-cpython-310/atari_py/ale_interface/src/controllers\n",
      "  \u001b[31m   \u001b[0m copying atari_py/ale_interface/src/controllers/fifo_controller.hpp -> build/lib.linux-x86_64-cpython-310/atari_py/ale_interface/src/controllers\n",
      "  \u001b[31m   \u001b[0m copying atari_py/ale_interface/src/controllers/module.mk -> build/lib.linux-x86_64-cpython-310/atari_py/ale_interface/src/controllers\n",
      "  \u001b[31m   \u001b[0m copying atari_py/ale_interface/src/controllers/rlglue_controller.cpp -> build/lib.linux-x86_64-cpython-310/atari_py/ale_interface/src/controllers\n",
      "  \u001b[31m   \u001b[0m copying atari_py/ale_interface/src/controllers/rlglue_controller.hpp -> build/lib.linux-x86_64-cpython-310/atari_py/ale_interface/src/controllers\n",
      "  \u001b[31m   \u001b[0m creating build/lib.linux-x86_64-cpython-310/atari_py/ale_interface/src/emucore\n",
      "  \u001b[31m   \u001b[0m copying atari_py/ale_interface/src/emucore/AtariVox.cxx -> build/lib.linux-x86_64-cpython-310/atari_py/ale_interface/src/emucore\n",
      "  \u001b[31m   \u001b[0m copying atari_py/ale_interface/src/emucore/AtariVox.hxx -> build/lib.linux-x86_64-cpython-310/atari_py/ale_interface/src/emucore\n",
      "  \u001b[31m   \u001b[0m copying atari_py/ale_interface/src/emucore/Booster.cxx -> build/lib.linux-x86_64-cpython-310/atari_py/ale_interface/src/emucore\n",
      "  \u001b[31m   \u001b[0m copying atari_py/ale_interface/src/emucore/Booster.hxx -> build/lib.linux-x86_64-cpython-310/atari_py/ale_interface/src/emucore\n",
      "  \u001b[31m   \u001b[0m copying atari_py/ale_interface/src/emucore/Cart.cxx -> build/lib.linux-x86_64-cpython-310/atari_py/ale_interface/src/emucore\n",
      "  \u001b[31m   \u001b[0m copying atari_py/ale_interface/src/emucore/Cart.hxx -> build/lib.linux-x86_64-cpython-310/atari_py/ale_interface/src/emucore\n",
      "  \u001b[31m   \u001b[0m copying atari_py/ale_interface/src/emucore/Cart0840.cxx -> build/lib.linux-x86_64-cpython-310/atari_py/ale_interface/src/emucore\n",
      "  \u001b[31m   \u001b[0m copying atari_py/ale_interface/src/emucore/Cart0840.hxx -> build/lib.linux-x86_64-cpython-310/atari_py/ale_interface/src/emucore\n",
      "  \u001b[31m   \u001b[0m copying atari_py/ale_interface/src/emucore/Cart2K.cxx -> build/lib.linux-x86_64-cpython-310/atari_py/ale_interface/src/emucore\n",
      "  \u001b[31m   \u001b[0m copying atari_py/ale_interface/src/emucore/Cart2K.hxx -> build/lib.linux-x86_64-cpython-310/atari_py/ale_interface/src/emucore\n",
      "  \u001b[31m   \u001b[0m copying atari_py/ale_interface/src/emucore/Cart3E.cxx -> build/lib.linux-x86_64-cpython-310/atari_py/ale_interface/src/emucore\n",
      "  \u001b[31m   \u001b[0m copying atari_py/ale_interface/src/emucore/Cart3E.hxx -> build/lib.linux-x86_64-cpython-310/atari_py/ale_interface/src/emucore\n",
      "  \u001b[31m   \u001b[0m copying atari_py/ale_interface/src/emucore/Cart3F.cxx -> build/lib.linux-x86_64-cpython-310/atari_py/ale_interface/src/emucore\n",
      "  \u001b[31m   \u001b[0m copying atari_py/ale_interface/src/emucore/Cart3F.hxx -> build/lib.linux-x86_64-cpython-310/atari_py/ale_interface/src/emucore\n",
      "  \u001b[31m   \u001b[0m copying atari_py/ale_interface/src/emucore/Cart4A50.cxx -> build/lib.linux-x86_64-cpython-310/atari_py/ale_interface/src/emucore\n",
      "  \u001b[31m   \u001b[0m copying atari_py/ale_interface/src/emucore/Cart4A50.hxx -> build/lib.linux-x86_64-cpython-310/atari_py/ale_interface/src/emucore\n",
      "  \u001b[31m   \u001b[0m copying atari_py/ale_interface/src/emucore/Cart4K.cxx -> build/lib.linux-x86_64-cpython-310/atari_py/ale_interface/src/emucore\n",
      "  \u001b[31m   \u001b[0m copying atari_py/ale_interface/src/emucore/Cart4K.hxx -> build/lib.linux-x86_64-cpython-310/atari_py/ale_interface/src/emucore\n",
      "  \u001b[31m   \u001b[0m copying atari_py/ale_interface/src/emucore/CartAR.cxx -> build/lib.linux-x86_64-cpython-310/atari_py/ale_interface/src/emucore\n",
      "  \u001b[31m   \u001b[0m copying atari_py/ale_interface/src/emucore/CartAR.hxx -> build/lib.linux-x86_64-cpython-310/atari_py/ale_interface/src/emucore\n",
      "  \u001b[31m   \u001b[0m copying atari_py/ale_interface/src/emucore/CartCV.cxx -> build/lib.linux-x86_64-cpython-310/atari_py/ale_interface/src/emucore\n",
      "  \u001b[31m   \u001b[0m copying atari_py/ale_interface/src/emucore/CartCV.hxx -> build/lib.linux-x86_64-cpython-310/atari_py/ale_interface/src/emucore\n",
      "  \u001b[31m   \u001b[0m copying atari_py/ale_interface/src/emucore/CartDPC.cxx -> build/lib.linux-x86_64-cpython-310/atari_py/ale_interface/src/emucore\n",
      "  \u001b[31m   \u001b[0m copying atari_py/ale_interface/src/emucore/CartDPC.hxx -> build/lib.linux-x86_64-cpython-310/atari_py/ale_interface/src/emucore\n",
      "  \u001b[31m   \u001b[0m copying atari_py/ale_interface/src/emucore/CartE0.cxx -> build/lib.linux-x86_64-cpython-310/atari_py/ale_interface/src/emucore\n",
      "  \u001b[31m   \u001b[0m copying atari_py/ale_interface/src/emucore/CartE0.hxx -> build/lib.linux-x86_64-cpython-310/atari_py/ale_interface/src/emucore\n",
      "  \u001b[31m   \u001b[0m copying atari_py/ale_interface/src/emucore/CartE7.cxx -> build/lib.linux-x86_64-cpython-310/atari_py/ale_interface/src/emucore\n",
      "  \u001b[31m   \u001b[0m copying atari_py/ale_interface/src/emucore/CartE7.hxx -> build/lib.linux-x86_64-cpython-310/atari_py/ale_interface/src/emucore\n",
      "  \u001b[31m   \u001b[0m copying atari_py/ale_interface/src/emucore/CartF4.cxx -> build/lib.linux-x86_64-cpython-310/atari_py/ale_interface/src/emucore\n",
      "  \u001b[31m   \u001b[0m copying atari_py/ale_interface/src/emucore/CartF4.hxx -> build/lib.linux-x86_64-cpython-310/atari_py/ale_interface/src/emucore\n",
      "  \u001b[31m   \u001b[0m copying atari_py/ale_interface/src/emucore/CartF4SC.cxx -> build/lib.linux-x86_64-cpython-310/atari_py/ale_interface/src/emucore\n",
      "  \u001b[31m   \u001b[0m copying atari_py/ale_interface/src/emucore/CartF4SC.hxx -> build/lib.linux-x86_64-cpython-310/atari_py/ale_interface/src/emucore\n",
      "  \u001b[31m   \u001b[0m copying atari_py/ale_interface/src/emucore/CartF6.cxx -> build/lib.linux-x86_64-cpython-310/atari_py/ale_interface/src/emucore\n",
      "  \u001b[31m   \u001b[0m copying atari_py/ale_interface/src/emucore/CartF6.hxx -> build/lib.linux-x86_64-cpython-310/atari_py/ale_interface/src/emucore\n",
      "  \u001b[31m   \u001b[0m copying atari_py/ale_interface/src/emucore/CartF6SC.cxx -> build/lib.linux-x86_64-cpython-310/atari_py/ale_interface/src/emucore\n",
      "  \u001b[31m   \u001b[0m copying atari_py/ale_interface/src/emucore/CartF6SC.hxx -> build/lib.linux-x86_64-cpython-310/atari_py/ale_interface/src/emucore\n",
      "  \u001b[31m   \u001b[0m copying atari_py/ale_interface/src/emucore/CartF8.cxx -> build/lib.linux-x86_64-cpython-310/atari_py/ale_interface/src/emucore\n",
      "  \u001b[31m   \u001b[0m copying atari_py/ale_interface/src/emucore/CartF8.hxx -> build/lib.linux-x86_64-cpython-310/atari_py/ale_interface/src/emucore\n",
      "  \u001b[31m   \u001b[0m copying atari_py/ale_interface/src/emucore/CartF8SC.cxx -> build/lib.linux-x86_64-cpython-310/atari_py/ale_interface/src/emucore\n",
      "  \u001b[31m   \u001b[0m copying atari_py/ale_interface/src/emucore/CartF8SC.hxx -> build/lib.linux-x86_64-cpython-310/atari_py/ale_interface/src/emucore\n",
      "  \u001b[31m   \u001b[0m copying atari_py/ale_interface/src/emucore/CartFASC.cxx -> build/lib.linux-x86_64-cpython-310/atari_py/ale_interface/src/emucore\n",
      "  \u001b[31m   \u001b[0m copying atari_py/ale_interface/src/emucore/CartFASC.hxx -> build/lib.linux-x86_64-cpython-310/atari_py/ale_interface/src/emucore\n",
      "  \u001b[31m   \u001b[0m copying atari_py/ale_interface/src/emucore/CartFE.cxx -> build/lib.linux-x86_64-cpython-310/atari_py/ale_interface/src/emucore\n",
      "  \u001b[31m   \u001b[0m copying atari_py/ale_interface/src/emucore/CartFE.hxx -> build/lib.linux-x86_64-cpython-310/atari_py/ale_interface/src/emucore\n",
      "  \u001b[31m   \u001b[0m copying atari_py/ale_interface/src/emucore/CartMB.cxx -> build/lib.linux-x86_64-cpython-310/atari_py/ale_interface/src/emucore\n",
      "  \u001b[31m   \u001b[0m copying atari_py/ale_interface/src/emucore/CartMB.hxx -> build/lib.linux-x86_64-cpython-310/atari_py/ale_interface/src/emucore\n",
      "  \u001b[31m   \u001b[0m copying atari_py/ale_interface/src/emucore/CartMC.cxx -> build/lib.linux-x86_64-cpython-310/atari_py/ale_interface/src/emucore\n",
      "  \u001b[31m   \u001b[0m copying atari_py/ale_interface/src/emucore/CartMC.hxx -> build/lib.linux-x86_64-cpython-310/atari_py/ale_interface/src/emucore\n",
      "  \u001b[31m   \u001b[0m copying atari_py/ale_interface/src/emucore/CartUA.cxx -> build/lib.linux-x86_64-cpython-310/atari_py/ale_interface/src/emucore\n",
      "  \u001b[31m   \u001b[0m copying atari_py/ale_interface/src/emucore/CartUA.hxx -> build/lib.linux-x86_64-cpython-310/atari_py/ale_interface/src/emucore\n",
      "  \u001b[31m   \u001b[0m copying atari_py/ale_interface/src/emucore/Console.cxx -> build/lib.linux-x86_64-cpython-310/atari_py/ale_interface/src/emucore\n",
      "  \u001b[31m   \u001b[0m copying atari_py/ale_interface/src/emucore/Console.hxx -> build/lib.linux-x86_64-cpython-310/atari_py/ale_interface/src/emucore\n",
      "  \u001b[31m   \u001b[0m copying atari_py/ale_interface/src/emucore/Control.cxx -> build/lib.linux-x86_64-cpython-310/atari_py/ale_interface/src/emucore\n",
      "  \u001b[31m   \u001b[0m copying atari_py/ale_interface/src/emucore/Control.hxx -> build/lib.linux-x86_64-cpython-310/atari_py/ale_interface/src/emucore\n",
      "  \u001b[31m   \u001b[0m copying atari_py/ale_interface/src/emucore/DefProps.hxx -> build/lib.linux-x86_64-cpython-310/atari_py/ale_interface/src/emucore\n",
      "  \u001b[31m   \u001b[0m copying atari_py/ale_interface/src/emucore/Deserializer.cxx -> build/lib.linux-x86_64-cpython-310/atari_py/ale_interface/src/emucore\n",
      "  \u001b[31m   \u001b[0m copying atari_py/ale_interface/src/emucore/Deserializer.hxx -> build/lib.linux-x86_64-cpython-310/atari_py/ale_interface/src/emucore\n",
      "  \u001b[31m   \u001b[0m copying atari_py/ale_interface/src/emucore/Driving.cxx -> build/lib.linux-x86_64-cpython-310/atari_py/ale_interface/src/emucore\n",
      "  \u001b[31m   \u001b[0m copying atari_py/ale_interface/src/emucore/Driving.hxx -> build/lib.linux-x86_64-cpython-310/atari_py/ale_interface/src/emucore\n",
      "  \u001b[31m   \u001b[0m copying atari_py/ale_interface/src/emucore/Event.cxx -> build/lib.linux-x86_64-cpython-310/atari_py/ale_interface/src/emucore\n",
      "  \u001b[31m   \u001b[0m copying atari_py/ale_interface/src/emucore/Event.hxx -> build/lib.linux-x86_64-cpython-310/atari_py/ale_interface/src/emucore\n",
      "  \u001b[31m   \u001b[0m copying atari_py/ale_interface/src/emucore/FSNode.cxx -> build/lib.linux-x86_64-cpython-310/atari_py/ale_interface/src/emucore\n",
      "  \u001b[31m   \u001b[0m copying atari_py/ale_interface/src/emucore/FSNode.hxx -> build/lib.linux-x86_64-cpython-310/atari_py/ale_interface/src/emucore\n",
      "  \u001b[31m   \u001b[0m copying atari_py/ale_interface/src/emucore/Joystick.cxx -> build/lib.linux-x86_64-cpython-310/atari_py/ale_interface/src/emucore\n",
      "  \u001b[31m   \u001b[0m copying atari_py/ale_interface/src/emucore/Joystick.hxx -> build/lib.linux-x86_64-cpython-310/atari_py/ale_interface/src/emucore\n",
      "  \u001b[31m   \u001b[0m copying atari_py/ale_interface/src/emucore/Keyboard.cxx -> build/lib.linux-x86_64-cpython-310/atari_py/ale_interface/src/emucore\n",
      "  \u001b[31m   \u001b[0m copying atari_py/ale_interface/src/emucore/Keyboard.hxx -> build/lib.linux-x86_64-cpython-310/atari_py/ale_interface/src/emucore\n",
      "  \u001b[31m   \u001b[0m copying atari_py/ale_interface/src/emucore/M6532.cxx -> build/lib.linux-x86_64-cpython-310/atari_py/ale_interface/src/emucore\n",
      "  \u001b[31m   \u001b[0m copying atari_py/ale_interface/src/emucore/M6532.hxx -> build/lib.linux-x86_64-cpython-310/atari_py/ale_interface/src/emucore\n",
      "  \u001b[31m   \u001b[0m copying atari_py/ale_interface/src/emucore/MD5.cxx -> build/lib.linux-x86_64-cpython-310/atari_py/ale_interface/src/emucore\n",
      "  \u001b[31m   \u001b[0m copying atari_py/ale_interface/src/emucore/MD5.hxx -> build/lib.linux-x86_64-cpython-310/atari_py/ale_interface/src/emucore\n",
      "  \u001b[31m   \u001b[0m copying atari_py/ale_interface/src/emucore/MediaSrc.cxx -> build/lib.linux-x86_64-cpython-310/atari_py/ale_interface/src/emucore\n",
      "  \u001b[31m   \u001b[0m copying atari_py/ale_interface/src/emucore/MediaSrc.hxx -> build/lib.linux-x86_64-cpython-310/atari_py/ale_interface/src/emucore\n",
      "  \u001b[31m   \u001b[0m copying atari_py/ale_interface/src/emucore/OSystem.cxx -> build/lib.linux-x86_64-cpython-310/atari_py/ale_interface/src/emucore\n",
      "  \u001b[31m   \u001b[0m copying atari_py/ale_interface/src/emucore/OSystem.hxx -> build/lib.linux-x86_64-cpython-310/atari_py/ale_interface/src/emucore\n",
      "  \u001b[31m   \u001b[0m copying atari_py/ale_interface/src/emucore/Paddles.cxx -> build/lib.linux-x86_64-cpython-310/atari_py/ale_interface/src/emucore\n",
      "  \u001b[31m   \u001b[0m copying atari_py/ale_interface/src/emucore/Paddles.hxx -> build/lib.linux-x86_64-cpython-310/atari_py/ale_interface/src/emucore\n",
      "  \u001b[31m   \u001b[0m copying atari_py/ale_interface/src/emucore/Props.cxx -> build/lib.linux-x86_64-cpython-310/atari_py/ale_interface/src/emucore\n",
      "  \u001b[31m   \u001b[0m copying atari_py/ale_interface/src/emucore/Props.hxx -> build/lib.linux-x86_64-cpython-310/atari_py/ale_interface/src/emucore\n",
      "  \u001b[31m   \u001b[0m copying atari_py/ale_interface/src/emucore/PropsSet.cxx -> build/lib.linux-x86_64-cpython-310/atari_py/ale_interface/src/emucore\n",
      "  \u001b[31m   \u001b[0m copying atari_py/ale_interface/src/emucore/PropsSet.hxx -> build/lib.linux-x86_64-cpython-310/atari_py/ale_interface/src/emucore\n",
      "  \u001b[31m   \u001b[0m copying atari_py/ale_interface/src/emucore/Random.cxx -> build/lib.linux-x86_64-cpython-310/atari_py/ale_interface/src/emucore\n",
      "  \u001b[31m   \u001b[0m copying atari_py/ale_interface/src/emucore/Random.hxx -> build/lib.linux-x86_64-cpython-310/atari_py/ale_interface/src/emucore\n",
      "  \u001b[31m   \u001b[0m copying atari_py/ale_interface/src/emucore/Serializer.cxx -> build/lib.linux-x86_64-cpython-310/atari_py/ale_interface/src/emucore\n",
      "  \u001b[31m   \u001b[0m copying atari_py/ale_interface/src/emucore/Serializer.hxx -> build/lib.linux-x86_64-cpython-310/atari_py/ale_interface/src/emucore\n",
      "  \u001b[31m   \u001b[0m copying atari_py/ale_interface/src/emucore/Settings.cxx -> build/lib.linux-x86_64-cpython-310/atari_py/ale_interface/src/emucore\n",
      "  \u001b[31m   \u001b[0m copying atari_py/ale_interface/src/emucore/Settings.hxx -> build/lib.linux-x86_64-cpython-310/atari_py/ale_interface/src/emucore\n",
      "  \u001b[31m   \u001b[0m copying atari_py/ale_interface/src/emucore/Sound.hxx -> build/lib.linux-x86_64-cpython-310/atari_py/ale_interface/src/emucore\n",
      "  \u001b[31m   \u001b[0m copying atari_py/ale_interface/src/emucore/SpeakJet.cxx -> build/lib.linux-x86_64-cpython-310/atari_py/ale_interface/src/emucore\n",
      "  \u001b[31m   \u001b[0m copying atari_py/ale_interface/src/emucore/SpeakJet.hxx -> build/lib.linux-x86_64-cpython-310/atari_py/ale_interface/src/emucore\n",
      "  \u001b[31m   \u001b[0m copying atari_py/ale_interface/src/emucore/Switches.cxx -> build/lib.linux-x86_64-cpython-310/atari_py/ale_interface/src/emucore\n",
      "  \u001b[31m   \u001b[0m copying atari_py/ale_interface/src/emucore/Switches.hxx -> build/lib.linux-x86_64-cpython-310/atari_py/ale_interface/src/emucore\n",
      "  \u001b[31m   \u001b[0m copying atari_py/ale_interface/src/emucore/TIA.cxx -> build/lib.linux-x86_64-cpython-310/atari_py/ale_interface/src/emucore\n",
      "  \u001b[31m   \u001b[0m copying atari_py/ale_interface/src/emucore/TIA.hxx -> build/lib.linux-x86_64-cpython-310/atari_py/ale_interface/src/emucore\n",
      "  \u001b[31m   \u001b[0m copying atari_py/ale_interface/src/emucore/TIASnd.cxx -> build/lib.linux-x86_64-cpython-310/atari_py/ale_interface/src/emucore\n",
      "  \u001b[31m   \u001b[0m copying atari_py/ale_interface/src/emucore/TIASnd.hxx -> build/lib.linux-x86_64-cpython-310/atari_py/ale_interface/src/emucore\n",
      "  \u001b[31m   \u001b[0m creating build/lib.linux-x86_64-cpython-310/atari_py/ale_interface/src/emucore/m6502\n",
      "  \u001b[31m   \u001b[0m copying atari_py/ale_interface/src/emucore/m6502/Copyright.txt -> build/lib.linux-x86_64-cpython-310/atari_py/ale_interface/src/emucore/m6502\n",
      "  \u001b[31m   \u001b[0m copying atari_py/ale_interface/src/emucore/m6502/License.txt -> build/lib.linux-x86_64-cpython-310/atari_py/ale_interface/src/emucore/m6502\n",
      "  \u001b[31m   \u001b[0m copying atari_py/ale_interface/src/emucore/m6502/module.mk -> build/lib.linux-x86_64-cpython-310/atari_py/ale_interface/src/emucore/m6502\n",
      "  \u001b[31m   \u001b[0m creating build/lib.linux-x86_64-cpython-310/atari_py/ale_interface/src/emucore/m6502/src\n",
      "  \u001b[31m   \u001b[0m copying atari_py/ale_interface/src/emucore/m6502/src/Device.cxx -> build/lib.linux-x86_64-cpython-310/atari_py/ale_interface/src/emucore/m6502/src\n",
      "  \u001b[31m   \u001b[0m copying atari_py/ale_interface/src/emucore/m6502/src/Device.hxx -> build/lib.linux-x86_64-cpython-310/atari_py/ale_interface/src/emucore/m6502/src\n",
      "  \u001b[31m   \u001b[0m copying atari_py/ale_interface/src/emucore/m6502/src/M6502.cxx -> build/lib.linux-x86_64-cpython-310/atari_py/ale_interface/src/emucore/m6502/src\n",
      "  \u001b[31m   \u001b[0m copying atari_py/ale_interface/src/emucore/m6502/src/M6502.hxx -> build/lib.linux-x86_64-cpython-310/atari_py/ale_interface/src/emucore/m6502/src\n",
      "  \u001b[31m   \u001b[0m copying atari_py/ale_interface/src/emucore/m6502/src/M6502.m4 -> build/lib.linux-x86_64-cpython-310/atari_py/ale_interface/src/emucore/m6502/src\n",
      "  \u001b[31m   \u001b[0m copying atari_py/ale_interface/src/emucore/m6502/src/M6502Hi.cxx -> build/lib.linux-x86_64-cpython-310/atari_py/ale_interface/src/emucore/m6502/src\n",
      "  \u001b[31m   \u001b[0m copying atari_py/ale_interface/src/emucore/m6502/src/M6502Hi.hxx -> build/lib.linux-x86_64-cpython-310/atari_py/ale_interface/src/emucore/m6502/src\n",
      "  \u001b[31m   \u001b[0m copying atari_py/ale_interface/src/emucore/m6502/src/M6502Hi.ins -> build/lib.linux-x86_64-cpython-310/atari_py/ale_interface/src/emucore/m6502/src\n",
      "  \u001b[31m   \u001b[0m copying atari_py/ale_interface/src/emucore/m6502/src/M6502Hi.m4 -> build/lib.linux-x86_64-cpython-310/atari_py/ale_interface/src/emucore/m6502/src\n",
      "  \u001b[31m   \u001b[0m copying atari_py/ale_interface/src/emucore/m6502/src/M6502Low.cxx -> build/lib.linux-x86_64-cpython-310/atari_py/ale_interface/src/emucore/m6502/src\n",
      "  \u001b[31m   \u001b[0m copying atari_py/ale_interface/src/emucore/m6502/src/M6502Low.hxx -> build/lib.linux-x86_64-cpython-310/atari_py/ale_interface/src/emucore/m6502/src\n",
      "  \u001b[31m   \u001b[0m copying atari_py/ale_interface/src/emucore/m6502/src/M6502Low.ins -> build/lib.linux-x86_64-cpython-310/atari_py/ale_interface/src/emucore/m6502/src\n",
      "  \u001b[31m   \u001b[0m copying atari_py/ale_interface/src/emucore/m6502/src/M6502Low.m4 -> build/lib.linux-x86_64-cpython-310/atari_py/ale_interface/src/emucore/m6502/src\n",
      "  \u001b[31m   \u001b[0m copying atari_py/ale_interface/src/emucore/m6502/src/NullDev.cxx -> build/lib.linux-x86_64-cpython-310/atari_py/ale_interface/src/emucore/m6502/src\n",
      "  \u001b[31m   \u001b[0m copying atari_py/ale_interface/src/emucore/m6502/src/NullDev.hxx -> build/lib.linux-x86_64-cpython-310/atari_py/ale_interface/src/emucore/m6502/src\n",
      "  \u001b[31m   \u001b[0m copying atari_py/ale_interface/src/emucore/m6502/src/System.cxx -> build/lib.linux-x86_64-cpython-310/atari_py/ale_interface/src/emucore/m6502/src\n",
      "  \u001b[31m   \u001b[0m copying atari_py/ale_interface/src/emucore/m6502/src/System.hxx -> build/lib.linux-x86_64-cpython-310/atari_py/ale_interface/src/emucore/m6502/src\n",
      "  \u001b[31m   \u001b[0m creating build/lib.linux-x86_64-cpython-310/atari_py/ale_interface/src/emucore/m6502/src/bspf\n",
      "  \u001b[31m   \u001b[0m copying atari_py/ale_interface/src/emucore/m6502/src/bspf/Copyright.txt -> build/lib.linux-x86_64-cpython-310/atari_py/ale_interface/src/emucore/m6502/src/bspf\n",
      "  \u001b[31m   \u001b[0m copying atari_py/ale_interface/src/emucore/m6502/src/bspf/License.txt -> build/lib.linux-x86_64-cpython-310/atari_py/ale_interface/src/emucore/m6502/src/bspf\n",
      "  \u001b[31m   \u001b[0m creating build/lib.linux-x86_64-cpython-310/atari_py/ale_interface/src/emucore/m6502/src/bspf/src\n",
      "  \u001b[31m   \u001b[0m copying atari_py/ale_interface/src/emucore/m6502/src/bspf/src/bspf.hxx -> build/lib.linux-x86_64-cpython-310/atari_py/ale_interface/src/emucore/m6502/src/bspf/src\n",
      "  \u001b[31m   \u001b[0m copying atari_py/ale_interface/src/emucore/module.mk -> build/lib.linux-x86_64-cpython-310/atari_py/ale_interface/src/emucore\n",
      "  \u001b[31m   \u001b[0m creating build/lib.linux-x86_64-cpython-310/atari_py/ale_interface/src/emucore/rsynth\n",
      "  \u001b[31m   \u001b[0m copying atari_py/ale_interface/src/emucore/rsynth/COPYING -> build/lib.linux-x86_64-cpython-310/atari_py/ale_interface/src/emucore/rsynth\n",
      "  \u001b[31m   \u001b[0m copying atari_py/ale_interface/src/emucore/rsynth/Elements.def -> build/lib.linux-x86_64-cpython-310/atari_py/ale_interface/src/emucore/rsynth\n",
      "  \u001b[31m   \u001b[0m copying atari_py/ale_interface/src/emucore/rsynth/PORTING -> build/lib.linux-x86_64-cpython-310/atari_py/ale_interface/src/emucore/rsynth\n",
      "  \u001b[31m   \u001b[0m copying atari_py/ale_interface/src/emucore/rsynth/config.h -> build/lib.linux-x86_64-cpython-310/atari_py/ale_interface/src/emucore/rsynth\n",
      "  \u001b[31m   \u001b[0m copying atari_py/ale_interface/src/emucore/rsynth/darray.c -> build/lib.linux-x86_64-cpython-310/atari_py/ale_interface/src/emucore/rsynth\n",
      "  \u001b[31m   \u001b[0m copying atari_py/ale_interface/src/emucore/rsynth/darray.h -> build/lib.linux-x86_64-cpython-310/atari_py/ale_interface/src/emucore/rsynth\n",
      "  \u001b[31m   \u001b[0m copying atari_py/ale_interface/src/emucore/rsynth/elements.c -> build/lib.linux-x86_64-cpython-310/atari_py/ale_interface/src/emucore/rsynth\n",
      "  \u001b[31m   \u001b[0m copying atari_py/ale_interface/src/emucore/rsynth/holmes.c -> build/lib.linux-x86_64-cpython-310/atari_py/ale_interface/src/emucore/rsynth\n",
      "  \u001b[31m   \u001b[0m copying atari_py/ale_interface/src/emucore/rsynth/kmap -> build/lib.linux-x86_64-cpython-310/atari_py/ale_interface/src/emucore/rsynth\n",
      "  \u001b[31m   \u001b[0m copying atari_py/ale_interface/src/emucore/rsynth/module.mk -> build/lib.linux-x86_64-cpython-310/atari_py/ale_interface/src/emucore/rsynth\n",
      "  \u001b[31m   \u001b[0m copying atari_py/ale_interface/src/emucore/rsynth/opsynth.c -> build/lib.linux-x86_64-cpython-310/atari_py/ale_interface/src/emucore/rsynth\n",
      "  \u001b[31m   \u001b[0m copying atari_py/ale_interface/src/emucore/rsynth/phfeat.h -> build/lib.linux-x86_64-cpython-310/atari_py/ale_interface/src/emucore/rsynth\n",
      "  \u001b[31m   \u001b[0m copying atari_py/ale_interface/src/emucore/rsynth/phones.c -> build/lib.linux-x86_64-cpython-310/atari_py/ale_interface/src/emucore/rsynth\n",
      "  \u001b[31m   \u001b[0m copying atari_py/ale_interface/src/emucore/rsynth/phones.def -> build/lib.linux-x86_64-cpython-310/atari_py/ale_interface/src/emucore/rsynth\n",
      "  \u001b[31m   \u001b[0m copying atari_py/ale_interface/src/emucore/rsynth/phones.h -> build/lib.linux-x86_64-cpython-310/atari_py/ale_interface/src/emucore/rsynth\n",
      "  \u001b[31m   \u001b[0m copying atari_py/ale_interface/src/emucore/rsynth/phtoelm.c -> build/lib.linux-x86_64-cpython-310/atari_py/ale_interface/src/emucore/rsynth\n",
      "  \u001b[31m   \u001b[0m copying atari_py/ale_interface/src/emucore/rsynth/phtoelm.def -> build/lib.linux-x86_64-cpython-310/atari_py/ale_interface/src/emucore/rsynth\n",
      "  \u001b[31m   \u001b[0m copying atari_py/ale_interface/src/emucore/rsynth/phtoelm.h -> build/lib.linux-x86_64-cpython-310/atari_py/ale_interface/src/emucore/rsynth\n",
      "  \u001b[31m   \u001b[0m copying atari_py/ale_interface/src/emucore/rsynth/rsynth.h -> build/lib.linux-x86_64-cpython-310/atari_py/ale_interface/src/emucore/rsynth\n",
      "  \u001b[31m   \u001b[0m copying atari_py/ale_interface/src/emucore/rsynth/trie.c -> build/lib.linux-x86_64-cpython-310/atari_py/ale_interface/src/emucore/rsynth\n",
      "  \u001b[31m   \u001b[0m copying atari_py/ale_interface/src/emucore/rsynth/trie.h -> build/lib.linux-x86_64-cpython-310/atari_py/ale_interface/src/emucore/rsynth\n",
      "  \u001b[31m   \u001b[0m copying atari_py/ale_interface/src/emucore/rsynth/useconfig.h -> build/lib.linux-x86_64-cpython-310/atari_py/ale_interface/src/emucore/rsynth\n",
      "  \u001b[31m   \u001b[0m copying atari_py/ale_interface/src/emucore/stella.pro -> build/lib.linux-x86_64-cpython-310/atari_py/ale_interface/src/emucore\n",
      "  \u001b[31m   \u001b[0m creating build/lib.linux-x86_64-cpython-310/atari_py/ale_interface/src/environment\n",
      "  \u001b[31m   \u001b[0m copying atari_py/ale_interface/src/environment/ale_ram.hpp -> build/lib.linux-x86_64-cpython-310/atari_py/ale_interface/src/environment\n",
      "  \u001b[31m   \u001b[0m copying atari_py/ale_interface/src/environment/ale_screen.hpp -> build/lib.linux-x86_64-cpython-310/atari_py/ale_interface/src/environment\n",
      "  \u001b[31m   \u001b[0m copying atari_py/ale_interface/src/environment/ale_state.cpp -> build/lib.linux-x86_64-cpython-310/atari_py/ale_interface/src/environment\n",
      "  \u001b[31m   \u001b[0m copying atari_py/ale_interface/src/environment/ale_state.hpp -> build/lib.linux-x86_64-cpython-310/atari_py/ale_interface/src/environment\n",
      "  \u001b[31m   \u001b[0m copying atari_py/ale_interface/src/environment/module.mk -> build/lib.linux-x86_64-cpython-310/atari_py/ale_interface/src/environment\n",
      "  \u001b[31m   \u001b[0m copying atari_py/ale_interface/src/environment/phosphor_blend.cpp -> build/lib.linux-x86_64-cpython-310/atari_py/ale_interface/src/environment\n",
      "  \u001b[31m   \u001b[0m copying atari_py/ale_interface/src/environment/phosphor_blend.hpp -> build/lib.linux-x86_64-cpython-310/atari_py/ale_interface/src/environment\n",
      "  \u001b[31m   \u001b[0m copying atari_py/ale_interface/src/environment/stella_environment.cpp -> build/lib.linux-x86_64-cpython-310/atari_py/ale_interface/src/environment\n",
      "  \u001b[31m   \u001b[0m copying atari_py/ale_interface/src/environment/stella_environment.hpp -> build/lib.linux-x86_64-cpython-310/atari_py/ale_interface/src/environment\n",
      "  \u001b[31m   \u001b[0m copying atari_py/ale_interface/src/environment/stella_environment_wrapper.cpp -> build/lib.linux-x86_64-cpython-310/atari_py/ale_interface/src/environment\n",
      "  \u001b[31m   \u001b[0m copying atari_py/ale_interface/src/environment/stella_environment_wrapper.hpp -> build/lib.linux-x86_64-cpython-310/atari_py/ale_interface/src/environment\n",
      "  \u001b[31m   \u001b[0m creating build/lib.linux-x86_64-cpython-310/atari_py/ale_interface/src/external\n",
      "  \u001b[31m   \u001b[0m creating build/lib.linux-x86_64-cpython-310/atari_py/ale_interface/src/external/TinyMT\n",
      "  \u001b[31m   \u001b[0m copying atari_py/ale_interface/src/external/TinyMT/LICENSE.txt -> build/lib.linux-x86_64-cpython-310/atari_py/ale_interface/src/external/TinyMT\n",
      "  \u001b[31m   \u001b[0m copying atari_py/ale_interface/src/external/TinyMT/tinymt32.c -> build/lib.linux-x86_64-cpython-310/atari_py/ale_interface/src/external/TinyMT\n",
      "  \u001b[31m   \u001b[0m copying atari_py/ale_interface/src/external/TinyMT/tinymt32.h -> build/lib.linux-x86_64-cpython-310/atari_py/ale_interface/src/external/TinyMT\n",
      "  \u001b[31m   \u001b[0m copying atari_py/ale_interface/src/external/module.mk -> build/lib.linux-x86_64-cpython-310/atari_py/ale_interface/src/external\n",
      "  \u001b[31m   \u001b[0m creating build/lib.linux-x86_64-cpython-310/atari_py/ale_interface/src/games\n",
      "  \u001b[31m   \u001b[0m copying atari_py/ale_interface/src/games/RomSettings.cpp -> build/lib.linux-x86_64-cpython-310/atari_py/ale_interface/src/games\n",
      "  \u001b[31m   \u001b[0m copying atari_py/ale_interface/src/games/RomSettings.hpp -> build/lib.linux-x86_64-cpython-310/atari_py/ale_interface/src/games\n",
      "  \u001b[31m   \u001b[0m copying atari_py/ale_interface/src/games/RomUtils.cpp -> build/lib.linux-x86_64-cpython-310/atari_py/ale_interface/src/games\n",
      "  \u001b[31m   \u001b[0m copying atari_py/ale_interface/src/games/RomUtils.hpp -> build/lib.linux-x86_64-cpython-310/atari_py/ale_interface/src/games\n",
      "  \u001b[31m   \u001b[0m copying atari_py/ale_interface/src/games/Roms.cpp -> build/lib.linux-x86_64-cpython-310/atari_py/ale_interface/src/games\n",
      "  \u001b[31m   \u001b[0m copying atari_py/ale_interface/src/games/Roms.hpp -> build/lib.linux-x86_64-cpython-310/atari_py/ale_interface/src/games\n",
      "  \u001b[31m   \u001b[0m copying atari_py/ale_interface/src/games/module.mk -> build/lib.linux-x86_64-cpython-310/atari_py/ale_interface/src/games\n",
      "  \u001b[31m   \u001b[0m creating build/lib.linux-x86_64-cpython-310/atari_py/ale_interface/src/games/supported\n",
      "  \u001b[31m   \u001b[0m copying atari_py/ale_interface/src/games/supported/Adventure.cpp -> build/lib.linux-x86_64-cpython-310/atari_py/ale_interface/src/games/supported\n",
      "  \u001b[31m   \u001b[0m copying atari_py/ale_interface/src/games/supported/Adventure.hpp -> build/lib.linux-x86_64-cpython-310/atari_py/ale_interface/src/games/supported\n",
      "  \u001b[31m   \u001b[0m copying atari_py/ale_interface/src/games/supported/AirRaid.cpp -> build/lib.linux-x86_64-cpython-310/atari_py/ale_interface/src/games/supported\n",
      "  \u001b[31m   \u001b[0m copying atari_py/ale_interface/src/games/supported/AirRaid.hpp -> build/lib.linux-x86_64-cpython-310/atari_py/ale_interface/src/games/supported\n",
      "  \u001b[31m   \u001b[0m copying atari_py/ale_interface/src/games/supported/Alien.cpp -> build/lib.linux-x86_64-cpython-310/atari_py/ale_interface/src/games/supported\n",
      "  \u001b[31m   \u001b[0m copying atari_py/ale_interface/src/games/supported/Alien.hpp -> build/lib.linux-x86_64-cpython-310/atari_py/ale_interface/src/games/supported\n",
      "  \u001b[31m   \u001b[0m copying atari_py/ale_interface/src/games/supported/Amidar.cpp -> build/lib.linux-x86_64-cpython-310/atari_py/ale_interface/src/games/supported\n",
      "  \u001b[31m   \u001b[0m copying atari_py/ale_interface/src/games/supported/Amidar.hpp -> build/lib.linux-x86_64-cpython-310/atari_py/ale_interface/src/games/supported\n",
      "  \u001b[31m   \u001b[0m copying atari_py/ale_interface/src/games/supported/Assault.cpp -> build/lib.linux-x86_64-cpython-310/atari_py/ale_interface/src/games/supported\n",
      "  \u001b[31m   \u001b[0m copying atari_py/ale_interface/src/games/supported/Assault.hpp -> build/lib.linux-x86_64-cpython-310/atari_py/ale_interface/src/games/supported\n",
      "  \u001b[31m   \u001b[0m copying atari_py/ale_interface/src/games/supported/Asterix.cpp -> build/lib.linux-x86_64-cpython-310/atari_py/ale_interface/src/games/supported\n",
      "  \u001b[31m   \u001b[0m copying atari_py/ale_interface/src/games/supported/Asterix.hpp -> build/lib.linux-x86_64-cpython-310/atari_py/ale_interface/src/games/supported\n",
      "  \u001b[31m   \u001b[0m copying atari_py/ale_interface/src/games/supported/Asteroids.cpp -> build/lib.linux-x86_64-cpython-310/atari_py/ale_interface/src/games/supported\n",
      "  \u001b[31m   \u001b[0m copying atari_py/ale_interface/src/games/supported/Asteroids.hpp -> build/lib.linux-x86_64-cpython-310/atari_py/ale_interface/src/games/supported\n",
      "  \u001b[31m   \u001b[0m copying atari_py/ale_interface/src/games/supported/Atlantis.cpp -> build/lib.linux-x86_64-cpython-310/atari_py/ale_interface/src/games/supported\n",
      "  \u001b[31m   \u001b[0m copying atari_py/ale_interface/src/games/supported/Atlantis.hpp -> build/lib.linux-x86_64-cpython-310/atari_py/ale_interface/src/games/supported\n",
      "  \u001b[31m   \u001b[0m copying atari_py/ale_interface/src/games/supported/BankHeist.cpp -> build/lib.linux-x86_64-cpython-310/atari_py/ale_interface/src/games/supported\n",
      "  \u001b[31m   \u001b[0m copying atari_py/ale_interface/src/games/supported/BankHeist.hpp -> build/lib.linux-x86_64-cpython-310/atari_py/ale_interface/src/games/supported\n",
      "  \u001b[31m   \u001b[0m copying atari_py/ale_interface/src/games/supported/BattleZone.cpp -> build/lib.linux-x86_64-cpython-310/atari_py/ale_interface/src/games/supported\n",
      "  \u001b[31m   \u001b[0m copying atari_py/ale_interface/src/games/supported/BattleZone.hpp -> build/lib.linux-x86_64-cpython-310/atari_py/ale_interface/src/games/supported\n",
      "  \u001b[31m   \u001b[0m copying atari_py/ale_interface/src/games/supported/BeamRider.cpp -> build/lib.linux-x86_64-cpython-310/atari_py/ale_interface/src/games/supported\n",
      "  \u001b[31m   \u001b[0m copying atari_py/ale_interface/src/games/supported/BeamRider.hpp -> build/lib.linux-x86_64-cpython-310/atari_py/ale_interface/src/games/supported\n",
      "  \u001b[31m   \u001b[0m copying atari_py/ale_interface/src/games/supported/Berzerk.cpp -> build/lib.linux-x86_64-cpython-310/atari_py/ale_interface/src/games/supported\n",
      "  \u001b[31m   \u001b[0m copying atari_py/ale_interface/src/games/supported/Berzerk.hpp -> build/lib.linux-x86_64-cpython-310/atari_py/ale_interface/src/games/supported\n",
      "  \u001b[31m   \u001b[0m copying atari_py/ale_interface/src/games/supported/Bowling.cpp -> build/lib.linux-x86_64-cpython-310/atari_py/ale_interface/src/games/supported\n",
      "  \u001b[31m   \u001b[0m copying atari_py/ale_interface/src/games/supported/Bowling.hpp -> build/lib.linux-x86_64-cpython-310/atari_py/ale_interface/src/games/supported\n",
      "  \u001b[31m   \u001b[0m copying atari_py/ale_interface/src/games/supported/Boxing.cpp -> build/lib.linux-x86_64-cpython-310/atari_py/ale_interface/src/games/supported\n",
      "  \u001b[31m   \u001b[0m copying atari_py/ale_interface/src/games/supported/Boxing.hpp -> build/lib.linux-x86_64-cpython-310/atari_py/ale_interface/src/games/supported\n",
      "  \u001b[31m   \u001b[0m copying atari_py/ale_interface/src/games/supported/Breakout.cpp -> build/lib.linux-x86_64-cpython-310/atari_py/ale_interface/src/games/supported\n",
      "  \u001b[31m   \u001b[0m copying atari_py/ale_interface/src/games/supported/Breakout.hpp -> build/lib.linux-x86_64-cpython-310/atari_py/ale_interface/src/games/supported\n",
      "  \u001b[31m   \u001b[0m copying atari_py/ale_interface/src/games/supported/Carnival.cpp -> build/lib.linux-x86_64-cpython-310/atari_py/ale_interface/src/games/supported\n",
      "  \u001b[31m   \u001b[0m copying atari_py/ale_interface/src/games/supported/Carnival.hpp -> build/lib.linux-x86_64-cpython-310/atari_py/ale_interface/src/games/supported\n",
      "  \u001b[31m   \u001b[0m copying atari_py/ale_interface/src/games/supported/Centipede.cpp -> build/lib.linux-x86_64-cpython-310/atari_py/ale_interface/src/games/supported\n",
      "  \u001b[31m   \u001b[0m copying atari_py/ale_interface/src/games/supported/Centipede.hpp -> build/lib.linux-x86_64-cpython-310/atari_py/ale_interface/src/games/supported\n",
      "  \u001b[31m   \u001b[0m copying atari_py/ale_interface/src/games/supported/ChopperCommand.cpp -> build/lib.linux-x86_64-cpython-310/atari_py/ale_interface/src/games/supported\n",
      "  \u001b[31m   \u001b[0m copying atari_py/ale_interface/src/games/supported/ChopperCommand.hpp -> build/lib.linux-x86_64-cpython-310/atari_py/ale_interface/src/games/supported\n",
      "  \u001b[31m   \u001b[0m copying atari_py/ale_interface/src/games/supported/CrazyClimber.cpp -> build/lib.linux-x86_64-cpython-310/atari_py/ale_interface/src/games/supported\n",
      "  \u001b[31m   \u001b[0m copying atari_py/ale_interface/src/games/supported/CrazyClimber.hpp -> build/lib.linux-x86_64-cpython-310/atari_py/ale_interface/src/games/supported\n",
      "  \u001b[31m   \u001b[0m copying atari_py/ale_interface/src/games/supported/Defender.cpp -> build/lib.linux-x86_64-cpython-310/atari_py/ale_interface/src/games/supported\n",
      "  \u001b[31m   \u001b[0m copying atari_py/ale_interface/src/games/supported/Defender.hpp -> build/lib.linux-x86_64-cpython-310/atari_py/ale_interface/src/games/supported\n",
      "  \u001b[31m   \u001b[0m copying atari_py/ale_interface/src/games/supported/DemonAttack.cpp -> build/lib.linux-x86_64-cpython-310/atari_py/ale_interface/src/games/supported\n",
      "  \u001b[31m   \u001b[0m copying atari_py/ale_interface/src/games/supported/DemonAttack.hpp -> build/lib.linux-x86_64-cpython-310/atari_py/ale_interface/src/games/supported\n",
      "  \u001b[31m   \u001b[0m copying atari_py/ale_interface/src/games/supported/DonkeyKong.cpp -> build/lib.linux-x86_64-cpython-310/atari_py/ale_interface/src/games/supported\n",
      "  \u001b[31m   \u001b[0m copying atari_py/ale_interface/src/games/supported/DonkeyKong.hpp -> build/lib.linux-x86_64-cpython-310/atari_py/ale_interface/src/games/supported\n",
      "  \u001b[31m   \u001b[0m copying atari_py/ale_interface/src/games/supported/DoubleDunk.cpp -> build/lib.linux-x86_64-cpython-310/atari_py/ale_interface/src/games/supported\n",
      "  \u001b[31m   \u001b[0m copying atari_py/ale_interface/src/games/supported/DoubleDunk.hpp -> build/lib.linux-x86_64-cpython-310/atari_py/ale_interface/src/games/supported\n",
      "  \u001b[31m   \u001b[0m copying atari_py/ale_interface/src/games/supported/ElevatorAction.cpp -> build/lib.linux-x86_64-cpython-310/atari_py/ale_interface/src/games/supported\n",
      "  \u001b[31m   \u001b[0m copying atari_py/ale_interface/src/games/supported/ElevatorAction.hpp -> build/lib.linux-x86_64-cpython-310/atari_py/ale_interface/src/games/supported\n",
      "  \u001b[31m   \u001b[0m copying atari_py/ale_interface/src/games/supported/Enduro.cpp -> build/lib.linux-x86_64-cpython-310/atari_py/ale_interface/src/games/supported\n",
      "  \u001b[31m   \u001b[0m copying atari_py/ale_interface/src/games/supported/Enduro.hpp -> build/lib.linux-x86_64-cpython-310/atari_py/ale_interface/src/games/supported\n",
      "  \u001b[31m   \u001b[0m copying atari_py/ale_interface/src/games/supported/FishingDerby.cpp -> build/lib.linux-x86_64-cpython-310/atari_py/ale_interface/src/games/supported\n",
      "  \u001b[31m   \u001b[0m copying atari_py/ale_interface/src/games/supported/FishingDerby.hpp -> build/lib.linux-x86_64-cpython-310/atari_py/ale_interface/src/games/supported\n",
      "  \u001b[31m   \u001b[0m copying atari_py/ale_interface/src/games/supported/Freeway.cpp -> build/lib.linux-x86_64-cpython-310/atari_py/ale_interface/src/games/supported\n",
      "  \u001b[31m   \u001b[0m copying atari_py/ale_interface/src/games/supported/Freeway.hpp -> build/lib.linux-x86_64-cpython-310/atari_py/ale_interface/src/games/supported\n",
      "  \u001b[31m   \u001b[0m copying atari_py/ale_interface/src/games/supported/Frogger.cpp -> build/lib.linux-x86_64-cpython-310/atari_py/ale_interface/src/games/supported\n",
      "  \u001b[31m   \u001b[0m copying atari_py/ale_interface/src/games/supported/Frogger.hpp -> build/lib.linux-x86_64-cpython-310/atari_py/ale_interface/src/games/supported\n",
      "  \u001b[31m   \u001b[0m copying atari_py/ale_interface/src/games/supported/Frostbite.cpp -> build/lib.linux-x86_64-cpython-310/atari_py/ale_interface/src/games/supported\n",
      "  \u001b[31m   \u001b[0m copying atari_py/ale_interface/src/games/supported/Frostbite.hpp -> build/lib.linux-x86_64-cpython-310/atari_py/ale_interface/src/games/supported\n",
      "  \u001b[31m   \u001b[0m copying atari_py/ale_interface/src/games/supported/Galaxian.cpp -> build/lib.linux-x86_64-cpython-310/atari_py/ale_interface/src/games/supported\n",
      "  \u001b[31m   \u001b[0m copying atari_py/ale_interface/src/games/supported/Galaxian.hpp -> build/lib.linux-x86_64-cpython-310/atari_py/ale_interface/src/games/supported\n",
      "  \u001b[31m   \u001b[0m copying atari_py/ale_interface/src/games/supported/Gopher.cpp -> build/lib.linux-x86_64-cpython-310/atari_py/ale_interface/src/games/supported\n",
      "  \u001b[31m   \u001b[0m copying atari_py/ale_interface/src/games/supported/Gopher.hpp -> build/lib.linux-x86_64-cpython-310/atari_py/ale_interface/src/games/supported\n",
      "  \u001b[31m   \u001b[0m copying atari_py/ale_interface/src/games/supported/Gravitar.cpp -> build/lib.linux-x86_64-cpython-310/atari_py/ale_interface/src/games/supported\n",
      "  \u001b[31m   \u001b[0m copying atari_py/ale_interface/src/games/supported/Gravitar.hpp -> build/lib.linux-x86_64-cpython-310/atari_py/ale_interface/src/games/supported\n",
      "  \u001b[31m   \u001b[0m copying atari_py/ale_interface/src/games/supported/Hero.cpp -> build/lib.linux-x86_64-cpython-310/atari_py/ale_interface/src/games/supported\n",
      "  \u001b[31m   \u001b[0m copying atari_py/ale_interface/src/games/supported/Hero.hpp -> build/lib.linux-x86_64-cpython-310/atari_py/ale_interface/src/games/supported\n",
      "  \u001b[31m   \u001b[0m copying atari_py/ale_interface/src/games/supported/IceHockey.cpp -> build/lib.linux-x86_64-cpython-310/atari_py/ale_interface/src/games/supported\n",
      "  \u001b[31m   \u001b[0m copying atari_py/ale_interface/src/games/supported/IceHockey.hpp -> build/lib.linux-x86_64-cpython-310/atari_py/ale_interface/src/games/supported\n",
      "  \u001b[31m   \u001b[0m copying atari_py/ale_interface/src/games/supported/JamesBond.cpp -> build/lib.linux-x86_64-cpython-310/atari_py/ale_interface/src/games/supported\n",
      "  \u001b[31m   \u001b[0m copying atari_py/ale_interface/src/games/supported/JamesBond.hpp -> build/lib.linux-x86_64-cpython-310/atari_py/ale_interface/src/games/supported\n",
      "  \u001b[31m   \u001b[0m copying atari_py/ale_interface/src/games/supported/JourneyEscape.cpp -> build/lib.linux-x86_64-cpython-310/atari_py/ale_interface/src/games/supported\n",
      "  \u001b[31m   \u001b[0m copying atari_py/ale_interface/src/games/supported/JourneyEscape.hpp -> build/lib.linux-x86_64-cpython-310/atari_py/ale_interface/src/games/supported\n",
      "  \u001b[31m   \u001b[0m copying atari_py/ale_interface/src/games/supported/Kaboom.cpp -> build/lib.linux-x86_64-cpython-310/atari_py/ale_interface/src/games/supported\n",
      "  \u001b[31m   \u001b[0m copying atari_py/ale_interface/src/games/supported/Kaboom.hpp -> build/lib.linux-x86_64-cpython-310/atari_py/ale_interface/src/games/supported\n",
      "  \u001b[31m   \u001b[0m copying atari_py/ale_interface/src/games/supported/Kangaroo.cpp -> build/lib.linux-x86_64-cpython-310/atari_py/ale_interface/src/games/supported\n",
      "  \u001b[31m   \u001b[0m copying atari_py/ale_interface/src/games/supported/Kangaroo.hpp -> build/lib.linux-x86_64-cpython-310/atari_py/ale_interface/src/games/supported\n",
      "  \u001b[31m   \u001b[0m copying atari_py/ale_interface/src/games/supported/KeystoneKapers.cpp -> build/lib.linux-x86_64-cpython-310/atari_py/ale_interface/src/games/supported\n",
      "  \u001b[31m   \u001b[0m copying atari_py/ale_interface/src/games/supported/KeystoneKapers.hpp -> build/lib.linux-x86_64-cpython-310/atari_py/ale_interface/src/games/supported\n",
      "  \u001b[31m   \u001b[0m copying atari_py/ale_interface/src/games/supported/Kingkong.cpp -> build/lib.linux-x86_64-cpython-310/atari_py/ale_interface/src/games/supported\n",
      "  \u001b[31m   \u001b[0m copying atari_py/ale_interface/src/games/supported/Kingkong.hpp -> build/lib.linux-x86_64-cpython-310/atari_py/ale_interface/src/games/supported\n",
      "  \u001b[31m   \u001b[0m copying atari_py/ale_interface/src/games/supported/Koolaid.cpp -> build/lib.linux-x86_64-cpython-310/atari_py/ale_interface/src/games/supported\n",
      "  \u001b[31m   \u001b[0m copying atari_py/ale_interface/src/games/supported/Koolaid.hpp -> build/lib.linux-x86_64-cpython-310/atari_py/ale_interface/src/games/supported\n",
      "  \u001b[31m   \u001b[0m copying atari_py/ale_interface/src/games/supported/Krull.cpp -> build/lib.linux-x86_64-cpython-310/atari_py/ale_interface/src/games/supported\n",
      "  \u001b[31m   \u001b[0m copying atari_py/ale_interface/src/games/supported/Krull.hpp -> build/lib.linux-x86_64-cpython-310/atari_py/ale_interface/src/games/supported\n",
      "  \u001b[31m   \u001b[0m copying atari_py/ale_interface/src/games/supported/KungFuMaster.cpp -> build/lib.linux-x86_64-cpython-310/atari_py/ale_interface/src/games/supported\n",
      "  \u001b[31m   \u001b[0m copying atari_py/ale_interface/src/games/supported/KungFuMaster.hpp -> build/lib.linux-x86_64-cpython-310/atari_py/ale_interface/src/games/supported\n",
      "  \u001b[31m   \u001b[0m copying atari_py/ale_interface/src/games/supported/LaserGates.cpp -> build/lib.linux-x86_64-cpython-310/atari_py/ale_interface/src/games/supported\n",
      "  \u001b[31m   \u001b[0m copying atari_py/ale_interface/src/games/supported/LaserGates.hpp -> build/lib.linux-x86_64-cpython-310/atari_py/ale_interface/src/games/supported\n",
      "  \u001b[31m   \u001b[0m copying atari_py/ale_interface/src/games/supported/LostLuggage.cpp -> build/lib.linux-x86_64-cpython-310/atari_py/ale_interface/src/games/supported\n",
      "  \u001b[31m   \u001b[0m copying atari_py/ale_interface/src/games/supported/LostLuggage.hpp -> build/lib.linux-x86_64-cpython-310/atari_py/ale_interface/src/games/supported\n",
      "  \u001b[31m   \u001b[0m copying atari_py/ale_interface/src/games/supported/MontezumaRevenge.cpp -> build/lib.linux-x86_64-cpython-310/atari_py/ale_interface/src/games/supported\n",
      "  \u001b[31m   \u001b[0m copying atari_py/ale_interface/src/games/supported/MontezumaRevenge.hpp -> build/lib.linux-x86_64-cpython-310/atari_py/ale_interface/src/games/supported\n",
      "  \u001b[31m   \u001b[0m copying atari_py/ale_interface/src/games/supported/MrDo.cpp -> build/lib.linux-x86_64-cpython-310/atari_py/ale_interface/src/games/supported\n",
      "  \u001b[31m   \u001b[0m copying atari_py/ale_interface/src/games/supported/MrDo.hpp -> build/lib.linux-x86_64-cpython-310/atari_py/ale_interface/src/games/supported\n",
      "  \u001b[31m   \u001b[0m copying atari_py/ale_interface/src/games/supported/MsPacman.cpp -> build/lib.linux-x86_64-cpython-310/atari_py/ale_interface/src/games/supported\n",
      "  \u001b[31m   \u001b[0m copying atari_py/ale_interface/src/games/supported/MsPacman.hpp -> build/lib.linux-x86_64-cpython-310/atari_py/ale_interface/src/games/supported\n",
      "  \u001b[31m   \u001b[0m copying atari_py/ale_interface/src/games/supported/NameThisGame.cpp -> build/lib.linux-x86_64-cpython-310/atari_py/ale_interface/src/games/supported\n",
      "  \u001b[31m   \u001b[0m copying atari_py/ale_interface/src/games/supported/NameThisGame.hpp -> build/lib.linux-x86_64-cpython-310/atari_py/ale_interface/src/games/supported\n",
      "  \u001b[31m   \u001b[0m copying atari_py/ale_interface/src/games/supported/Phoenix.cpp -> build/lib.linux-x86_64-cpython-310/atari_py/ale_interface/src/games/supported\n",
      "  \u001b[31m   \u001b[0m copying atari_py/ale_interface/src/games/supported/Phoenix.hpp -> build/lib.linux-x86_64-cpython-310/atari_py/ale_interface/src/games/supported\n",
      "  \u001b[31m   \u001b[0m copying atari_py/ale_interface/src/games/supported/Pitfall.cpp -> build/lib.linux-x86_64-cpython-310/atari_py/ale_interface/src/games/supported\n",
      "  \u001b[31m   \u001b[0m copying atari_py/ale_interface/src/games/supported/Pitfall.hpp -> build/lib.linux-x86_64-cpython-310/atari_py/ale_interface/src/games/supported\n",
      "  \u001b[31m   \u001b[0m copying atari_py/ale_interface/src/games/supported/Pong.cpp -> build/lib.linux-x86_64-cpython-310/atari_py/ale_interface/src/games/supported\n",
      "  \u001b[31m   \u001b[0m copying atari_py/ale_interface/src/games/supported/Pong.hpp -> build/lib.linux-x86_64-cpython-310/atari_py/ale_interface/src/games/supported\n",
      "  \u001b[31m   \u001b[0m copying atari_py/ale_interface/src/games/supported/Pooyan.cpp -> build/lib.linux-x86_64-cpython-310/atari_py/ale_interface/src/games/supported\n",
      "  \u001b[31m   \u001b[0m copying atari_py/ale_interface/src/games/supported/Pooyan.hpp -> build/lib.linux-x86_64-cpython-310/atari_py/ale_interface/src/games/supported\n",
      "  \u001b[31m   \u001b[0m copying atari_py/ale_interface/src/games/supported/PrivateEye.cpp -> build/lib.linux-x86_64-cpython-310/atari_py/ale_interface/src/games/supported\n",
      "  \u001b[31m   \u001b[0m copying atari_py/ale_interface/src/games/supported/PrivateEye.hpp -> build/lib.linux-x86_64-cpython-310/atari_py/ale_interface/src/games/supported\n",
      "  \u001b[31m   \u001b[0m copying atari_py/ale_interface/src/games/supported/QBert.cpp -> build/lib.linux-x86_64-cpython-310/atari_py/ale_interface/src/games/supported\n",
      "  \u001b[31m   \u001b[0m copying atari_py/ale_interface/src/games/supported/QBert.hpp -> build/lib.linux-x86_64-cpython-310/atari_py/ale_interface/src/games/supported\n",
      "  \u001b[31m   \u001b[0m copying atari_py/ale_interface/src/games/supported/RiverRaid.cpp -> build/lib.linux-x86_64-cpython-310/atari_py/ale_interface/src/games/supported\n",
      "  \u001b[31m   \u001b[0m copying atari_py/ale_interface/src/games/supported/RiverRaid.hpp -> build/lib.linux-x86_64-cpython-310/atari_py/ale_interface/src/games/supported\n",
      "  \u001b[31m   \u001b[0m copying atari_py/ale_interface/src/games/supported/RoadRunner.cpp -> build/lib.linux-x86_64-cpython-310/atari_py/ale_interface/src/games/supported\n",
      "  \u001b[31m   \u001b[0m copying atari_py/ale_interface/src/games/supported/RoadRunner.hpp -> build/lib.linux-x86_64-cpython-310/atari_py/ale_interface/src/games/supported\n",
      "  \u001b[31m   \u001b[0m copying atari_py/ale_interface/src/games/supported/RoboTank.cpp -> build/lib.linux-x86_64-cpython-310/atari_py/ale_interface/src/games/supported\n",
      "  \u001b[31m   \u001b[0m copying atari_py/ale_interface/src/games/supported/RoboTank.hpp -> build/lib.linux-x86_64-cpython-310/atari_py/ale_interface/src/games/supported\n",
      "  \u001b[31m   \u001b[0m copying atari_py/ale_interface/src/games/supported/Seaquest.cpp -> build/lib.linux-x86_64-cpython-310/atari_py/ale_interface/src/games/supported\n",
      "  \u001b[31m   \u001b[0m copying atari_py/ale_interface/src/games/supported/Seaquest.hpp -> build/lib.linux-x86_64-cpython-310/atari_py/ale_interface/src/games/supported\n",
      "  \u001b[31m   \u001b[0m copying atari_py/ale_interface/src/games/supported/SirLancelot.cpp -> build/lib.linux-x86_64-cpython-310/atari_py/ale_interface/src/games/supported\n",
      "  \u001b[31m   \u001b[0m copying atari_py/ale_interface/src/games/supported/SirLancelot.hpp -> build/lib.linux-x86_64-cpython-310/atari_py/ale_interface/src/games/supported\n",
      "  \u001b[31m   \u001b[0m copying atari_py/ale_interface/src/games/supported/Skiing.cpp -> build/lib.linux-x86_64-cpython-310/atari_py/ale_interface/src/games/supported\n",
      "  \u001b[31m   \u001b[0m copying atari_py/ale_interface/src/games/supported/Skiing.hpp -> build/lib.linux-x86_64-cpython-310/atari_py/ale_interface/src/games/supported\n",
      "  \u001b[31m   \u001b[0m copying atari_py/ale_interface/src/games/supported/Solaris.cpp -> build/lib.linux-x86_64-cpython-310/atari_py/ale_interface/src/games/supported\n",
      "  \u001b[31m   \u001b[0m copying atari_py/ale_interface/src/games/supported/Solaris.hpp -> build/lib.linux-x86_64-cpython-310/atari_py/ale_interface/src/games/supported\n",
      "  \u001b[31m   \u001b[0m copying atari_py/ale_interface/src/games/supported/SpaceInvaders.cpp -> build/lib.linux-x86_64-cpython-310/atari_py/ale_interface/src/games/supported\n",
      "  \u001b[31m   \u001b[0m copying atari_py/ale_interface/src/games/supported/SpaceInvaders.hpp -> build/lib.linux-x86_64-cpython-310/atari_py/ale_interface/src/games/supported\n",
      "  \u001b[31m   \u001b[0m copying atari_py/ale_interface/src/games/supported/StarGunner.cpp -> build/lib.linux-x86_64-cpython-310/atari_py/ale_interface/src/games/supported\n",
      "  \u001b[31m   \u001b[0m copying atari_py/ale_interface/src/games/supported/StarGunner.hpp -> build/lib.linux-x86_64-cpython-310/atari_py/ale_interface/src/games/supported\n",
      "  \u001b[31m   \u001b[0m copying atari_py/ale_interface/src/games/supported/Tennis.cpp -> build/lib.linux-x86_64-cpython-310/atari_py/ale_interface/src/games/supported\n",
      "  \u001b[31m   \u001b[0m copying atari_py/ale_interface/src/games/supported/Tennis.hpp -> build/lib.linux-x86_64-cpython-310/atari_py/ale_interface/src/games/supported\n",
      "  \u001b[31m   \u001b[0m copying atari_py/ale_interface/src/games/supported/Tetris.cpp -> build/lib.linux-x86_64-cpython-310/atari_py/ale_interface/src/games/supported\n",
      "  \u001b[31m   \u001b[0m copying atari_py/ale_interface/src/games/supported/Tetris.hpp -> build/lib.linux-x86_64-cpython-310/atari_py/ale_interface/src/games/supported\n",
      "  \u001b[31m   \u001b[0m copying atari_py/ale_interface/src/games/supported/TimePilot.cpp -> build/lib.linux-x86_64-cpython-310/atari_py/ale_interface/src/games/supported\n",
      "  \u001b[31m   \u001b[0m copying atari_py/ale_interface/src/games/supported/TimePilot.hpp -> build/lib.linux-x86_64-cpython-310/atari_py/ale_interface/src/games/supported\n",
      "  \u001b[31m   \u001b[0m copying atari_py/ale_interface/src/games/supported/Trondead.cpp -> build/lib.linux-x86_64-cpython-310/atari_py/ale_interface/src/games/supported\n",
      "  \u001b[31m   \u001b[0m copying atari_py/ale_interface/src/games/supported/Trondead.hpp -> build/lib.linux-x86_64-cpython-310/atari_py/ale_interface/src/games/supported\n",
      "  \u001b[31m   \u001b[0m copying atari_py/ale_interface/src/games/supported/Turmoil.cpp -> build/lib.linux-x86_64-cpython-310/atari_py/ale_interface/src/games/supported\n",
      "  \u001b[31m   \u001b[0m copying atari_py/ale_interface/src/games/supported/Turmoil.hpp -> build/lib.linux-x86_64-cpython-310/atari_py/ale_interface/src/games/supported\n",
      "  \u001b[31m   \u001b[0m copying atari_py/ale_interface/src/games/supported/Tutankham.cpp -> build/lib.linux-x86_64-cpython-310/atari_py/ale_interface/src/games/supported\n",
      "  \u001b[31m   \u001b[0m copying atari_py/ale_interface/src/games/supported/Tutankham.hpp -> build/lib.linux-x86_64-cpython-310/atari_py/ale_interface/src/games/supported\n",
      "  \u001b[31m   \u001b[0m copying atari_py/ale_interface/src/games/supported/UpNDown.cpp -> build/lib.linux-x86_64-cpython-310/atari_py/ale_interface/src/games/supported\n",
      "  \u001b[31m   \u001b[0m copying atari_py/ale_interface/src/games/supported/UpNDown.hpp -> build/lib.linux-x86_64-cpython-310/atari_py/ale_interface/src/games/supported\n",
      "  \u001b[31m   \u001b[0m copying atari_py/ale_interface/src/games/supported/Venture.cpp -> build/lib.linux-x86_64-cpython-310/atari_py/ale_interface/src/games/supported\n",
      "  \u001b[31m   \u001b[0m copying atari_py/ale_interface/src/games/supported/Venture.hpp -> build/lib.linux-x86_64-cpython-310/atari_py/ale_interface/src/games/supported\n",
      "  \u001b[31m   \u001b[0m copying atari_py/ale_interface/src/games/supported/VideoPinball.cpp -> build/lib.linux-x86_64-cpython-310/atari_py/ale_interface/src/games/supported\n",
      "  \u001b[31m   \u001b[0m copying atari_py/ale_interface/src/games/supported/VideoPinball.hpp -> build/lib.linux-x86_64-cpython-310/atari_py/ale_interface/src/games/supported\n",
      "  \u001b[31m   \u001b[0m copying atari_py/ale_interface/src/games/supported/WizardOfWor.cpp -> build/lib.linux-x86_64-cpython-310/atari_py/ale_interface/src/games/supported\n",
      "  \u001b[31m   \u001b[0m copying atari_py/ale_interface/src/games/supported/WizardOfWor.hpp -> build/lib.linux-x86_64-cpython-310/atari_py/ale_interface/src/games/supported\n",
      "  \u001b[31m   \u001b[0m copying atari_py/ale_interface/src/games/supported/YarsRevenge.cpp -> build/lib.linux-x86_64-cpython-310/atari_py/ale_interface/src/games/supported\n",
      "  \u001b[31m   \u001b[0m copying atari_py/ale_interface/src/games/supported/YarsRevenge.hpp -> build/lib.linux-x86_64-cpython-310/atari_py/ale_interface/src/games/supported\n",
      "  \u001b[31m   \u001b[0m copying atari_py/ale_interface/src/games/supported/Zaxxon.cpp -> build/lib.linux-x86_64-cpython-310/atari_py/ale_interface/src/games/supported\n",
      "  \u001b[31m   \u001b[0m copying atari_py/ale_interface/src/games/supported/Zaxxon.hpp -> build/lib.linux-x86_64-cpython-310/atari_py/ale_interface/src/games/supported\n",
      "  \u001b[31m   \u001b[0m copying atari_py/ale_interface/src/main.cpp -> build/lib.linux-x86_64-cpython-310/atari_py/ale_interface/src\n",
      "  \u001b[31m   \u001b[0m copying atari_py/ale_interface/src/module.mk -> build/lib.linux-x86_64-cpython-310/atari_py/ale_interface/src\n",
      "  \u001b[31m   \u001b[0m creating build/lib.linux-x86_64-cpython-310/atari_py/ale_interface/src/os_dependent\n",
      "  \u001b[31m   \u001b[0m copying atari_py/ale_interface/src/os_dependent/FSNodePOSIX.cxx -> build/lib.linux-x86_64-cpython-310/atari_py/ale_interface/src/os_dependent\n",
      "  \u001b[31m   \u001b[0m copying atari_py/ale_interface/src/os_dependent/FSNodeWin32.cxx -> build/lib.linux-x86_64-cpython-310/atari_py/ale_interface/src/os_dependent\n",
      "  \u001b[31m   \u001b[0m copying atari_py/ale_interface/src/os_dependent/OSystemUNIX.cxx -> build/lib.linux-x86_64-cpython-310/atari_py/ale_interface/src/os_dependent\n",
      "  \u001b[31m   \u001b[0m copying atari_py/ale_interface/src/os_dependent/OSystemUNIX.hxx -> build/lib.linux-x86_64-cpython-310/atari_py/ale_interface/src/os_dependent\n",
      "  \u001b[31m   \u001b[0m copying atari_py/ale_interface/src/os_dependent/OSystemWin32.cxx -> build/lib.linux-x86_64-cpython-310/atari_py/ale_interface/src/os_dependent\n",
      "  \u001b[31m   \u001b[0m copying atari_py/ale_interface/src/os_dependent/OSystemWin32.hxx -> build/lib.linux-x86_64-cpython-310/atari_py/ale_interface/src/os_dependent\n",
      "  \u001b[31m   \u001b[0m copying atari_py/ale_interface/src/os_dependent/SettingsUNIX.cxx -> build/lib.linux-x86_64-cpython-310/atari_py/ale_interface/src/os_dependent\n",
      "  \u001b[31m   \u001b[0m copying atari_py/ale_interface/src/os_dependent/SettingsUNIX.hxx -> build/lib.linux-x86_64-cpython-310/atari_py/ale_interface/src/os_dependent\n",
      "  \u001b[31m   \u001b[0m copying atari_py/ale_interface/src/os_dependent/SettingsWin32.cxx -> build/lib.linux-x86_64-cpython-310/atari_py/ale_interface/src/os_dependent\n",
      "  \u001b[31m   \u001b[0m copying atari_py/ale_interface/src/os_dependent/SettingsWin32.hxx -> build/lib.linux-x86_64-cpython-310/atari_py/ale_interface/src/os_dependent\n",
      "  \u001b[31m   \u001b[0m copying atari_py/ale_interface/src/os_dependent/module.mk -> build/lib.linux-x86_64-cpython-310/atari_py/ale_interface/src/os_dependent\n",
      "  \u001b[31m   \u001b[0m copying atari_py/atari_ntsc_rgb_palette.h -> build/lib.linux-x86_64-cpython-310/atari_py\n",
      "  \u001b[31m   \u001b[0m creating build/lib.linux-x86_64-cpython-310/atari_py/atari_roms\n",
      "  \u001b[31m   \u001b[0m copying atari_py/atari_roms/adventure.bin -> build/lib.linux-x86_64-cpython-310/atari_py/atari_roms\n",
      "  \u001b[31m   \u001b[0m copying atari_py/atari_roms/air_raid.bin -> build/lib.linux-x86_64-cpython-310/atari_py/atari_roms\n",
      "  \u001b[31m   \u001b[0m copying atari_py/atari_roms/alien.bin -> build/lib.linux-x86_64-cpython-310/atari_py/atari_roms\n",
      "  \u001b[31m   \u001b[0m copying atari_py/atari_roms/amidar.bin -> build/lib.linux-x86_64-cpython-310/atari_py/atari_roms\n",
      "  \u001b[31m   \u001b[0m copying atari_py/atari_roms/assault.bin -> build/lib.linux-x86_64-cpython-310/atari_py/atari_roms\n",
      "  \u001b[31m   \u001b[0m copying atari_py/atari_roms/asterix.bin -> build/lib.linux-x86_64-cpython-310/atari_py/atari_roms\n",
      "  \u001b[31m   \u001b[0m copying atari_py/atari_roms/asteroids.bin -> build/lib.linux-x86_64-cpython-310/atari_py/atari_roms\n",
      "  \u001b[31m   \u001b[0m copying atari_py/atari_roms/atlantis.bin -> build/lib.linux-x86_64-cpython-310/atari_py/atari_roms\n",
      "  \u001b[31m   \u001b[0m copying atari_py/atari_roms/bank_heist.bin -> build/lib.linux-x86_64-cpython-310/atari_py/atari_roms\n",
      "  \u001b[31m   \u001b[0m copying atari_py/atari_roms/battle_zone.bin -> build/lib.linux-x86_64-cpython-310/atari_py/atari_roms\n",
      "  \u001b[31m   \u001b[0m copying atari_py/atari_roms/beam_rider.bin -> build/lib.linux-x86_64-cpython-310/atari_py/atari_roms\n",
      "  \u001b[31m   \u001b[0m copying atari_py/atari_roms/berzerk.bin -> build/lib.linux-x86_64-cpython-310/atari_py/atari_roms\n",
      "  \u001b[31m   \u001b[0m copying atari_py/atari_roms/bowling.bin -> build/lib.linux-x86_64-cpython-310/atari_py/atari_roms\n",
      "  \u001b[31m   \u001b[0m copying atari_py/atari_roms/boxing.bin -> build/lib.linux-x86_64-cpython-310/atari_py/atari_roms\n",
      "  \u001b[31m   \u001b[0m copying atari_py/atari_roms/breakout.bin -> build/lib.linux-x86_64-cpython-310/atari_py/atari_roms\n",
      "  \u001b[31m   \u001b[0m copying atari_py/atari_roms/carnival.bin -> build/lib.linux-x86_64-cpython-310/atari_py/atari_roms\n",
      "  \u001b[31m   \u001b[0m copying atari_py/atari_roms/centipede.bin -> build/lib.linux-x86_64-cpython-310/atari_py/atari_roms\n",
      "  \u001b[31m   \u001b[0m copying atari_py/atari_roms/chopper_command.bin -> build/lib.linux-x86_64-cpython-310/atari_py/atari_roms\n",
      "  \u001b[31m   \u001b[0m copying atari_py/atari_roms/crazy_climber.bin -> build/lib.linux-x86_64-cpython-310/atari_py/atari_roms\n",
      "  \u001b[31m   \u001b[0m copying atari_py/atari_roms/defender.bin -> build/lib.linux-x86_64-cpython-310/atari_py/atari_roms\n",
      "  \u001b[31m   \u001b[0m copying atari_py/atari_roms/demon_attack.bin -> build/lib.linux-x86_64-cpython-310/atari_py/atari_roms\n",
      "  \u001b[31m   \u001b[0m copying atari_py/atari_roms/double_dunk.bin -> build/lib.linux-x86_64-cpython-310/atari_py/atari_roms\n",
      "  \u001b[31m   \u001b[0m copying atari_py/atari_roms/elevator_action.bin -> build/lib.linux-x86_64-cpython-310/atari_py/atari_roms\n",
      "  \u001b[31m   \u001b[0m copying atari_py/atari_roms/enduro.bin -> build/lib.linux-x86_64-cpython-310/atari_py/atari_roms\n",
      "  \u001b[31m   \u001b[0m copying atari_py/atari_roms/fishing_derby.bin -> build/lib.linux-x86_64-cpython-310/atari_py/atari_roms\n",
      "  \u001b[31m   \u001b[0m copying atari_py/atari_roms/freeway.bin -> build/lib.linux-x86_64-cpython-310/atari_py/atari_roms\n",
      "  \u001b[31m   \u001b[0m copying atari_py/atari_roms/frostbite.bin -> build/lib.linux-x86_64-cpython-310/atari_py/atari_roms\n",
      "  \u001b[31m   \u001b[0m copying atari_py/atari_roms/gopher.bin -> build/lib.linux-x86_64-cpython-310/atari_py/atari_roms\n",
      "  \u001b[31m   \u001b[0m copying atari_py/atari_roms/gravitar.bin -> build/lib.linux-x86_64-cpython-310/atari_py/atari_roms\n",
      "  \u001b[31m   \u001b[0m copying atari_py/atari_roms/hero.bin -> build/lib.linux-x86_64-cpython-310/atari_py/atari_roms\n",
      "  \u001b[31m   \u001b[0m copying atari_py/atari_roms/ice_hockey.bin -> build/lib.linux-x86_64-cpython-310/atari_py/atari_roms\n",
      "  \u001b[31m   \u001b[0m copying atari_py/atari_roms/jamesbond.bin -> build/lib.linux-x86_64-cpython-310/atari_py/atari_roms\n",
      "  \u001b[31m   \u001b[0m copying atari_py/atari_roms/journey_escape.bin -> build/lib.linux-x86_64-cpython-310/atari_py/atari_roms\n",
      "  \u001b[31m   \u001b[0m copying atari_py/atari_roms/kaboom.bin -> build/lib.linux-x86_64-cpython-310/atari_py/atari_roms\n",
      "  \u001b[31m   \u001b[0m copying atari_py/atari_roms/kangaroo.bin -> build/lib.linux-x86_64-cpython-310/atari_py/atari_roms\n",
      "  \u001b[31m   \u001b[0m copying atari_py/atari_roms/krull.bin -> build/lib.linux-x86_64-cpython-310/atari_py/atari_roms\n",
      "  \u001b[31m   \u001b[0m copying atari_py/atari_roms/kung_fu_master.bin -> build/lib.linux-x86_64-cpython-310/atari_py/atari_roms\n",
      "  \u001b[31m   \u001b[0m copying atari_py/atari_roms/montezuma_revenge.bin -> build/lib.linux-x86_64-cpython-310/atari_py/atari_roms\n",
      "  \u001b[31m   \u001b[0m copying atari_py/atari_roms/ms_pacman.bin -> build/lib.linux-x86_64-cpython-310/atari_py/atari_roms\n",
      "  \u001b[31m   \u001b[0m copying atari_py/atari_roms/name_this_game.bin -> build/lib.linux-x86_64-cpython-310/atari_py/atari_roms\n",
      "  \u001b[31m   \u001b[0m copying atari_py/atari_roms/phoenix.bin -> build/lib.linux-x86_64-cpython-310/atari_py/atari_roms\n",
      "  \u001b[31m   \u001b[0m copying atari_py/atari_roms/pitfall.bin -> build/lib.linux-x86_64-cpython-310/atari_py/atari_roms\n",
      "  \u001b[31m   \u001b[0m copying atari_py/atari_roms/pong.bin -> build/lib.linux-x86_64-cpython-310/atari_py/atari_roms\n",
      "  \u001b[31m   \u001b[0m copying atari_py/atari_roms/pooyan.bin -> build/lib.linux-x86_64-cpython-310/atari_py/atari_roms\n",
      "  \u001b[31m   \u001b[0m copying atari_py/atari_roms/private_eye.bin -> build/lib.linux-x86_64-cpython-310/atari_py/atari_roms\n",
      "  \u001b[31m   \u001b[0m copying atari_py/atari_roms/qbert.bin -> build/lib.linux-x86_64-cpython-310/atari_py/atari_roms\n",
      "  \u001b[31m   \u001b[0m copying atari_py/atari_roms/riverraid.bin -> build/lib.linux-x86_64-cpython-310/atari_py/atari_roms\n",
      "  \u001b[31m   \u001b[0m copying atari_py/atari_roms/road_runner.bin -> build/lib.linux-x86_64-cpython-310/atari_py/atari_roms\n",
      "  \u001b[31m   \u001b[0m copying atari_py/atari_roms/robotank.bin -> build/lib.linux-x86_64-cpython-310/atari_py/atari_roms\n",
      "  \u001b[31m   \u001b[0m copying atari_py/atari_roms/seaquest.bin -> build/lib.linux-x86_64-cpython-310/atari_py/atari_roms\n",
      "  \u001b[31m   \u001b[0m copying atari_py/atari_roms/skiing.bin -> build/lib.linux-x86_64-cpython-310/atari_py/atari_roms\n",
      "  \u001b[31m   \u001b[0m copying atari_py/atari_roms/solaris.bin -> build/lib.linux-x86_64-cpython-310/atari_py/atari_roms\n",
      "  \u001b[31m   \u001b[0m copying atari_py/atari_roms/space_invaders.bin -> build/lib.linux-x86_64-cpython-310/atari_py/atari_roms\n",
      "  \u001b[31m   \u001b[0m copying atari_py/atari_roms/star_gunner.bin -> build/lib.linux-x86_64-cpython-310/atari_py/atari_roms\n",
      "  \u001b[31m   \u001b[0m copying atari_py/atari_roms/tennis.bin -> build/lib.linux-x86_64-cpython-310/atari_py/atari_roms\n",
      "  \u001b[31m   \u001b[0m copying atari_py/atari_roms/time_pilot.bin -> build/lib.linux-x86_64-cpython-310/atari_py/atari_roms\n",
      "  \u001b[31m   \u001b[0m copying atari_py/atari_roms/tutankham.bin -> build/lib.linux-x86_64-cpython-310/atari_py/atari_roms\n",
      "  \u001b[31m   \u001b[0m copying atari_py/atari_roms/up_n_down.bin -> build/lib.linux-x86_64-cpython-310/atari_py/atari_roms\n",
      "  \u001b[31m   \u001b[0m copying atari_py/atari_roms/venture.bin -> build/lib.linux-x86_64-cpython-310/atari_py/atari_roms\n",
      "  \u001b[31m   \u001b[0m copying atari_py/atari_roms/video_pinball.bin -> build/lib.linux-x86_64-cpython-310/atari_py/atari_roms\n",
      "  \u001b[31m   \u001b[0m copying atari_py/atari_roms/wizard_of_wor.bin -> build/lib.linux-x86_64-cpython-310/atari_py/atari_roms\n",
      "  \u001b[31m   \u001b[0m copying atari_py/atari_roms/yars_revenge.bin -> build/lib.linux-x86_64-cpython-310/atari_py/atari_roms\n",
      "  \u001b[31m   \u001b[0m copying atari_py/atari_roms/zaxxon.bin -> build/lib.linux-x86_64-cpython-310/atari_py/atari_roms\n",
      "  \u001b[31m   \u001b[0m copying atari_py/package_data.txt -> build/lib.linux-x86_64-cpython-310/atari_py\n",
      "  \u001b[31m   \u001b[0m creating build/lib.linux-x86_64-cpython-310/atari_py/tests\n",
      "  \u001b[31m   \u001b[0m copying atari_py/tests/__init__.py -> build/lib.linux-x86_64-cpython-310/atari_py/tests\n",
      "  \u001b[31m   \u001b[0m copying atari_py/tests/test_smoke.py -> build/lib.linux-x86_64-cpython-310/atari_py/tests\n",
      "  \u001b[31m   \u001b[0m running build_ext\n",
      "  \u001b[31m   \u001b[0m Traceback (most recent call last):\n",
      "  \u001b[31m   \u001b[0m   File \"/tmp/pip-install-aeaibrw1/atari-py_1174f08fed124590a54a4658426950b9/setup.py\", line 21, in run\n",
      "  \u001b[31m   \u001b[0m     subprocess.check_call(['cmake', '..'], cwd=cwd)\n",
      "  \u001b[31m   \u001b[0m   File \"/home/artem/anaconda3/envs/MSAIRL/lib/python3.10/subprocess.py\", line 364, in check_call\n",
      "  \u001b[31m   \u001b[0m     retcode = call(*popenargs, **kwargs)\n",
      "  \u001b[31m   \u001b[0m   File \"/home/artem/anaconda3/envs/MSAIRL/lib/python3.10/subprocess.py\", line 345, in call\n",
      "  \u001b[31m   \u001b[0m     with Popen(*popenargs, **kwargs) as p:\n",
      "  \u001b[31m   \u001b[0m   File \"/home/artem/anaconda3/envs/MSAIRL/lib/python3.10/subprocess.py\", line 971, in __init__\n",
      "  \u001b[31m   \u001b[0m     self._execute_child(args, executable, preexec_fn, close_fds,\n",
      "  \u001b[31m   \u001b[0m   File \"/home/artem/anaconda3/envs/MSAIRL/lib/python3.10/subprocess.py\", line 1847, in _execute_child\n",
      "  \u001b[31m   \u001b[0m     raise child_exception_type(errno_num, err_msg, err_filename)\n",
      "  \u001b[31m   \u001b[0m FileNotFoundError: [Errno 2] No such file or directory: 'cmake'\n",
      "  \u001b[31m   \u001b[0m \n",
      "  \u001b[31m   \u001b[0m During handling of the above exception, another exception occurred:\n",
      "  \u001b[31m   \u001b[0m \n",
      "  \u001b[31m   \u001b[0m Traceback (most recent call last):\n",
      "  \u001b[31m   \u001b[0m   File \"<string>\", line 2, in <module>\n",
      "  \u001b[31m   \u001b[0m   File \"<pip-setuptools-caller>\", line 34, in <module>\n",
      "  \u001b[31m   \u001b[0m   File \"/tmp/pip-install-aeaibrw1/atari-py_1174f08fed124590a54a4658426950b9/setup.py\", line 35, in <module>\n",
      "  \u001b[31m   \u001b[0m     setup(name='atari-py',\n",
      "  \u001b[31m   \u001b[0m   File \"/home/artem/anaconda3/envs/MSAIRL/lib/python3.10/site-packages/setuptools/__init__.py\", line 87, in setup\n",
      "  \u001b[31m   \u001b[0m     return distutils.core.setup(**attrs)\n",
      "  \u001b[31m   \u001b[0m   File \"/home/artem/anaconda3/envs/MSAIRL/lib/python3.10/site-packages/setuptools/_distutils/core.py\", line 185, in setup\n",
      "  \u001b[31m   \u001b[0m     return run_commands(dist)\n",
      "  \u001b[31m   \u001b[0m   File \"/home/artem/anaconda3/envs/MSAIRL/lib/python3.10/site-packages/setuptools/_distutils/core.py\", line 201, in run_commands\n",
      "  \u001b[31m   \u001b[0m     dist.run_commands()\n",
      "  \u001b[31m   \u001b[0m   File \"/home/artem/anaconda3/envs/MSAIRL/lib/python3.10/site-packages/setuptools/_distutils/dist.py\", line 968, in run_commands\n",
      "  \u001b[31m   \u001b[0m     self.run_command(cmd)\n",
      "  \u001b[31m   \u001b[0m   File \"/home/artem/anaconda3/envs/MSAIRL/lib/python3.10/site-packages/setuptools/dist.py\", line 1217, in run_command\n",
      "  \u001b[31m   \u001b[0m     super().run_command(command)\n",
      "  \u001b[31m   \u001b[0m   File \"/home/artem/anaconda3/envs/MSAIRL/lib/python3.10/site-packages/setuptools/_distutils/dist.py\", line 987, in run_command\n",
      "  \u001b[31m   \u001b[0m     cmd_obj.run()\n",
      "  \u001b[31m   \u001b[0m   File \"/home/artem/anaconda3/envs/MSAIRL/lib/python3.10/site-packages/setuptools/command/install.py\", line 68, in run\n",
      "  \u001b[31m   \u001b[0m     return orig.install.run(self)\n",
      "  \u001b[31m   \u001b[0m   File \"/home/artem/anaconda3/envs/MSAIRL/lib/python3.10/site-packages/setuptools/_distutils/command/install.py\", line 698, in run\n",
      "  \u001b[31m   \u001b[0m     self.run_command('build')\n",
      "  \u001b[31m   \u001b[0m   File \"/home/artem/anaconda3/envs/MSAIRL/lib/python3.10/site-packages/setuptools/_distutils/cmd.py\", line 319, in run_command\n",
      "  \u001b[31m   \u001b[0m     self.distribution.run_command(command)\n",
      "  \u001b[31m   \u001b[0m   File \"/home/artem/anaconda3/envs/MSAIRL/lib/python3.10/site-packages/setuptools/dist.py\", line 1217, in run_command\n",
      "  \u001b[31m   \u001b[0m     super().run_command(command)\n",
      "  \u001b[31m   \u001b[0m   File \"/home/artem/anaconda3/envs/MSAIRL/lib/python3.10/site-packages/setuptools/_distutils/dist.py\", line 987, in run_command\n",
      "  \u001b[31m   \u001b[0m     cmd_obj.run()\n",
      "  \u001b[31m   \u001b[0m   File \"/home/artem/anaconda3/envs/MSAIRL/lib/python3.10/site-packages/setuptools/_distutils/command/build.py\", line 132, in run\n",
      "  \u001b[31m   \u001b[0m     self.run_command(cmd_name)\n",
      "  \u001b[31m   \u001b[0m   File \"/home/artem/anaconda3/envs/MSAIRL/lib/python3.10/site-packages/setuptools/_distutils/cmd.py\", line 319, in run_command\n",
      "  \u001b[31m   \u001b[0m     self.distribution.run_command(command)\n",
      "  \u001b[31m   \u001b[0m   File \"/home/artem/anaconda3/envs/MSAIRL/lib/python3.10/site-packages/setuptools/dist.py\", line 1217, in run_command\n",
      "  \u001b[31m   \u001b[0m     super().run_command(command)\n",
      "  \u001b[31m   \u001b[0m   File \"/home/artem/anaconda3/envs/MSAIRL/lib/python3.10/site-packages/setuptools/_distutils/dist.py\", line 987, in run_command\n",
      "  \u001b[31m   \u001b[0m     cmd_obj.run()\n",
      "  \u001b[31m   \u001b[0m   File \"/tmp/pip-install-aeaibrw1/atari-py_1174f08fed124590a54a4658426950b9/setup.py\", line 27, in run\n",
      "  \u001b[31m   \u001b[0m     sys.stderr.write(\"Unable to execute '{}'. HINT: are you sure `make` is installed?\\n\".format(' '.join(cmd)))\n",
      "  \u001b[31m   \u001b[0m NameError: name 'cmd' is not defined. Did you mean: 'cwd'?\n",
      "  \u001b[31m   \u001b[0m \u001b[31m[end of output]\u001b[0m\n",
      "  \n",
      "  \u001b[1;35mnote\u001b[0m: This error originates from a subprocess, and is likely not a problem with pip.\n",
      "\u001b[1;31merror\u001b[0m: \u001b[1mlegacy-install-failure\u001b[0m\n",
      "\n",
      "\u001b[31m×\u001b[0m Encountered error while trying to install package.\n",
      "\u001b[31m╰─>\u001b[0m atari-py\n",
      "\n",
      "\u001b[1;35mnote\u001b[0m: This is an issue with the package mentioned above, not pip.\n",
      "\u001b[1;36mhint\u001b[0m: See above for output from the failure.\n"
     ]
    },
    {
     "name": "stdout",
     "output_type": "stream",
     "text": [
      "\u001b[?25hRequirement already satisfied: gym[accept-rom-license,atari]==0.21.0 in /home/artem/anaconda3/envs/MSAIRL/lib/python3.10/site-packages (0.21.0)\n",
      "Requirement already satisfied: numpy>=1.18.0 in /home/artem/anaconda3/envs/MSAIRL/lib/python3.10/site-packages (from gym[accept-rom-license,atari]==0.21.0) (1.23.5)\n",
      "Requirement already satisfied: cloudpickle>=1.2.0 in /home/artem/anaconda3/envs/MSAIRL/lib/python3.10/site-packages (from gym[accept-rom-license,atari]==0.21.0) (2.2.0)\n",
      "Requirement already satisfied: autorom[accept-rom-license]~=0.4.2 in /home/artem/anaconda3/envs/MSAIRL/lib/python3.10/site-packages (from gym[accept-rom-license,atari]==0.21.0) (0.4.2)\n",
      "Requirement already satisfied: ale-py~=0.7.1 in /home/artem/anaconda3/envs/MSAIRL/lib/python3.10/site-packages (from gym[accept-rom-license,atari]==0.21.0) (0.7.5)\n",
      "Requirement already satisfied: importlib-resources in /home/artem/anaconda3/envs/MSAIRL/lib/python3.10/site-packages (from ale-py~=0.7.1->gym[accept-rom-license,atari]==0.21.0) (5.10.1)\n",
      "Requirement already satisfied: requests in /home/artem/anaconda3/envs/MSAIRL/lib/python3.10/site-packages (from autorom[accept-rom-license]~=0.4.2->gym[accept-rom-license,atari]==0.21.0) (2.28.1)\n",
      "Requirement already satisfied: click in /home/artem/anaconda3/envs/MSAIRL/lib/python3.10/site-packages (from autorom[accept-rom-license]~=0.4.2->gym[accept-rom-license,atari]==0.21.0) (8.1.3)\n",
      "Requirement already satisfied: tqdm in /home/artem/anaconda3/envs/MSAIRL/lib/python3.10/site-packages (from autorom[accept-rom-license]~=0.4.2->gym[accept-rom-license,atari]==0.21.0) (4.64.1)\n",
      "Requirement already satisfied: AutoROM.accept-rom-license in /home/artem/anaconda3/envs/MSAIRL/lib/python3.10/site-packages (from autorom[accept-rom-license]~=0.4.2->gym[accept-rom-license,atari]==0.21.0) (0.4.2)\n",
      "Requirement already satisfied: certifi>=2017.4.17 in /home/artem/anaconda3/envs/MSAIRL/lib/python3.10/site-packages (from requests->autorom[accept-rom-license]~=0.4.2->gym[accept-rom-license,atari]==0.21.0) (2022.9.24)\n",
      "Requirement already satisfied: idna<4,>=2.5 in /home/artem/anaconda3/envs/MSAIRL/lib/python3.10/site-packages (from requests->autorom[accept-rom-license]~=0.4.2->gym[accept-rom-license,atari]==0.21.0) (3.4)\n",
      "Requirement already satisfied: charset-normalizer<3,>=2 in /home/artem/anaconda3/envs/MSAIRL/lib/python3.10/site-packages (from requests->autorom[accept-rom-license]~=0.4.2->gym[accept-rom-license,atari]==0.21.0) (2.0.4)\n",
      "Requirement already satisfied: urllib3<1.27,>=1.21.1 in /home/artem/anaconda3/envs/MSAIRL/lib/python3.10/site-packages (from requests->autorom[accept-rom-license]~=0.4.2->gym[accept-rom-license,atari]==0.21.0) (1.26.13)\n"
     ]
    }
   ],
   "source": [
    "!pip install atari-py==0.2.5\n",
    "!pip install gym[atari,accept-rom-license]==0.21.0"
   ]
  },
  {
   "cell_type": "code",
   "execution_count": 3,
   "metadata": {
    "id": "zXNJKIeGX9zZ"
   },
   "outputs": [],
   "source": [
    "import random\n",
    "import numpy as np\n",
    "import torch\n",
    "import utils"
   ]
  },
  {
   "cell_type": "code",
   "execution_count": 4,
   "metadata": {
    "id": "OkZstUwiX9za"
   },
   "outputs": [],
   "source": [
    "import gym\n",
    "import numpy as np\n",
    "import matplotlib.pyplot as plt\n",
    "%matplotlib inline"
   ]
  },
  {
   "cell_type": "markdown",
   "metadata": {
    "id": "cCjU1dfJX9zc"
   },
   "source": [
    "### Let's play some old videogames\n",
    "![img](https://github.com/yandexdataschool/Practical_RL/raw/master/yet_another_week/_resource/nerd.png)\n",
    "\n",
    "This time we're gonna apply approximate Q-learning to an Atari game called Breakout. It's not the hardest thing out there, but it's definitely way more complex than anything we tried before.\n"
   ]
  },
  {
   "cell_type": "code",
   "execution_count": 5,
   "metadata": {
    "id": "FemkIIjKX9zd"
   },
   "outputs": [],
   "source": [
    "ENV_NAME = \"BreakoutNoFrameskip-v4\""
   ]
  },
  {
   "cell_type": "markdown",
   "metadata": {
    "id": "-QEsGJ5DX9zf"
   },
   "source": [
    "## Preprocessing (3 pts)"
   ]
  },
  {
   "cell_type": "markdown",
   "metadata": {
    "id": "m32dELZAX9zw"
   },
   "source": [
    "Let's see what observations look like."
   ]
  },
  {
   "cell_type": "code",
   "execution_count": null,
   "metadata": {
    "id": "xjgsYFg_33hh"
   },
   "outputs": [],
   "source": []
  },
  {
   "cell_type": "code",
   "execution_count": 6,
   "metadata": {
    "colab": {
     "base_uri": "https://localhost:8080/",
     "height": 520
    },
    "id": "kuIGAEJCX9zx",
    "outputId": "26c203b6-f5bc-4938-810f-0e529dcf2e90"
   },
   "outputs": [
    {
     "name": "stderr",
     "output_type": "stream",
     "text": [
      "A.L.E: Arcade Learning Environment (version 0.7.5+db37282)\n",
      "[Powered by Stella]\n"
     ]
    },
    {
     "data": {
      "image/png": "[encoded data removed]",
      "text/plain": [
       "<Figure size 1600x900 with 10 Axes>"
      ]
     },
     "metadata": {},
     "output_type": "display_data"
    }
   ],
   "source": [
    "env = gym.make(ENV_NAME)\n",
    "env.reset()\n",
    "\n",
    "n_cols = 5\n",
    "n_rows = 2\n",
    "fig = plt.figure(figsize=(16, 9))\n",
    "\n",
    "for row in range(n_rows):\n",
    "    for col in range(n_cols):\n",
    "        ax = fig.add_subplot(n_rows, n_cols, row * n_cols + col + 1)\n",
    "        ax.imshow(env.render('rgb_array'))\n",
    "        env.step(env.action_space.sample())\n",
    "plt.show()"
   ]
  },
  {
   "cell_type": "markdown",
   "metadata": {
    "id": "CMNjpBFJX9z2"
   },
   "source": [
    "**Let's play a little.**\n",
    "\n",
    "Pay attention to zoom and fps args of play function. Control: A, D, space."
   ]
  },
  {
   "cell_type": "code",
   "execution_count": 7,
   "metadata": {
    "id": "IfzQpzIyX9z3"
   },
   "outputs": [
    {
     "name": "stdout",
     "output_type": "stream",
     "text": [
      "pygame 2.1.2 (SDL 2.0.16, Python 3.10.8)\n",
      "Hello from the pygame community. https://www.pygame.org/contribute.html\n"
     ]
    }
   ],
   "source": [
    "# # Does not work in Colab.\n",
    "# # Use KeyboardInterrupt (Kernel → Interrupt in Jupyter) to continue.\n",
    "\n",
    "from gym.utils.play import play\n",
    "play(env=gym.make(ENV_NAME), zoom=5, fps=30)"
   ]
  },
  {
   "cell_type": "markdown",
   "metadata": {
    "id": "TDjoXt8NX9z4"
   },
   "source": [
    "### Processing game image \n",
    "\n",
    "Raw Atari images are large, 210x160x3 by default. However, we don't need that level of detail in order to learn from them.\n",
    "\n",
    "We can thus save a lot of time by preprocessing game image, including\n",
    "* Resizing to a smaller shape, 64x64\n",
    "* Converting to grayscale\n",
    "* Cropping irrelevant image parts (top, bottom and edges)\n",
    "\n",
    "Also please keep one dimension for channel so that final shape would be 1x64x64.\n",
    "\n",
    "Tip: You can implement your own grayscale converter and assign a huge weight to the red channel. This dirty trick is not necessary but it will speed up learning."
   ]
  },
  {
   "cell_type": "code",
   "execution_count": 8,
   "metadata": {
    "id": "UIEBysDnX9z5"
   },
   "outputs": [],
   "source": [
    "from gym.core import ObservationWrapper\n",
    "from gym.spaces import Box\n",
    "import cv2\n",
    "import numpy as np\n",
    "\n",
    "\n",
    "class PreprocessAtariObs(ObservationWrapper):\n",
    "    def __init__(self, env):\n",
    "        \"\"\"A gym wrapper that crops, scales image into the desired shapes and grayscales it.\"\"\"\n",
    "        ObservationWrapper.__init__(self, env)\n",
    "\n",
    "        self.img_size = (1, 64, 64)\n",
    "        self.observation_space = Box(0.0, 1.0, self.img_size)\n",
    "\n",
    "\n",
    "    def _to_gray_scale(self, rgb, channel_weights=[0.8, 0.1, 0.1]):\n",
    "        return  rgb@np.array(channel_weights, dtype=np.float32)\n",
    "\n",
    "    def observation(self, img):\n",
    "        \"\"\"what happens to each observation\"\"\"\n",
    "\n",
    "        # Here's what you need to do:\n",
    "        #  * crop image, remove irrelevant parts\n",
    "        #  * resize image to self.img_size\n",
    "        #     (Use imresize from any library you want,\n",
    "        #      e.g. opencv, PIL, keras. Don't use skimage.imresize\n",
    "        #      because it is extremely slow.)\n",
    "        #  * cast image to grayscale\n",
    "        #  * convert image pixels to (0,1) range, float32 type\n",
    "        cropped_img = img[32:, 8:154, :]\n",
    "        resized_img = cv2.resize(cropped_img, dsize=(64, 64), interpolation=cv2.INTER_NEAREST)\n",
    "        gray_scaled_img = self._to_gray_scale(resized_img)\n",
    "        result = gray_scaled_img/np.max(gray_scaled_img)\n",
    "        \n",
    "        return result.reshape(1, 64, 64)"
   ]
  },
  {
   "cell_type": "code",
   "execution_count": 9,
   "metadata": {
    "colab": {
     "base_uri": "https://localhost:8080/",
     "height": 489
    },
    "id": "XKnHuUk5X9z7",
    "outputId": "beff92a1-e506-4111-da75-00fd948511db"
   },
   "outputs": [
    {
     "name": "stdout",
     "output_type": "stream",
     "text": [
      "Formal tests seem fine. Here's an example of what you'll get.\n"
     ]
    }
   ],
   "source": [
    "import gym\n",
    "# spawn game instance for tests\n",
    "env = gym.make(ENV_NAME)  # create raw env\n",
    "env = PreprocessAtariObs(env)\n",
    "observation_shape = env.observation_space.shape\n",
    "n_actions = env.action_space.n\n",
    "env.reset()\n",
    "obs, _, _, _ = env.step(env.action_space.sample())\n",
    "\n",
    "# test observation\n",
    "assert obs.ndim == 3, \"observation must be [channel, h, w] even if there's just one channel\"\n",
    "assert obs.shape == observation_shape, obs.shape\n",
    "assert obs.dtype == 'float32'\n",
    "assert len(np.unique(obs)) > 2, \"your image must not be binary\"\n",
    "assert 0 <= np.min(obs) and np.max(\n",
    "    obs) <= 1, \"convert image pixels to [0,1] range\"\n",
    "\n",
    "assert np.max(obs) >= 0.5, \"It would be easier to see a brighter observation\"\n",
    "assert np.mean(obs) >= 0.1, \"It would be easier to see a brighter observation\"\n",
    "\n",
    "print(\"Formal tests seem fine. Here's an example of what you'll get.\")\n",
    "\n",
    "n_cols = 5\n",
    "n_rows = 2\n",
    "fig = plt.figure(figsize=(16, 9))\n",
    "obs = env.reset()\n",
    "for row in range(n_rows):\n",
    "    for col in range(n_cols):\n",
    "        ax = fig.add_subplot(n_rows, n_cols, row * n_cols + col + 1)\n",
    "        ax.imshow(obs[0, :, :], interpolation='none', cmap='gray')\n",
    "        obs, _, _, _ = env.step(env.action_space.sample())\n",
    "plt.show()\n"
   ]
  },
  {
   "cell_type": "markdown",
   "metadata": {
    "id": "VZZDQroOX9z7"
   },
   "source": [
    "### Wrapping."
   ]
  },
  {
   "cell_type": "markdown",
   "metadata": {
    "id": "96Jlif4tX9z8"
   },
   "source": [
    "**About the game:** You have 5 lives and get points for breaking the wall. Higher bricks cost more than the lower ones. There are 4 actions: start game (should be called at the beginning and after each life is lost), move left, move right and do nothing. There are some common wrappers used for Atari environments."
   ]
  },
  {
   "cell_type": "code",
   "execution_count": 10,
   "metadata": {
    "id": "qJZV5HEVX9z-"
   },
   "outputs": [],
   "source": [
    "import atari_wrappers\n",
    "\n",
    "def PrimaryAtariWrap(env, clip_rewards=True):\n",
    "    assert 'NoFrameskip' in env.spec.id\n",
    "\n",
    "    # This wrapper holds the same action for <skip> frames and outputs\n",
    "    # the maximal pixel value of 2 last frames (to handle blinking\n",
    "    # in some envs)\n",
    "    env = atari_wrappers.MaxAndSkipEnv(env, skip=4)\n",
    "\n",
    "    # This wrapper sends done=True when each life is lost\n",
    "    # (not all the 5 lives that are givern by the game rules).\n",
    "    # It should make easier for the agent to understand that losing is bad.\n",
    "    env = atari_wrappers.EpisodicLifeEnv(env)\n",
    "\n",
    "    # This wrapper laucnhes the ball when an episode starts.\n",
    "    # Without it the agent has to learn this action, too.\n",
    "    # Actually it can but learning would take longer.\n",
    "    env = atari_wrappers.FireResetEnv(env)\n",
    "\n",
    "    # This wrapper transforms rewards to {-1, 0, 1} according to their sign\n",
    "    if clip_rewards:\n",
    "        env = atari_wrappers.ClipRewardEnv(env)\n",
    "\n",
    "    # This wrapper is yours :)\n",
    "    env = PreprocessAtariObs(env)\n",
    "    return env"
   ]
  },
  {
   "cell_type": "markdown",
   "metadata": {
    "id": "vkpgHEOwX90H"
   },
   "source": [
    "**Let's see if the game is still playable after applying the wrappers.**\n",
    "At playing the EpisodicLifeEnv wrapper seems not to work but actually it does (because after when life finishes a new ball is dropped automatically - it means that FireResetEnv wrapper understands that a new episode began)."
   ]
  },
  {
   "cell_type": "code",
   "execution_count": 11,
   "metadata": {
    "id": "O_YJA55YX90J"
   },
   "outputs": [],
   "source": [
    "# # Does not work in Colab.\n",
    "# # Use KeyboardInterrupt (Kernel → Interrupt in Jupyter) to continue.\n",
    "\n",
    "from gym.utils.play import play\n",
    "\n",
    "def make_play_env():\n",
    "     env = gym.make(ENV_NAME)\n",
    "     env = PrimaryAtariWrap(env)\n",
    "# in PyTorch images have shape [c, h, w] instead of common [h, w, c]\n",
    "     env = atari_wrappers.AntiTorchWrapper(env)\n",
    "     return env\n",
    "\n",
    "play(make_play_env(), zoom=5, fps=15)"
   ]
  },
  {
   "cell_type": "markdown",
   "metadata": {
    "id": "ky5gJ9mBX90K"
   },
   "source": [
    "### Frame buffer\n",
    "\n",
    "Our agent can only process one observation at a time, so we gotta make sure it contains enough information to find optimal actions. For instance, agent has to react to moving objects so it must be able to measure object's velocity.\n",
    "\n",
    "To do so, we introduce a buffer that stores 4 last images. This time everything is pre-implemented for you, not really by the staff of the course :)"
   ]
  },
  {
   "cell_type": "code",
   "execution_count": 12,
   "metadata": {
    "id": "2TQXbQ9YX90K"
   },
   "outputs": [],
   "source": [
    "from framebuffer import FrameBuffer\n",
    "\n",
    "def make_env(clip_rewards=True, seed=None):\n",
    "    env = gym.make(ENV_NAME)  # create raw env\n",
    "    if seed is not None:\n",
    "        env.seed(seed)\n",
    "    env = PrimaryAtariWrap(env, clip_rewards)\n",
    "    env = FrameBuffer(env, n_frames=4, dim_order='pytorch')\n",
    "    return env\n",
    "\n",
    "env = make_env()\n",
    "env.reset()\n",
    "n_actions = env.action_space.n\n",
    "state_shape = env.observation_space.shape"
   ]
  },
  {
   "cell_type": "code",
   "execution_count": 13,
   "metadata": {
    "colab": {
     "base_uri": "https://localhost:8080/",
     "height": 1000
    },
    "id": "ZCkPUaBjX90M",
    "outputId": "c5017bca-fd17-4a38-95bf-af52410a569a"
   },
   "outputs": [],
   "source": [
    "for _ in range(12):\n",
    "    obs, _, _, _ = env.step(env.action_space.sample())\n",
    "\n",
    "plt.figure(figsize=[12,10])\n",
    "plt.title(\"Game image\")\n",
    "plt.imshow(env.render(\"rgb_array\"))\n",
    "plt.show()\n",
    "\n",
    "plt.figure(figsize=[15,15])\n",
    "plt.title(\"Agent observation (4 frames top to bottom)\")\n",
    "plt.imshow(utils.img_by_obs(obs, state_shape), cmap='gray')\n",
    "plt.show()"
   ]
  },
  {
   "cell_type": "markdown",
   "metadata": {
    "id": "DGFfiPnTX90N"
   },
   "source": [
    "## DQN as it is (4 pts)"
   ]
  },
  {
   "cell_type": "markdown",
   "metadata": {
    "id": "HijJ_V4EX90N"
   },
   "source": [
    "### Building a network\n",
    "\n",
    "We now need to build a neural network that can map images to state q-values. This network will be called on every agent's step so it better not be resnet-152 unless you have an array of GPUs. Instead, you can use strided convolutions with a small number of features to save time and memory.\n",
    "\n",
    "You can build any architecture you want, but for reference, here's something that will more or less work:"
   ]
  },
  {
   "cell_type": "markdown",
   "metadata": {
    "id": "4K8X1uY1X90N"
   },
   "source": [
    "![img](https://github.com/yandexdataschool/Practical_RL/raw/master/yet_another_week/_resource/dqn_arch.png)"
   ]
  },
  {
   "cell_type": "markdown",
   "metadata": {
    "id": "8jQO2gIiX90O"
   },
   "source": [
    "**Dueling network: (+2 pts)**\n",
    "$$Q_{\\theta}(s, a) = V_{\\eta}(f_{\\xi}(s)) + A_{\\psi}(f_{\\xi}(s), a) - \\frac{\\sum_{a'}A_{\\psi}(f_{\\xi}(s), a')}{N_{actions}},$$\n",
    "where $\\xi$, $\\eta$, and $\\psi$ are, respectively, the parameters of the\n",
    "shared encoder $f_ξ$ , of the value stream $V_\\eta$ , and of the advan\n",
    "tage stream $A_\\psi$; and $\\theta = \\{\\xi, \\eta, \\psi\\}$ is their concatenation.\n",
    "\n",
    "For the architecture on the image $V$ and $A$ heads can follow the dense layer instead of $Q$. Please don't worry that the model becomes a little bigger."
   ]
  },
  {
   "cell_type": "code",
   "execution_count": 14,
   "metadata": {
    "colab": {
     "base_uri": "https://localhost:8080/",
     "height": 35
    },
    "id": "E9R6HAK4X90P",
    "outputId": "82632566-30a3-42aa-8049-741255e8e145"
   },
   "outputs": [
    {
     "data": {
      "text/plain": [
       "'cuda'"
      ]
     },
     "execution_count": 14,
     "metadata": {},
     "output_type": "execute_result"
    }
   ],
   "source": [
    "import torch\n",
    "import torch.nn as nn\n",
    "if torch.cuda.is_available():\n",
    "  device = 'cuda'\n",
    "else:\n",
    "  device = 'cpu'\n",
    "device"
   ]
  },
  {
   "cell_type": "code",
   "execution_count": 15,
   "metadata": {
    "id": "VM08D56SX90Q"
   },
   "outputs": [],
   "source": [
    "def conv2d_size_out(size, kernel_size, stride):\n",
    "    \"\"\"\n",
    "    common use case:\n",
    "    cur_layer_img_w = conv2d_size_out(cur_layer_img_w, kernel_size, stride)\n",
    "    cur_layer_img_h = conv2d_size_out(cur_layer_img_h, kernel_size, stride)\n",
    "    to understand the shape for dense layer's input\n",
    "    \"\"\"\n",
    "    return (size - (kernel_size - 1) - 1) // stride  + 1"
   ]
  },
  {
   "cell_type": "code",
   "execution_count": 16,
   "metadata": {
    "colab": {
     "base_uri": "https://localhost:8080/"
    },
    "id": "xzmTvropDqf1",
    "outputId": "db8094a7-514c-4a66-c025-becb58d462f8"
   },
   "outputs": [
    {
     "data": {
      "text/plain": [
       "15"
      ]
     },
     "execution_count": 16,
     "metadata": {},
     "output_type": "execute_result"
    }
   ],
   "source": [
    "conv2d_size_out(31, 3, 2)"
   ]
  },
  {
   "cell_type": "code",
   "execution_count": 17,
   "metadata": {
    "id": "MncbspErX90R"
   },
   "outputs": [],
   "source": [
    "class DQNAgent(nn.Module):\n",
    "    def __init__(self, state_shape, n_actions, epsilon=0):\n",
    "\n",
    "        super().__init__()\n",
    "        self.epsilon = epsilon\n",
    "        self.n_actions = n_actions\n",
    "        self.state_shape = state_shape\n",
    "\n",
    "        # Define your network body here. Please make sure agent is fully contained here\n",
    "        # nn.Flatten() can be useful\n",
    "        self.model = nn.Sequential(\n",
    "            nn.Conv2d(4, 16, (3, 3), (2, 2)),\n",
    "            nn.ReLU(),\n",
    "            nn.Conv2d(16, 32, (3, 3), (2, 2)),\n",
    "            nn.ReLU(),\n",
    "            nn.Conv2d(32, 64, (3, 3), (2, 2)),\n",
    "            nn.ReLU(),\n",
    "            nn.Flatten(),\n",
    "            nn.Linear(7*7*64, 256),\n",
    "            nn.ReLU(),\n",
    "            nn.Linear(256, self.n_actions)\n",
    "        )\n",
    "        \n",
    "\n",
    "    def forward(self, state_t):\n",
    "        \"\"\"\n",
    "        takes agent's observation (tensor), returns qvalues (tensor)\n",
    "        :param state_t: a batch of 4-frame buffers, shape = [batch_size, 4, h, w]\n",
    "        \"\"\"\n",
    "        # Use your network to compute qvalues for given state\n",
    "        qvalues = self.model(state_t)\n",
    "\n",
    "        assert qvalues.requires_grad, \"qvalues must be a torch tensor with grad\"\n",
    "        assert (\n",
    "            len(qvalues.shape) == 2 and \n",
    "            qvalues.shape[0] == state_t.shape[0] and \n",
    "            qvalues.shape[1] == n_actions\n",
    "        )\n",
    "\n",
    "        return qvalues\n",
    "\n",
    "    def get_qvalues(self, states):\n",
    "        \"\"\"\n",
    "        like forward, but works on numpy arrays, not tensors\n",
    "        \"\"\"\n",
    "        model_device = next(self.parameters()).device\n",
    "        states = torch.tensor(states, device=model_device, dtype=torch.float32)\n",
    "        qvalues = self.forward(states)\n",
    "        return qvalues.data.cpu().numpy()\n",
    "\n",
    "    def sample_actions(self, qvalues):\n",
    "        \"\"\"pick actions given qvalues. Uses epsilon-greedy exploration strategy. \"\"\"\n",
    "        epsilon = self.epsilon\n",
    "        batch_size, n_actions = qvalues.shape\n",
    "\n",
    "        random_actions = np.random.choice(n_actions, size=batch_size)\n",
    "        best_actions = qvalues.argmax(axis=-1)\n",
    "\n",
    "        should_explore = np.random.choice(\n",
    "            [0, 1], batch_size, p=[1-epsilon, epsilon])\n",
    "        return np.where(should_explore, random_actions, best_actions)"
   ]
  },
  {
   "cell_type": "code",
   "execution_count": 18,
   "metadata": {
    "id": "2z_MwiFAX90S"
   },
   "outputs": [],
   "source": [
    "agent = DQNAgent(state_shape, n_actions, epsilon=0.5).to(device)"
   ]
  },
  {
   "cell_type": "markdown",
   "metadata": {
    "id": "LQ8gXhnTX90S"
   },
   "source": [
    "Now let's try out our agent to see if it raises any errors."
   ]
  },
  {
   "cell_type": "code",
   "execution_count": 19,
   "metadata": {
    "id": "ckDgmKivX90T"
   },
   "outputs": [],
   "source": [
    "def evaluate(env, agent, n_games=1, greedy=False, t_max=10000):\n",
    "    \"\"\" Plays n_games full games. If greedy, picks actions as argmax(qvalues). Returns mean reward. \"\"\"\n",
    "    rewards = []\n",
    "    for _ in range(n_games):\n",
    "        s = env.reset()\n",
    "        reward = 0\n",
    "        for _ in range(t_max):\n",
    "            qvalues = agent.get_qvalues([s])\n",
    "            action = qvalues.argmax(axis=-1)[0] if greedy else agent.sample_actions(qvalues)[0]\n",
    "            s, r, done, _ = env.step(action)\n",
    "            reward += r\n",
    "            if done:\n",
    "                break\n",
    "\n",
    "        rewards.append(reward)\n",
    "    return np.mean(rewards)"
   ]
  },
  {
   "cell_type": "code",
   "execution_count": 20,
   "metadata": {
    "colab": {
     "base_uri": "https://localhost:8080/"
    },
    "id": "f7bWwz48X90U",
    "outputId": "8154bb6c-2271-47c4-9d46-6a47e6ed40c1"
   },
   "outputs": [
    {
     "name": "stderr",
     "output_type": "stream",
     "text": [
      "/tmp/ipykernel_106950/3707017604.py:47: UserWarning: Creating a tensor from a list of numpy.ndarrays is extremely slow. Please consider converting the list to a single numpy.ndarray with numpy.array() before converting to a tensor. (Triggered internally at ../torch/csrc/utils/tensor_new.cpp:230.)\n",
      "  states = torch.tensor(states, device=model_device, dtype=torch.float32)\n"
     ]
    },
    {
     "data": {
      "text/plain": [
       "0.0"
      ]
     },
     "execution_count": 20,
     "metadata": {},
     "output_type": "execute_result"
    }
   ],
   "source": [
    "evaluate(env, agent, n_games=1)"
   ]
  },
  {
   "cell_type": "markdown",
   "metadata": {
    "id": "25tyOImaX90U"
   },
   "source": [
    "### Experience replay\n",
    "For this assignment, we provide you with experience replay buffer. If you implemented experience replay buffer in last week's assignment, you can copy-paste it here **to get 2 bonus points**.\n",
    "\n",
    "![img](https://github.com/yandexdataschool/Practical_RL/raw/master/yet_another_week/_resource/exp_replay.png)"
   ]
  },
  {
   "cell_type": "markdown",
   "metadata": {
    "id": "8SavNbyzX90V"
   },
   "source": [
    "#### The interface is fairly simple:\n",
    "* `exp_replay.add(obs, act, rw, next_obs, done)` - saves (s,a,r,s',done) tuple into the buffer\n",
    "* `exp_replay.sample(batch_size)` - returns observations, actions, rewards, next_observations and is_done for `batch_size` random samples.\n",
    "* `len(exp_replay)` - returns number of elements stored in replay buffer."
   ]
  },
  {
   "cell_type": "code",
   "execution_count": 21,
   "metadata": {
    "id": "I4pGl_TjFnb3"
   },
   "outputs": [],
   "source": [
    "import random\n",
    "from collections import deque\n",
    "\n",
    "\n",
    "class ReplayBuffer(object):\n",
    "    def __init__(self, size):\n",
    "        \"\"\"\n",
    "        Create Replay buffer.\n",
    "        Parameters\n",
    "        ----------\n",
    "        size: int\n",
    "            Max number of transitions to store in the buffer. When the buffer\n",
    "            overflows the old memories are dropped.\n",
    "\n",
    "        Note: for this assignment you can pick any data structure you want.\n",
    "              If you want to keep it simple, you can store a list of tuples of (s, a, r, s') in self._storage\n",
    "              However you may find out there are faster and/or more memory-efficient ways to do so.\n",
    "        \"\"\"\n",
    "        self._storage = []\n",
    "        self._maxsize = size\n",
    "\n",
    "        # OPTIONAL: YOUR CODE\n",
    "        self._storage = deque([], maxlen=self._maxsize)\n",
    "\n",
    "    def __len__(self):\n",
    "        return len(self._storage)\n",
    "\n",
    "    def add(self, obs_t, action, reward, obs_tp1, done):\n",
    "        '''\n",
    "        Make sure, _storage will not exceed _maxsize. \n",
    "        Make sure, FIFO rule is being followed: the oldest examples has to be removed earlier\n",
    "        '''\n",
    "        data = (obs_t, action, reward, obs_tp1, done)\n",
    "\n",
    "        # add data to storage\n",
    "        self._storage.append(data)\n",
    "\n",
    "    def sample(self, batch_size):\n",
    "        \"\"\"Sample a batch of experiences.\n",
    "        Parameters\n",
    "        ----------\n",
    "        batch_size: int\n",
    "            How many transitions to sample.\n",
    "        Returns\n",
    "        -------\n",
    "        obs_batch: np.array\n",
    "            batch of observations\n",
    "        act_batch: np.array\n",
    "            batch of actions executed given obs_batch\n",
    "        rew_batch: np.array\n",
    "            rewards received as results of executing act_batch\n",
    "        next_obs_batch: np.array\n",
    "            next set of observations seen after executing act_batch\n",
    "        done_mask: np.array\n",
    "            done_mask[i] = 1 if executing act_batch[i] resulted in\n",
    "            the end of an episode and 0 otherwise.\n",
    "        \"\"\"\n",
    "        if (len(self._storage) == 0):\n",
    "          return None\n",
    "        idxes = np.random.choice(len(self._storage), size=batch_size)\n",
    "\n",
    "        # collect <s,a,r,s',done> for each index\n",
    "\n",
    "        return (\n",
    "            np.array([self._storage[i][0] for i in idxes]),\n",
    "            np.array([self._storage[i][1] for i in idxes]),\n",
    "            np.array([self._storage[i][2] for i in idxes]),\n",
    "            np.array([self._storage[i][3] for i in idxes]),\n",
    "            np.array([self._storage[i][4] for i in idxes]) ,\n",
    "            )"
   ]
  },
  {
   "cell_type": "code",
   "execution_count": 22,
   "metadata": {
    "id": "zdnAYoyrX90V"
   },
   "outputs": [],
   "source": [
    "exp_replay = ReplayBuffer(10)\n",
    "\n",
    "for _ in range(30):\n",
    "    exp_replay.add(env.reset(), env.action_space.sample(), 1.0, env.reset(), done=False)\n",
    "\n",
    "obs_batch, act_batch, reward_batch, next_obs_batch, is_done_batch = exp_replay.sample(5)\n",
    "\n",
    "assert len(exp_replay) == 10, \"experience replay size should be 10 because that's what maximum capacity is\""
   ]
  },
  {
   "cell_type": "code",
   "execution_count": 23,
   "metadata": {
    "id": "nD-f_mPtX90X"
   },
   "outputs": [],
   "source": [
    "def play_and_record(initial_state, agent, env, exp_replay, n_steps=1):\n",
    "    \"\"\"\n",
    "    Play the game for exactly n_steps, record every (s,a,r,s', done) to replay buffer. \n",
    "    Whenever game ends, add record with done=True and reset the game.\n",
    "    It is guaranteed that env has done=False when passed to this function.\n",
    "\n",
    "    PLEASE DO NOT RESET ENV UNLESS IT IS \"DONE\"\n",
    "\n",
    "    :returns: return sum of rewards over time and the state in which the env stays\n",
    "    \"\"\"\n",
    "    s = initial_state\n",
    "    sum_rewards = 0\n",
    "\n",
    "    # Play the game for n_steps as per instructions above\n",
    "    for _ in range(n_steps):\n",
    "      q_values = agent.get_qvalues([s])\n",
    "      a = agent.sample_actions(q_values)\n",
    "      next_s, r, done, _ = env.step(a[0])\n",
    "      sum_rewards += r\n",
    "      exp_replay.add(s, a[0], r, next_s, done)\n",
    "      if done:\n",
    "        s = env.reset()\n",
    "      else:\n",
    "        s = next_s\n",
    "\n",
    "    return sum_rewards, s"
   ]
  },
  {
   "cell_type": "code",
   "execution_count": 24,
   "metadata": {
    "colab": {
     "base_uri": "https://localhost:8080/"
    },
    "id": "wTdWdUArX90a",
    "outputId": "a8ae403f-c167-428d-c295-ee143da7be64"
   },
   "outputs": [
    {
     "name": "stdout",
     "output_type": "stream",
     "text": [
      "Well done!\n"
     ]
    }
   ],
   "source": [
    "# testing your code.\n",
    "exp_replay = ReplayBuffer(2000)\n",
    "\n",
    "state = env.reset()\n",
    "play_and_record(state, agent, env, exp_replay, n_steps=1000)\n",
    "\n",
    "# if you're using your own experience replay buffer, some of those tests may need correction.\n",
    "# just make sure you know what your code does\n",
    "assert len(exp_replay) == 1000, \\\n",
    "    \"play_and_record should have added exactly 1000 steps, \" \\\n",
    "    \"but instead added %i\" % len(exp_replay)\n",
    "is_dones = list(zip(*exp_replay._storage))[-1]\n",
    "\n",
    "assert 0 < np.mean(is_dones) < 0.1, \\\n",
    "    \"Please make sure you restart the game whenever it is 'done' and \" \\\n",
    "    \"record the is_done correctly into the buffer. Got %f is_done rate over \" \\\n",
    "    \"%i steps. [If you think it's your tough luck, just re-run the test]\" % (\n",
    "        np.mean(is_dones), len(exp_replay))\n",
    "\n",
    "for _ in range(100):\n",
    "    obs_batch, act_batch, reward_batch, next_obs_batch, is_done_batch = exp_replay.sample(10)\n",
    "    assert obs_batch.shape == next_obs_batch.shape == (10,) + state_shape\n",
    "    assert act_batch.shape == (10,), \\\n",
    "        \"actions batch should have shape (10,) but is instead %s\" % str(act_batch.shape)\n",
    "    assert reward_batch.shape == (10,), \\\n",
    "        \"rewards batch should have shape (10,) but is instead %s\" % str(reward_batch.shape)\n",
    "    assert is_done_batch.shape == (10,), \\\n",
    "        \"is_done batch should have shape (10,) but is instead %s\" % str(is_done_batch.shape)\n",
    "    assert [int(i) in (0, 1) for i in is_dones], \\\n",
    "        \"is_done should be strictly True or False\"\n",
    "    assert [0 <= a < n_actions for a in act_batch], \"actions should be within [0, n_actions)\"\n",
    "\n",
    "print(\"Well done!\")"
   ]
  },
  {
   "cell_type": "markdown",
   "metadata": {
    "id": "4yWyyj5tX90c"
   },
   "source": [
    "### Target networks\n",
    "\n",
    "We also employ the so called \"target network\" - a copy of neural network weights to be used for reference Q-values:\n",
    "\n",
    "The network itself is an exact copy of agent network, but it's parameters are not trained. Instead, they are moved here from agent's actual network every so often.\n",
    "\n",
    "$$ Q_{reference}(s,a) = r + \\gamma \\cdot \\max _{a'} Q_{target}(s',a') $$\n",
    "\n",
    "![img](https://github.com/yandexdataschool/Practical_RL/raw/master/yet_another_week/_resource/target_net.png)"
   ]
  },
  {
   "cell_type": "code",
   "execution_count": 25,
   "metadata": {
    "colab": {
     "base_uri": "https://localhost:8080/"
    },
    "id": "_nEHtGkMX90c",
    "outputId": "bdebdad3-d847-4a0b-b9ea-40b2ac09e41d"
   },
   "outputs": [
    {
     "data": {
      "text/plain": [
       "<All keys matched successfully>"
      ]
     },
     "execution_count": 25,
     "metadata": {},
     "output_type": "execute_result"
    }
   ],
   "source": [
    "target_network = DQNAgent(agent.state_shape, agent.n_actions, epsilon=0.5).to(device)\n",
    "# This is how you can load weights from agent into target network\n",
    "target_network.load_state_dict(agent.state_dict())"
   ]
  },
  {
   "cell_type": "markdown",
   "metadata": {
    "id": "7zXeHHMrX90f"
   },
   "source": [
    "### Learning with... Q-learning\n",
    "Here we write a function similar to `agent.update` from tabular q-learning."
   ]
  },
  {
   "cell_type": "markdown",
   "metadata": {
    "id": "gY2o1MCMX90g"
   },
   "source": [
    "Compute Q-learning TD error:\n",
    "\n",
    "$$ L = { 1 \\over N} \\sum_i [ Q_{\\theta}(s,a) - Q_{reference}(s,a) ] ^2 $$\n",
    "\n",
    "With Q-reference defined as\n",
    "\n",
    "$$ Q_{reference}(s,a) = r(s,a) + \\gamma \\cdot max_{a'} Q_{target}(s', a') $$\n",
    "\n",
    "Where\n",
    "* $Q_{target}(s',a')$ denotes Q-value of next state and next action predicted by __target_network__\n",
    "* $s, a, r, s'$ are current state, action, reward and next state respectively\n",
    "* $\\gamma$ is a discount factor defined two cells above.\n",
    "\n",
    "\n",
    "__Note 1:__ there's an example input below. Feel free to experiment with it before you write the function.\n",
    "\n",
    "__Note 2:__ compute_td_loss is a source of 99% of bugs in this homework. If reward doesn't improve, it often helps to go through it line by line [with a rubber duck](https://rubberduckdebugging.com/).\n",
    "\n",
    "**Double DQN (+2 pts)**\n",
    "\n",
    "$$ Q_{reference}(s,a) = r(s, a) + \\gamma \\cdot\n",
    "Q_{target}(s',argmax_{a'}Q_\\theta(s', a')) $$"
   ]
  },
  {
   "cell_type": "code",
   "execution_count": 26,
   "metadata": {
    "id": "LyDN1NiqX90h"
   },
   "outputs": [],
   "source": [
    "def compute_td_loss(states, actions, rewards, next_states, is_done,\n",
    "                    agent, target_network,\n",
    "                    gamma=0.99,\n",
    "                    check_shapes=False,\n",
    "                    device=device):\n",
    "    \"\"\" Compute td loss using torch operations only. Use the formulae above. \"\"\"\n",
    "    states = torch.tensor(states, device=device, dtype=torch.float32)    # shape: [batch_size, *state_shape]\n",
    "    actions = torch.tensor(actions, device=device, dtype=torch.int64)    # shape: [batch_size]\n",
    "    rewards = torch.tensor(rewards, device=device, dtype=torch.float32)  # shape: [batch_size]\n",
    "    # shape: [batch_size, *state_shape]\n",
    "    next_states = torch.tensor(next_states, device=device, dtype=torch.float)\n",
    "    is_done = torch.tensor(\n",
    "        is_done.astype('float32'),\n",
    "        device=device,\n",
    "        dtype=torch.float32,\n",
    "    )  # shape: [batch_size]\n",
    "    is_not_done = 1 - is_done\n",
    "\n",
    "    # get q-values for all actions in current states\n",
    "    predicted_qvalues = agent(states)  # shape: [batch_size, n_actions]\n",
    "\n",
    "    # compute q-values for all actions in next states\n",
    "    predicted_next_qvalues = target_network(next_states)  # shape: [batch_size, n_actions]\n",
    "    \n",
    "    # select q-values for chosen actions\n",
    "    predicted_qvalues_for_actions = predicted_qvalues[range(len(actions)), actions]  # shape: [batch_size]\n",
    "\n",
    "    # compute V*(next_states) using predicted next q-values\n",
    "    next_state_values, _ = predicted_next_qvalues.max(dim=1)\n",
    "\n",
    "    assert next_state_values.dim() == 1 and next_state_values.shape[0] == states.shape[0], \\\n",
    "        \"must predict one value per state\"\n",
    "\n",
    "    # compute \"target q-values\" for loss - it's what's inside square parentheses in the above formula.\n",
    "    # at the last state use the simplified formula: Q(s,a) = r(s,a) since s' doesn't exist\n",
    "    # you can multiply next state values by is_not_done to achieve this.\n",
    "    target_qvalues_for_actions = rewards + gamma*is_not_done*next_state_values\n",
    "\n",
    "    # mean squared error loss to minimize\n",
    "    loss = torch.mean((predicted_qvalues_for_actions - target_qvalues_for_actions.detach()) ** 2)\n",
    "\n",
    "    if check_shapes:\n",
    "        assert predicted_next_qvalues.data.dim() == 2, \\\n",
    "            \"make sure you predicted q-values for all actions in next state\"\n",
    "        assert next_state_values.data.dim() == 1, \\\n",
    "            \"make sure you computed V(s') as maximum over just the actions axis and not all axes\"\n",
    "        assert target_qvalues_for_actions.data.dim() == 1, \\\n",
    "            \"there's something wrong with target q-values, they must be a vector\"\n",
    "\n",
    "    return loss"
   ]
  },
  {
   "cell_type": "markdown",
   "metadata": {
    "id": "zOJrW1p4X90i"
   },
   "source": [
    "Sanity checks"
   ]
  },
  {
   "cell_type": "code",
   "execution_count": 27,
   "metadata": {
    "id": "-WVuce8FX90j"
   },
   "outputs": [],
   "source": [
    "obs_batch, act_batch, reward_batch, next_obs_batch, is_done_batch = exp_replay.sample(10)\n",
    "\n",
    "loss = compute_td_loss(obs_batch, act_batch, reward_batch, next_obs_batch, is_done_batch,\n",
    "                       agent, target_network,\n",
    "                       gamma=0.99, check_shapes=True)\n",
    "loss.backward()\n",
    "\n",
    "assert loss.requires_grad and tuple(loss.data.size()) == (), \\\n",
    "    \"you must return scalar loss - mean over batch\"\n",
    "assert np.any(next(agent.parameters()).grad.data.cpu().numpy() != 0), \\\n",
    "    \"loss must be differentiable w.r.t. network weights\"\n",
    "assert np.all(next(target_network.parameters()).grad is None), \\\n",
    "    \"target network should not have grads\""
   ]
  },
  {
   "cell_type": "markdown",
   "metadata": {
    "id": "Z-t0s7OSX90k"
   },
   "source": [
    "## Main loop (3 pts)\n",
    "\n",
    "**If deadline is tonight and it has not converged:** It is ok. Send the notebook today and when it converges send it again.\n",
    "If the code is exactly the same points will not be discounted.\n",
    "\n",
    "It's time to put everything together and see if it learns anything."
   ]
  },
  {
   "cell_type": "code",
   "execution_count": 28,
   "metadata": {
    "id": "NuXsZN3aX90l"
   },
   "outputs": [],
   "source": [
    "from tqdm import trange\n",
    "from IPython.display import clear_output\n",
    "import matplotlib.pyplot as plt\n",
    "%matplotlib inline"
   ]
  },
  {
   "cell_type": "code",
   "execution_count": 29,
   "metadata": {
    "colab": {
     "base_uri": "https://localhost:8080/"
    },
    "id": "-ezRD6QLX90m",
    "outputId": "ec0a8208-0b0c-4da6-d67a-3561a334ccbb"
   },
   "outputs": [
    {
     "data": {
      "text/plain": [
       "<torch._C.Generator at 0x7f81d0076f70>"
      ]
     },
     "execution_count": 29,
     "metadata": {},
     "output_type": "execute_result"
    }
   ],
   "source": [
    "seed = 42\n",
    "random.seed(seed)\n",
    "np.random.seed(seed)\n",
    "torch.manual_seed(seed)"
   ]
  },
  {
   "cell_type": "code",
   "execution_count": 30,
   "metadata": {
    "colab": {
     "base_uri": "https://localhost:8080/"
    },
    "id": "sQKr4hSSX90n",
    "outputId": "13d9d7d5-5fc7-4906-8256-56c3bede49a9"
   },
   "outputs": [
    {
     "data": {
      "text/plain": [
       "<All keys matched successfully>"
      ]
     },
     "execution_count": 30,
     "metadata": {},
     "output_type": "execute_result"
    }
   ],
   "source": [
    "env = make_env(seed)\n",
    "state_shape = env.observation_space.shape\n",
    "n_actions = env.action_space.n\n",
    "state = env.reset()\n",
    "\n",
    "agent = DQNAgent(state_shape, n_actions, epsilon=1).to(device)\n",
    "target_network = DQNAgent(state_shape, n_actions).to(device)\n",
    "target_network.load_state_dict(agent.state_dict())"
   ]
  },
  {
   "cell_type": "markdown",
   "metadata": {
    "id": "wJh9aPGTX90n"
   },
   "source": [
    "Buffer of size $10^4$ fits into 5 Gb RAM.\n",
    "\n",
    "Larger sizes ($10^5$ and $10^6$ are common) can be used. It can improve the learning, but $10^4$ is quite enough. $10^2$ will probably fail learning."
   ]
  },
  {
   "cell_type": "code",
   "execution_count": 31,
   "metadata": {
    "colab": {
     "base_uri": "https://localhost:8080/"
    },
    "id": "7SRZqIzBX90o",
    "outputId": "3aa5f634-0a7c-4f78-b528-b0e8e3ca1901"
   },
   "outputs": [
    {
     "name": "stdout",
     "output_type": "stream",
     "text": [
      "10000\n"
     ]
    }
   ],
   "source": [
    "REPLAY_BUFFER_SIZE = 10**4\n",
    "N_STEPS = 100\n",
    "\n",
    "exp_replay = ReplayBuffer(REPLAY_BUFFER_SIZE)\n",
    "for i in range(REPLAY_BUFFER_SIZE // N_STEPS):\n",
    "    if not utils.is_enough_ram(min_available_gb=0.1):\n",
    "        print(\"\"\"\n",
    "            Less than 100 Mb RAM available. \n",
    "            Make sure the buffer size in not too huge.\n",
    "            Also check, maybe other processes consume RAM heavily.\n",
    "            \"\"\"\n",
    "             )\n",
    "        break\n",
    "    play_and_record(state, agent, env, exp_replay, n_steps=N_STEPS)\n",
    "    if len(exp_replay) == REPLAY_BUFFER_SIZE:\n",
    "        break\n",
    "print(len(exp_replay))"
   ]
  },
  {
   "cell_type": "code",
   "execution_count": 32,
   "metadata": {
    "id": "PrHBiYb9X90p"
   },
   "outputs": [],
   "source": [
    "timesteps_per_epoch = 1\n",
    "batch_size = 16\n",
    "total_steps = 3 * 10**6\n",
    "decay_steps = 10**6\n",
    "\n",
    "opt = torch.optim.Adam(agent.parameters(), lr=1e-4)\n",
    "\n",
    "init_epsilon = 1\n",
    "final_epsilon = 0.1\n",
    "\n",
    "loss_freq = 50\n",
    "refresh_target_network_freq = 5000\n",
    "eval_freq = 5000\n",
    "\n",
    "max_grad_norm = 50\n",
    "\n",
    "n_lives = 5"
   ]
  },
  {
   "cell_type": "code",
   "execution_count": 33,
   "metadata": {
    "id": "RDooSeQZX90q"
   },
   "outputs": [],
   "source": [
    "mean_rw_history = []\n",
    "td_loss_history = []\n",
    "grad_norm_history = []\n",
    "initial_state_v_history = []\n",
    "step = 0"
   ]
  },
  {
   "cell_type": "code",
   "execution_count": 34,
   "metadata": {
    "id": "C0iQWD2_X90r"
   },
   "outputs": [],
   "source": [
    "import time\n",
    "\n",
    "def wait_for_keyboard_interrupt():\n",
    "    try:\n",
    "        while True:\n",
    "            time.sleep(1)\n",
    "    except KeyboardInterrupt:\n",
    "        pass"
   ]
  },
  {
   "cell_type": "code",
   "execution_count": 35,
   "metadata": {
    "colab": {
     "base_uri": "https://localhost:8080/",
     "height": 589
    },
    "id": "LKGA2g8qX90s",
    "outputId": "aca30b61-e20d-4ae2-a98a-cf8eeaab632d"
   },
   "outputs": [
    {
     "name": "stdout",
     "output_type": "stream",
     "text": [
      "buffer size = 10000, epsilon = 0.10000\n"
     ]
    },
    {
     "data": {
      "image/png": "[encoded data removed]",
      "text/plain": [
       "<Figure size 1600x900 with 4 Axes>"
      ]
     },
     "metadata": {},
     "output_type": "display_data"
    },
    {
     "name": "stderr",
     "output_type": "stream",
     "text": [
      "100%|██████████████████████████████| 3000001/3000001 [3:19:35<00:00, 250.50it/s]\n"
     ]
    }
   ],
   "source": [
    "state = env.reset()\n",
    "with trange(step, total_steps + 1) as progress_bar:\n",
    "    for step in progress_bar:\n",
    "        if not utils.is_enough_ram():\n",
    "            print('less that 100 Mb RAM available, freezing')\n",
    "            print('make sure everything is ok and use KeyboardInterrupt to continue')\n",
    "            wait_for_keyboard_interrupt()\n",
    "\n",
    "        agent.epsilon = utils.linear_decay(init_epsilon, final_epsilon, step, decay_steps)\n",
    "\n",
    "        # play\n",
    "        _, state = play_and_record(state, agent, env, exp_replay, timesteps_per_epoch)\n",
    "\n",
    "        # train\n",
    "        batches = exp_replay.sample(batch_size)\n",
    "\n",
    "        loss = compute_td_loss(*batches, agent, target_network)\n",
    "\n",
    "        loss.backward()\n",
    "        grad_norm = nn.utils.clip_grad_norm_(agent.parameters(), max_grad_norm)\n",
    "        opt.step()\n",
    "        opt.zero_grad()\n",
    "\n",
    "        if step % loss_freq == 0:\n",
    "            td_loss_history.append(loss.data.cpu().item())\n",
    "            grad_norm_history.append(grad_norm.cpu().item())\n",
    "\n",
    "        if step % refresh_target_network_freq == 0:\n",
    "            # Load agent weights into target_network\n",
    "            target_network.load_state_dict(agent.state_dict())\n",
    "\n",
    "        if step % eval_freq == 0:\n",
    "            mean_rw_history.append(evaluate(\n",
    "                make_env(clip_rewards=True, seed=step), agent, n_games=3 * n_lives, greedy=True)\n",
    "            )\n",
    "            initial_state_q_values = agent.get_qvalues(\n",
    "                [make_env(seed=step).reset()]\n",
    "            )\n",
    "            initial_state_v_history.append(np.max(initial_state_q_values))\n",
    "\n",
    "            clear_output(True)\n",
    "            print(\"buffer size = %i, epsilon = %.5f\" %\n",
    "                (len(exp_replay), agent.epsilon))\n",
    "\n",
    "            plt.figure(figsize=[16, 9])\n",
    "\n",
    "            plt.subplot(2, 2, 1)\n",
    "            plt.title(\"Mean reward per life\")\n",
    "            plt.plot(mean_rw_history)\n",
    "            plt.grid()\n",
    "\n",
    "            assert not np.isnan(td_loss_history[-1])\n",
    "            plt.subplot(2, 2, 2)\n",
    "            plt.title(\"TD loss history (smoothened)\")\n",
    "            plt.plot(utils.smoothen(td_loss_history))\n",
    "            plt.grid()\n",
    "\n",
    "            plt.subplot(2, 2, 3)\n",
    "            plt.title(\"Initial state V\")\n",
    "            plt.plot(initial_state_v_history)\n",
    "            plt.grid()\n",
    "\n",
    "            plt.subplot(2, 2, 4)\n",
    "            plt.title(\"Grad norm history (smoothened)\")\n",
    "            plt.plot(utils.smoothen(grad_norm_history))\n",
    "            plt.grid()\n",
    "\n",
    "            plt.show()"
   ]
  },
  {
   "cell_type": "markdown",
   "metadata": {
    "id": "NK1iL9j3X90t"
   },
   "source": [
    "Agent is evaluated for 1 life, not for a whole episode of 5 lives. Rewards in evaluation are also truncated. Cuz this is what environment the agent is learning in and in this way mean rewards per life can be compared with initial state value\n",
    "\n",
    "**The goal is to get 15 points in the real env**. So 3 or better 4 points in the preprocessed one will probably be enough. You can interrupt learning then."
   ]
  },
  {
   "cell_type": "markdown",
   "metadata": {
    "id": "BdfLFeU7X90u"
   },
   "source": [
    "Final scoring is done on a whole episode with all 5 lives."
   ]
  },
  {
   "cell_type": "code",
   "execution_count": 36,
   "metadata": {
    "id": "qK5bw_arX90u"
   },
   "outputs": [
    {
     "name": "stdout",
     "output_type": "stream",
     "text": [
      "final score: 58.0\n",
      "Cool!\n"
     ]
    }
   ],
   "source": [
    "final_score = evaluate(\n",
    "  make_env(clip_rewards=False, seed=9),\n",
    "    agent, n_games=30, greedy=True, t_max=10 * 1000\n",
    ") * n_lives\n",
    "print('final score:', final_score)\n",
    "assert final_score >= 15, 'not as cool as DQN can'\n",
    "print('Cool!')"
   ]
  },
  {
   "cell_type": "markdown",
   "metadata": {
    "id": "ueGODG9XX90u"
   },
   "source": [
    "## How to interpret plots:\n",
    "\n",
    "This aint no supervised learning so don't expect anything to improve monotonously. \n",
    "* **TD loss** is the MSE between agent's current Q-values and target Q-values. It may slowly increase or decrease, it's ok. The \"not ok\" behavior includes going NaN or stayng at exactly zero before agent has perfect performance.\n",
    "* **grad norm** just shows the intensivity of training. Not ok is growing to values of about 100 (or maybe even 50) though it depends on network architecture.\n",
    "* **mean reward** is the expected sum of r(s,a) agent gets over the full game session. It will oscillate, but on average it should get higher over time (after a few thousand iterations...). \n",
    " * In basic q-learning implementation it takes about 40k steps to \"warm up\" agent before it starts to get better.\n",
    "* **Initial state V** is the expected discounted reward for episode in the oppinion of the agent. It should behave more smoothly than **mean reward**. It should get higher over time but sometimes can experience drawdowns because of the agaent's overestimates.\n",
    "* **buffer size** - this one is simple. It should go up and cap at max size.\n",
    "* **epsilon** - agent's willingness to explore. If you see that agent's already at 0.01 epsilon before it's average reward is above 0 - it means you need to increase epsilon. Set it back to some 0.2 - 0.5 and decrease the pace at which it goes down.\n",
    "* Smoothing of plots is done with a gaussian kernel\n",
    "\n",
    "At first your agent will lose quickly. Then it will learn to suck less and at least hit the ball a few times before it loses. Finally it will learn to actually score points.\n",
    "\n",
    "**Training will take time.** A lot of it actually. Probably you will not see any improvment during first **150k** time steps (note that by default in this notebook agent is evaluated every 5000 time steps).\n",
    "\n",
    "But hey, long training time isn't _that_ bad:\n",
    "![img](https://github.com/yandexdataschool/Practical_RL/raw/master/yet_another_week/_resource/training.png)"
   ]
  },
  {
   "cell_type": "markdown",
   "metadata": {
    "id": "PkceOPs_X90w"
   },
   "source": [
    "## About hyperparameters:\n",
    "\n",
    "The task has something in common with supervised learning: loss is optimized through the buffer (instead of Train dataset). But the distribution of states and actions in the buffer **is not stationary** and depends on the policy that generated it. It can even happen that the mean TD error across the buffer is very low but the performance is extremely poor (imagine the agent collecting data to the buffer always manages to avoid the ball).\n",
    "\n",
    "* Total timesteps and training time: It seems to be so huge, but actually it is normal for RL.\n",
    "\n",
    "* $\\epsilon$ decay shedule was taken from the original paper and is like traditional for epsilon-greedy policies. At the beginning of the training the agent's greedy policy is poor so many random actions should be taken.\n",
    "\n",
    "* Optimizer: In the original paper RMSProp was used (they did not have Adam in 2013) and it can work not worse than Adam. For us Adam was default and it worked.\n",
    "\n",
    "* lr: $10^{-3}$ would probably be too huge\n",
    "\n",
    "* batch size: This one can be very important: if it is too small the agent can fail to learn. Huge batch takes more time to process. If batch of size 8 can not be processed on the hardware you use take 2 (or even 4) batches of size 4, divide the loss on them by 2 (or 4) and make optimization step after both backward() calls in torch.\n",
    "\n",
    "* target network update frequency: has something in common with learning rate. Too frequent updates can lead to divergence. Too rare can lead to slow leraning. For millions of total timesteps thousands of inner steps seem ok. One iteration of target network updating is an iteration of the (this time approximate) $\\gamma$-compression that stands behind Q-learning. The more inner steps it makes the more accurate is the compression.\n",
    "* max_grad_norm - just huge enough. In torch clip_grad_norm also evaluates the norm before clipping and it can be convenient for logging."
   ]
  },
  {
   "cell_type": "markdown",
   "metadata": {
    "id": "zngKx1ppX90x"
   },
   "source": [
    "### Video"
   ]
  },
  {
   "cell_type": "code",
   "execution_count": 37,
   "metadata": {
    "id": "xWRBEU17X90y"
   },
   "outputs": [],
   "source": [
    "# Record sessions\n",
    "\n",
    "import gym.wrappers\n",
    "\n",
    "with gym.wrappers.Monitor(make_env(), directory=\"videos\", force=True) as env_monitor:\n",
    "    sessions = [evaluate(env_monitor, agent, n_games=n_lives, greedy=True) for _ in range(10)]"
   ]
  },
  {
   "cell_type": "code",
   "execution_count": 38,
   "metadata": {
    "id": "gv9tW5xeX90y"
   },
   "outputs": [
    {
     "ename": "IndexError",
     "evalue": "list index out of range",
     "output_type": "error",
     "traceback": [
      "\u001b[0;31m---------------------------------------------------------------------------\u001b[0m",
      "\u001b[0;31mIndexError\u001b[0m                                Traceback (most recent call last)",
      "Cell \u001b[0;32mIn [38], line 9\u001b[0m\n\u001b[1;32m      6\u001b[0m \u001b[38;5;28;01mfrom\u001b[39;00m \u001b[38;5;21;01mIPython\u001b[39;00m\u001b[38;5;21;01m.\u001b[39;00m\u001b[38;5;21;01mdisplay\u001b[39;00m \u001b[38;5;28;01mimport\u001b[39;00m HTML\n\u001b[1;32m      8\u001b[0m video_paths \u001b[38;5;241m=\u001b[39m \u001b[38;5;28msorted\u001b[39m([s \u001b[38;5;28;01mfor\u001b[39;00m s \u001b[38;5;129;01min\u001b[39;00m Path(\u001b[38;5;124m'\u001b[39m\u001b[38;5;124mvideos\u001b[39m\u001b[38;5;124m'\u001b[39m)\u001b[38;5;241m.\u001b[39miterdir() \u001b[38;5;28;01mif\u001b[39;00m s\u001b[38;5;241m.\u001b[39msuffix \u001b[38;5;241m==\u001b[39m \u001b[38;5;124m'\u001b[39m\u001b[38;5;124m.mp4\u001b[39m\u001b[38;5;124m'\u001b[39m])\n\u001b[0;32m----> 9\u001b[0m video_path \u001b[38;5;241m=\u001b[39m \u001b[43mvideo_paths\u001b[49m\u001b[43m[\u001b[49m\u001b[38;5;241;43m0\u001b[39;49m\u001b[43m]\u001b[49m  \u001b[38;5;66;03m# You can also try other indices\u001b[39;00m\n\u001b[1;32m     11\u001b[0m \u001b[38;5;28;01mif\u001b[39;00m \u001b[38;5;124m'\u001b[39m\u001b[38;5;124mgoogle.colab\u001b[39m\u001b[38;5;124m'\u001b[39m \u001b[38;5;129;01min\u001b[39;00m sys\u001b[38;5;241m.\u001b[39mmodules:\n\u001b[1;32m     12\u001b[0m     \u001b[38;5;66;03m# https://stackoverflow.com/a/57378660/1214547\u001b[39;00m\n\u001b[1;32m     13\u001b[0m     \u001b[38;5;28;01mwith\u001b[39;00m video_path\u001b[38;5;241m.\u001b[39mopen(\u001b[38;5;124m'\u001b[39m\u001b[38;5;124mrb\u001b[39m\u001b[38;5;124m'\u001b[39m) \u001b[38;5;28;01mas\u001b[39;00m fp:\n",
      "\u001b[0;31mIndexError\u001b[0m: list index out of range"
     ]
    }
   ],
   "source": [
    "# Show video. This may not work in some setups. If it doesn't\n",
    "# work for you, you can download the videos and view them locally.\n",
    "\n",
    "from pathlib import Path\n",
    "from base64 import b64encode\n",
    "from IPython.display import HTML\n",
    "\n",
    "video_paths = sorted([s for s in Path('videos').iterdir() if s.suffix == '.mp4'])\n",
    "video_path = video_paths[0]  # You can also try other indices\n",
    "\n",
    "if 'google.colab' in sys.modules:\n",
    "    # https://stackoverflow.com/a/57378660/1214547\n",
    "    with video_path.open('rb') as fp:\n",
    "        mp4 = fp.read()\n",
    "    data_url = 'data:video/mp4;base64,' + b64encode(mp4).decode()\n",
    "else:\n",
    "    data_url = str(video_path)\n",
    "\n",
    "HTML(\"\"\"\n",
    "<video width=\"640\" height=\"480\" controls>\n",
    "  <source src=\"{}\" type=\"video/mp4\">\n",
    "</video>\n",
    "\"\"\".format(data_url))"
   ]
  },
  {
   "cell_type": "markdown",
   "metadata": {
    "id": "2VWsPWc6X900"
   },
   "source": [
    "## Let's have a closer look at this.\n",
    "\n",
    "If average episode score is below 200 using all 5 lives, then probably DQN has not converged fully. But anyway let's make a more complete record of an episode."
   ]
  },
  {
   "cell_type": "code",
   "execution_count": 48,
   "metadata": {
    "id": "GZA3UXQEX901"
   },
   "outputs": [
    {
     "name": "stdout",
     "output_type": "stream",
     "text": [
      "total reward for life: 17.0\n",
      "states\n",
      "v_mc\n",
      "v_agent\n",
      "q_spreads\n",
      "td_errors\n",
      "rewards\n",
      "episode_finished\n"
     ]
    }
   ],
   "source": [
    "eval_env = make_env(clip_rewards=False)\n",
    "record = utils.play_and_log_episode(eval_env, agent)\n",
    "print('total reward for life:', np.sum(record['rewards']))\n",
    "for key in record:\n",
    "    print(key)"
   ]
  },
  {
   "cell_type": "code",
   "execution_count": 49,
   "metadata": {
    "id": "iRswcogsX901"
   },
   "outputs": [
    {
     "data": {
      "image/png": "[encoded data removed]",
      "text/plain": [
       "<Figure size 500x500 with 1 Axes>"
      ]
     },
     "metadata": {},
     "output_type": "display_data"
    }
   ],
   "source": [
    "fig = plt.figure(figsize=(5, 5))\n",
    "ax = fig.add_subplot(1, 1, 1)\n",
    "\n",
    "ax.scatter(record['v_mc'], record['v_agent'])\n",
    "ax.plot(sorted(record['v_mc']), sorted(record['v_mc']),\n",
    "       'black', linestyle='--', label='x=y')\n",
    "\n",
    "ax.grid()\n",
    "ax.legend()\n",
    "ax.set_title('State Value Estimates')\n",
    "ax.set_xlabel('Monte-Carlo')\n",
    "ax.set_ylabel('Agent')\n",
    "\n",
    "plt.show()"
   ]
  },
  {
   "cell_type": "markdown",
   "metadata": {
    "id": "27W78ZZLX901"
   },
   "source": [
    "$\\hat V_{Monte-Carlo}(s_t) = \\sum_{\\tau=0}^{episode~end} \\gamma^{\\tau-t}r_t$"
   ]
  },
  {
   "cell_type": "markdown",
   "metadata": {
    "id": "i2OdrwyGX902"
   },
   "source": [
    "Is there a big bias? It's ok, anyway it works."
   ]
  },
  {
   "cell_type": "markdown",
   "metadata": {
    "id": "ypNUGgvAX903"
   },
   "source": [
    "## Bonus I (2 pts)"
   ]
  },
  {
   "cell_type": "markdown",
   "metadata": {
    "id": "Mz5TtM7MX903"
   },
   "source": [
    "**1.** Plot several (say 3) states with high and low spreads of Q estimate by actions i.e.\n",
    "$$\\max_a \\hat Q(s,a) - \\min_a \\hat Q(s,a)\\$$\n",
    "Please take those states from different episodes to make sure that the states are really different.\n",
    "\n",
    "What should high and low spread mean at least in the world of perfect Q-fucntions?\n",
    "\n",
    "Comment the states you like most.\n",
    "\n",
    "**2.** Plot several (say 3) states with high td-error and several states with high values of\n",
    "$$| \\hat V_{Monte-Carlo}(s) - \\hat V_{agent}(s)|,$$ \n",
    "$$\\hat V_{agent}(s)=\\max_a \\hat Q(s,a).$$ Please take those states from different episodes to make sure that the states are really different. From what part (i.e. beginning, middle, end) of an episode did these states come from?\n",
    "\n",
    "Comment the states you like most."
   ]
  },
  {
   "cell_type": "code",
   "execution_count": null,
   "metadata": {
    "id": "39DW20vAX904"
   },
   "outputs": [],
   "source": [
    "from utils import play_and_log_episode, img_by_obs\n",
    "\n",
    "<YOUR CODE>"
   ]
  },
  {
   "cell_type": "markdown",
   "metadata": {
    "id": "KhQRHE7SX904"
   },
   "source": [
    "## Bonus II (1-5 pts). Get High Score!\n",
    "\n",
    "1 point to you for each 50 points of your agent. Truncated by 5 points. Starting with 50 points, **not** 50 + threshold.\n",
    "\n",
    "One way is to train for several days and use heavier hardware (why not actually).\n",
    "\n",
    "Another way is to apply modifications (see **Bonus III**)."
   ]
  },
  {
   "cell_type": "markdown",
   "metadata": {
    "id": "RUNgJbpWX904"
   },
   "source": [
    "## Bonus III (2+ pts). Apply modifications to DQN.\n",
    "\n",
    "For inspiration see [Rainbow](https://arxiv.org/abs/1710.02298) - a version of q-learning that combines lots of them.\n",
    "\n",
    "Points for Bonus II and Bonus III fully stack. So if modified agent gets score 250+ you get 5 pts for Bonus II + points for modifications. If the final score is 40 then you get the points for modifications.\n",
    "\n",
    "\n",
    "Some modifications:\n",
    "* [Prioritized experience replay](https://arxiv.org/abs/1511.05952) (5 pts for your own implementation, 3 pts for using a ready one)\n",
    "* [double q-learning](https://arxiv.org/abs/1509.06461) (2 pts)\n",
    "* [dueling q-learning](https://arxiv.org/abs/1511.06581) (2 pts)\n",
    "* multi-step heuristics (see [Rainbow](https://arxiv.org/abs/1710.02298)) (3 pts)\n",
    "* [Noisy Nets](https://arxiv.org/abs/1706.10295) (3 pts)\n",
    "* [distributional RL](https://arxiv.org/abs/1707.06887)(distributional and distributed stand for different things here) (5 pts)\n",
    "* Other modifications (2+ pts depending on complexity)"
   ]
  },
  {
   "cell_type": "markdown",
   "metadata": {
    "id": "XBNDnGEdX907"
   },
   "source": [
    "## Bonus IV (4+ pts). Distributed RL.\n",
    "\n",
    "Solve the task in a distributed way. It can strongly speed up learning. See [article](https://arxiv.org/pdf/1602.01783.pdf) or some guides."
   ]
  },
  {
   "cell_type": "markdown",
   "metadata": {
    "id": "6Ck5KWJtX907"
   },
   "source": [
    "**As usual bonus points for all the tasks fully stack.**"
   ]
  },
  {
   "cell_type": "code",
   "execution_count": null,
   "metadata": {
    "id": "6PNPXHMqX908"
   },
   "outputs": [],
   "source": []
  }
 ],
 "metadata": {
  "accelerator": "GPU",
  "colab": {
   "collapsed_sections": [
    "zngKx1ppX90x"
   ],
   "provenance": []
  },
  "gpuClass": "standard",
  "kernelspec": {
   "display_name": "Python 3 (ipykernel)",
   "language": "python",
   "name": "python3"
  },
  "language_info": {
   "codemirror_mode": {
    "name": "ipython",
    "version": 3
   },
   "file_extension": ".py",
   "mimetype": "text/x-python",
   "name": "python",
   "nbconvert_exporter": "python",
   "pygments_lexer": "ipython3",
   "version": "3.10.8"
  }
 },
 "nbformat": 4,
 "nbformat_minor": 1
}
